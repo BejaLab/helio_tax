{
 "cells": [
  {
   "cell_type": "markdown",
   "metadata": {},
   "source": [
    "# Merge onecodex tax to graftM rhodopsin contigs"
   ]
  },
  {
   "cell_type": "code",
   "execution_count": 1,
   "metadata": {},
   "outputs": [],
   "source": [
    "import pandas as pd\n",
    "import seaborn as sns\n",
    "import matplotlib.pyplot as plt\n",
    "%matplotlib inline"
   ]
  },
  {
   "cell_type": "markdown",
   "metadata": {},
   "source": [
    "## load graftM classification"
   ]
  },
  {
   "cell_type": "code",
   "execution_count": 3,
   "metadata": {},
   "outputs": [],
   "source": [
    "graftm_mic = pd.read_csv(\"./data/graftm_tsv/MIC_nr_read_tax.tsv\", sep=\"\\t\", names=[\"orf\", \"rhod_classification\"])"
   ]
  },
  {
   "cell_type": "code",
   "execution_count": 4,
   "metadata": {},
   "outputs": [],
   "source": [
    "graftm_mic[\"tara\"] = \"MIC\""
   ]
  },
  {
   "cell_type": "code",
   "execution_count": 5,
   "metadata": {},
   "outputs": [],
   "source": [
    "graftm_vir = pd.read_csv(\"./data/graftm_tsv/VIR_nr_read_tax.tsv\", sep=\"\\t\", names=[\"orf\", \"rhod_classification\"])"
   ]
  },
  {
   "cell_type": "code",
   "execution_count": 6,
   "metadata": {},
   "outputs": [],
   "source": [
    "graftm_vir[\"tara\"] = \"VIR\""
   ]
  },
  {
   "cell_type": "code",
   "execution_count": 7,
   "metadata": {},
   "outputs": [],
   "source": [
    "graftm = pd.concat([graftm_mic, graftm_vir])"
   ]
  },
  {
   "cell_type": "code",
   "execution_count": 8,
   "metadata": {},
   "outputs": [],
   "source": [
    "graftm[\"contig\"] = graftm[\"orf\"].apply(lambda x: \"_\".join(x.split(\"_\")[:2]))"
   ]
  },
  {
   "cell_type": "code",
   "execution_count": 9,
   "metadata": {},
   "outputs": [],
   "source": [
    "def clean_classification(x):\n",
    "    try:\n",
    "        rhod_type = x.split(\";\")[1]\n",
    "        rhod_type = rhod_type.replace(\"k__\",\"\").strip()\n",
    "        return rhod_type\n",
    "    except IndexError:\n",
    "        return \"Unclassified\"\n",
    "        "
   ]
  },
  {
   "cell_type": "code",
   "execution_count": 10,
   "metadata": {},
   "outputs": [],
   "source": [
    "graftm[\"rhod_classification\"] = graftm[\"rhod_classification\"].apply(clean_classification)"
   ]
  },
  {
   "cell_type": "code",
   "execution_count": 11,
   "metadata": {},
   "outputs": [],
   "source": [
    "graftm.to_csv('./results/contig_rhod_classification.tsv', sep='\\t', index=False)"
   ]
  },
  {
   "cell_type": "markdown",
   "metadata": {},
   "source": [
    "## load onecodex classifications"
   ]
  },
  {
   "cell_type": "markdown",
   "metadata": {},
   "source": [
    "To add the taxid names we need to:\n",
    "\n",
    "1. replace the `Passed Filter` T values with C (the reads classified in kaiju are marked as C)\n",
    "2. rearrange the tsv file so the taxid variable is the 3rd column\n",
    "3. ww add the tax names"
   ]
  },
  {
   "cell_type": "markdown",
   "metadata": {},
   "source": [
    "`ncbi_tax` can be found in the folder: `/data/Pepe/bpepe/projects/rhodopsin_hunt/2018-05-01`"
   ]
  },
  {
   "cell_type": "markdown",
   "metadata": {},
   "source": [
    "`zcat mic.contigs.fasta.results.tsv.gz > mic.tsv`\n",
    "\n",
    "`awk -v OFS=\"\\t\" -F\"\\t\" '{print $4,$3,$1,$2}' mic.tsv > mic.fake_kaiju.out`\n",
    "\n",
    "`sed -i -e 's/^T/C/g' *.fake_kaiju.out`\n",
    "\n",
    "`find . -name '*.fake_kaiju.out' | parallel 'addTaxonNames -t ../ncbi_tax/nodes.dmp -n ../ncbi_tax/names.dmp -i {} -o {.}_full_names.out -r superkingdom,phylum,order,class,family,genus,species'`"
   ]
  },
  {
   "cell_type": "code",
   "execution_count": 12,
   "metadata": {},
   "outputs": [],
   "source": [
    "onecodex_mic = pd.read_csv(\"./data/onecodex/mic.fake_kaiju_full_names.out\",\\\n",
    "                           sep=\"\\t\",\\\n",
    "                           names=[\"status\", \"seq_len\", \"taxid\", \"N hits\",\"full_tax\"],\\\n",
    "                          skiprows=1)"
   ]
  },
  {
   "cell_type": "code",
   "execution_count": 13,
   "metadata": {},
   "outputs": [
    {
     "data": {
      "text/html": [
       "<div>\n",
       "<style scoped>\n",
       "    .dataframe tbody tr th:only-of-type {\n",
       "        vertical-align: middle;\n",
       "    }\n",
       "\n",
       "    .dataframe tbody tr th {\n",
       "        vertical-align: top;\n",
       "    }\n",
       "\n",
       "    .dataframe thead th {\n",
       "        text-align: right;\n",
       "    }\n",
       "</style>\n",
       "<table border=\"1\" class=\"dataframe\">\n",
       "  <thead>\n",
       "    <tr style=\"text-align: right;\">\n",
       "      <th></th>\n",
       "      <th>status</th>\n",
       "      <th>seq_len</th>\n",
       "      <th>taxid</th>\n",
       "      <th>N hits</th>\n",
       "      <th>full_tax</th>\n",
       "    </tr>\n",
       "  </thead>\n",
       "  <tbody>\n",
       "    <tr>\n",
       "      <th>0</th>\n",
       "      <td>C</td>\n",
       "      <td>6465</td>\n",
       "      <td>561</td>\n",
       "      <td>3</td>\n",
       "      <td>Bacteria; Proteobacteria; Enterobacterales; Ga...</td>\n",
       "    </tr>\n",
       "    <tr>\n",
       "      <th>1</th>\n",
       "      <td>F</td>\n",
       "      <td>4976</td>\n",
       "      <td>1951730</td>\n",
       "      <td>16</td>\n",
       "      <td>NaN</td>\n",
       "    </tr>\n",
       "    <tr>\n",
       "      <th>2</th>\n",
       "      <td>C</td>\n",
       "      <td>12444</td>\n",
       "      <td>1696175</td>\n",
       "      <td>146</td>\n",
       "      <td>Bacteria; Proteobacteria; Pelagibacterales; Al...</td>\n",
       "    </tr>\n",
       "    <tr>\n",
       "      <th>3</th>\n",
       "      <td>C</td>\n",
       "      <td>4263</td>\n",
       "      <td>0</td>\n",
       "      <td>0</td>\n",
       "      <td>NaN</td>\n",
       "    </tr>\n",
       "    <tr>\n",
       "      <th>4</th>\n",
       "      <td>C</td>\n",
       "      <td>5475</td>\n",
       "      <td>1977865</td>\n",
       "      <td>87</td>\n",
       "      <td>Bacteria; Proteobacteria; Pelagibacterales; Al...</td>\n",
       "    </tr>\n",
       "  </tbody>\n",
       "</table>\n",
       "</div>"
      ],
      "text/plain": [
       "  status  seq_len    taxid  N hits  \\\n",
       "0      C     6465      561       3   \n",
       "1      F     4976  1951730      16   \n",
       "2      C    12444  1696175     146   \n",
       "3      C     4263        0       0   \n",
       "4      C     5475  1977865      87   \n",
       "\n",
       "                                            full_tax  \n",
       "0  Bacteria; Proteobacteria; Enterobacterales; Ga...  \n",
       "1                                                NaN  \n",
       "2  Bacteria; Proteobacteria; Pelagibacterales; Al...  \n",
       "3                                                NaN  \n",
       "4  Bacteria; Proteobacteria; Pelagibacterales; Al...  "
      ]
     },
     "execution_count": 13,
     "metadata": {},
     "output_type": "execute_result"
    }
   ],
   "source": [
    "onecodex_mic.head()"
   ]
  },
  {
   "cell_type": "code",
   "execution_count": 14,
   "metadata": {},
   "outputs": [],
   "source": [
    "onecodex_vir = pd.read_csv(\"./data/onecodex/vir.fake_kaiju_full_names.out\",\\\n",
    "                           sep=\"\\t\",\\\n",
    "                           names=[\"status\", \"seq_len\", \"taxid\", \"N hits\",\"full_tax\"],\\\n",
    "                          skiprows=1)"
   ]
  },
  {
   "cell_type": "markdown",
   "metadata": {},
   "source": [
    "we need to create a fasta.tsv file to assing the onecodex classifications to it's corresponding contig"
   ]
  },
  {
   "cell_type": "code",
   "execution_count": 16,
   "metadata": {},
   "outputs": [],
   "source": [
    "mic_tsv = pd.read_csv(\"./data/mic.contigs.tsv\", sep=\"\\t\", names=[\"full_contig\", \"seq\"])"
   ]
  },
  {
   "cell_type": "code",
   "execution_count": 17,
   "metadata": {},
   "outputs": [],
   "source": [
    "onecodex_mic = pd.concat([mic_tsv, onecodex_mic], axis=1)"
   ]
  },
  {
   "cell_type": "code",
   "execution_count": 18,
   "metadata": {},
   "outputs": [],
   "source": [
    "vir_tsv = pd.read_csv(\"./data/vir.contigs.tsv\", sep=\"\\t\", names=[\"full_contig\", \"seq\"])"
   ]
  },
  {
   "cell_type": "code",
   "execution_count": 19,
   "metadata": {},
   "outputs": [],
   "source": [
    "onecodex_vir = pd.concat([vir_tsv, onecodex_vir], axis=1)"
   ]
  },
  {
   "cell_type": "code",
   "execution_count": 20,
   "metadata": {},
   "outputs": [],
   "source": [
    "onecodex = pd.concat([onecodex_mic, onecodex_vir])"
   ]
  },
  {
   "cell_type": "code",
   "execution_count": 21,
   "metadata": {},
   "outputs": [],
   "source": [
    "onecodex[\"contig\"] = onecodex[\"full_contig\"].apply(lambda x: x.split(\" \")[0])"
   ]
  },
  {
   "cell_type": "code",
   "execution_count": 22,
   "metadata": {},
   "outputs": [
    {
     "name": "stdout",
     "output_type": "stream",
     "text": [
      "<class 'pandas.core.frame.DataFrame'>\n",
      "Int64Index: 1296 entries, 0 to 39\n",
      "Data columns (total 8 columns):\n",
      "full_contig    1296 non-null object\n",
      "seq            1296 non-null object\n",
      "status         1296 non-null object\n",
      "seq_len        1296 non-null int64\n",
      "taxid          1296 non-null int64\n",
      "N hits         1296 non-null int64\n",
      "full_tax       631 non-null object\n",
      "contig         1296 non-null object\n",
      "dtypes: int64(3), object(5)\n",
      "memory usage: 91.1+ KB\n"
     ]
    }
   ],
   "source": [
    "onecodex.info()"
   ]
  },
  {
   "cell_type": "code",
   "execution_count": 23,
   "metadata": {},
   "outputs": [],
   "source": [
    "def remove_whitespace_from_tax(x):\n",
    "    if isinstance(x, str):\n",
    "        x_fix = x.replace(' ;', ';')\n",
    "        x_fix = x_fix.replace('; ', ';')\n",
    "        return x_fix\n",
    "    else:\n",
    "        return x"
   ]
  },
  {
   "cell_type": "code",
   "execution_count": 24,
   "metadata": {},
   "outputs": [],
   "source": [
    "onecodex['full_tax'] = onecodex['full_tax'].apply(remove_whitespace_from_tax)"
   ]
  },
  {
   "cell_type": "code",
   "execution_count": 25,
   "metadata": {},
   "outputs": [
    {
     "data": {
      "text/html": [
       "<div>\n",
       "<style scoped>\n",
       "    .dataframe tbody tr th:only-of-type {\n",
       "        vertical-align: middle;\n",
       "    }\n",
       "\n",
       "    .dataframe tbody tr th {\n",
       "        vertical-align: top;\n",
       "    }\n",
       "\n",
       "    .dataframe thead th {\n",
       "        text-align: right;\n",
       "    }\n",
       "</style>\n",
       "<table border=\"1\" class=\"dataframe\">\n",
       "  <thead>\n",
       "    <tr style=\"text-align: right;\">\n",
       "      <th></th>\n",
       "      <th>full_contig</th>\n",
       "      <th>seq</th>\n",
       "      <th>status</th>\n",
       "      <th>seq_len</th>\n",
       "      <th>taxid</th>\n",
       "      <th>N hits</th>\n",
       "      <th>full_tax</th>\n",
       "      <th>contig</th>\n",
       "    </tr>\n",
       "  </thead>\n",
       "  <tbody>\n",
       "    <tr>\n",
       "      <th>0</th>\n",
       "      <td>SAMEA2621155_1031902 /station=TARA_072 /depth=...</td>\n",
       "      <td>GTTAATAAAGTCAGCTAAGTTATAAATTATATTCAATGCATTAGCA...</td>\n",
       "      <td>C</td>\n",
       "      <td>6465</td>\n",
       "      <td>561</td>\n",
       "      <td>3</td>\n",
       "      <td>Bacteria;Proteobacteria;Enterobacterales;Gamma...</td>\n",
       "      <td>SAMEA2621155_1031902</td>\n",
       "    </tr>\n",
       "    <tr>\n",
       "      <th>1</th>\n",
       "      <td>SAMEA2621155_1106243 /station=TARA_072 /depth=...</td>\n",
       "      <td>AGAAGATGGAGATATGGATGTATTTCGTAAAGTAAGAAAAGATTTT...</td>\n",
       "      <td>F</td>\n",
       "      <td>4976</td>\n",
       "      <td>1951730</td>\n",
       "      <td>16</td>\n",
       "      <td>NaN</td>\n",
       "      <td>SAMEA2621155_1106243</td>\n",
       "    </tr>\n",
       "    <tr>\n",
       "      <th>2</th>\n",
       "      <td>SAMEA2621155_1668496 /station=TARA_072 /depth=...</td>\n",
       "      <td>CAAAGAGTTGGTTTAGCTAGAGCGCTAGCGGCCGATCCAGAGTTTT...</td>\n",
       "      <td>C</td>\n",
       "      <td>12444</td>\n",
       "      <td>1696175</td>\n",
       "      <td>146</td>\n",
       "      <td>Bacteria;Proteobacteria;Pelagibacterales;Alpha...</td>\n",
       "      <td>SAMEA2621155_1668496</td>\n",
       "    </tr>\n",
       "    <tr>\n",
       "      <th>3</th>\n",
       "      <td>SAMEA2621155_2100246 /station=TARA_072 /depth=...</td>\n",
       "      <td>ATCAGCATGCTTTGGGAAATTTTCCAAGTGAGCATTGTATGCTTCC...</td>\n",
       "      <td>C</td>\n",
       "      <td>4263</td>\n",
       "      <td>0</td>\n",
       "      <td>0</td>\n",
       "      <td>NaN</td>\n",
       "      <td>SAMEA2621155_2100246</td>\n",
       "    </tr>\n",
       "    <tr>\n",
       "      <th>4</th>\n",
       "      <td>SAMEA2621155_2236281 /station=TARA_072 /depth=...</td>\n",
       "      <td>ATTTAAATTTTCTCTTATTTTTTGAATAAGTTTTAAAATATTTTCT...</td>\n",
       "      <td>C</td>\n",
       "      <td>5475</td>\n",
       "      <td>1977865</td>\n",
       "      <td>87</td>\n",
       "      <td>Bacteria;Proteobacteria;Pelagibacterales;Alpha...</td>\n",
       "      <td>SAMEA2621155_2236281</td>\n",
       "    </tr>\n",
       "  </tbody>\n",
       "</table>\n",
       "</div>"
      ],
      "text/plain": [
       "                                         full_contig  \\\n",
       "0  SAMEA2621155_1031902 /station=TARA_072 /depth=...   \n",
       "1  SAMEA2621155_1106243 /station=TARA_072 /depth=...   \n",
       "2  SAMEA2621155_1668496 /station=TARA_072 /depth=...   \n",
       "3  SAMEA2621155_2100246 /station=TARA_072 /depth=...   \n",
       "4  SAMEA2621155_2236281 /station=TARA_072 /depth=...   \n",
       "\n",
       "                                                 seq status  seq_len    taxid  \\\n",
       "0  GTTAATAAAGTCAGCTAAGTTATAAATTATATTCAATGCATTAGCA...      C     6465      561   \n",
       "1  AGAAGATGGAGATATGGATGTATTTCGTAAAGTAAGAAAAGATTTT...      F     4976  1951730   \n",
       "2  CAAAGAGTTGGTTTAGCTAGAGCGCTAGCGGCCGATCCAGAGTTTT...      C    12444  1696175   \n",
       "3  ATCAGCATGCTTTGGGAAATTTTCCAAGTGAGCATTGTATGCTTCC...      C     4263        0   \n",
       "4  ATTTAAATTTTCTCTTATTTTTTGAATAAGTTTTAAAATATTTTCT...      C     5475  1977865   \n",
       "\n",
       "   N hits                                           full_tax  \\\n",
       "0       3  Bacteria;Proteobacteria;Enterobacterales;Gamma...   \n",
       "1      16                                                NaN   \n",
       "2     146  Bacteria;Proteobacteria;Pelagibacterales;Alpha...   \n",
       "3       0                                                NaN   \n",
       "4      87  Bacteria;Proteobacteria;Pelagibacterales;Alpha...   \n",
       "\n",
       "                 contig  \n",
       "0  SAMEA2621155_1031902  \n",
       "1  SAMEA2621155_1106243  \n",
       "2  SAMEA2621155_1668496  \n",
       "3  SAMEA2621155_2100246  \n",
       "4  SAMEA2621155_2236281  "
      ]
     },
     "execution_count": 25,
     "metadata": {},
     "output_type": "execute_result"
    }
   ],
   "source": [
    "onecodex.head()"
   ]
  },
  {
   "cell_type": "markdown",
   "metadata": {},
   "source": [
    "## merge DFs"
   ]
  },
  {
   "cell_type": "code",
   "execution_count": 26,
   "metadata": {},
   "outputs": [],
   "source": [
    "df = onecodex.merge(graftm, on=\"contig\", how=\"left\")"
   ]
  },
  {
   "cell_type": "code",
   "execution_count": 27,
   "metadata": {},
   "outputs": [],
   "source": [
    "df['superkingdom'], df['phylum'], df['order'], \\\n",
    "df['class'], df['family'], df['genus'], df['species'] = df[\"full_tax\"].str.split(';', 6).str\n",
    "#df[\"full_tax\"].str.split(';', 6, expand=True)"
   ]
  },
  {
   "cell_type": "code",
   "execution_count": 28,
   "metadata": {},
   "outputs": [
    {
     "data": {
      "text/plain": [
       "1305"
      ]
     },
     "execution_count": 28,
     "metadata": {},
     "output_type": "execute_result"
    }
   ],
   "source": [
    "len(df)"
   ]
  },
  {
   "cell_type": "code",
   "execution_count": 29,
   "metadata": {},
   "outputs": [
    {
     "data": {
      "text/html": [
       "<div>\n",
       "<style scoped>\n",
       "    .dataframe tbody tr th:only-of-type {\n",
       "        vertical-align: middle;\n",
       "    }\n",
       "\n",
       "    .dataframe tbody tr th {\n",
       "        vertical-align: top;\n",
       "    }\n",
       "\n",
       "    .dataframe thead th {\n",
       "        text-align: right;\n",
       "    }\n",
       "</style>\n",
       "<table border=\"1\" class=\"dataframe\">\n",
       "  <thead>\n",
       "    <tr style=\"text-align: right;\">\n",
       "      <th></th>\n",
       "      <th>full_contig</th>\n",
       "      <th>seq</th>\n",
       "      <th>status</th>\n",
       "      <th>seq_len</th>\n",
       "      <th>taxid</th>\n",
       "      <th>N hits</th>\n",
       "      <th>full_tax</th>\n",
       "      <th>contig</th>\n",
       "      <th>orf</th>\n",
       "      <th>rhod_classification</th>\n",
       "      <th>tara</th>\n",
       "      <th>superkingdom</th>\n",
       "      <th>phylum</th>\n",
       "      <th>order</th>\n",
       "      <th>class</th>\n",
       "      <th>family</th>\n",
       "      <th>genus</th>\n",
       "      <th>species</th>\n",
       "    </tr>\n",
       "  </thead>\n",
       "  <tbody>\n",
       "    <tr>\n",
       "      <th>0</th>\n",
       "      <td>SAMEA2621155_1031902 /station=TARA_072 /depth=...</td>\n",
       "      <td>GTTAATAAAGTCAGCTAAGTTATAAATTATATTCAATGCATTAGCA...</td>\n",
       "      <td>C</td>\n",
       "      <td>6465</td>\n",
       "      <td>561</td>\n",
       "      <td>3</td>\n",
       "      <td>Bacteria;Proteobacteria;Enterobacterales;Gamma...</td>\n",
       "      <td>SAMEA2621155_1031902</td>\n",
       "      <td>SAMEA2621155_1031902_1</td>\n",
       "      <td>type_1</td>\n",
       "      <td>MIC</td>\n",
       "      <td>Bacteria</td>\n",
       "      <td>Proteobacteria</td>\n",
       "      <td>Enterobacterales</td>\n",
       "      <td>Gammaproteobacteria</td>\n",
       "      <td>Enterobacteriaceae</td>\n",
       "      <td>Escherichia</td>\n",
       "      <td>NA;</td>\n",
       "    </tr>\n",
       "    <tr>\n",
       "      <th>1</th>\n",
       "      <td>SAMEA2621155_1106243 /station=TARA_072 /depth=...</td>\n",
       "      <td>AGAAGATGGAGATATGGATGTATTTCGTAAAGTAAGAAAAGATTTT...</td>\n",
       "      <td>F</td>\n",
       "      <td>4976</td>\n",
       "      <td>1951730</td>\n",
       "      <td>16</td>\n",
       "      <td>NaN</td>\n",
       "      <td>SAMEA2621155_1106243</td>\n",
       "      <td>SAMEA2621155_1106243_7</td>\n",
       "      <td>type_1</td>\n",
       "      <td>MIC</td>\n",
       "      <td>NaN</td>\n",
       "      <td>NaN</td>\n",
       "      <td>NaN</td>\n",
       "      <td>NaN</td>\n",
       "      <td>NaN</td>\n",
       "      <td>NaN</td>\n",
       "      <td>NaN</td>\n",
       "    </tr>\n",
       "    <tr>\n",
       "      <th>2</th>\n",
       "      <td>SAMEA2621155_1668496 /station=TARA_072 /depth=...</td>\n",
       "      <td>CAAAGAGTTGGTTTAGCTAGAGCGCTAGCGGCCGATCCAGAGTTTT...</td>\n",
       "      <td>C</td>\n",
       "      <td>12444</td>\n",
       "      <td>1696175</td>\n",
       "      <td>146</td>\n",
       "      <td>Bacteria;Proteobacteria;Pelagibacterales;Alpha...</td>\n",
       "      <td>SAMEA2621155_1668496</td>\n",
       "      <td>SAMEA2621155_1668496_8</td>\n",
       "      <td>type_1</td>\n",
       "      <td>MIC</td>\n",
       "      <td>Bacteria</td>\n",
       "      <td>Proteobacteria</td>\n",
       "      <td>Pelagibacterales</td>\n",
       "      <td>Alphaproteobacteria</td>\n",
       "      <td>Pelagibacteraceae</td>\n",
       "      <td>NA</td>\n",
       "      <td>Pelagibacteraceae bacterium GOM-A3;</td>\n",
       "    </tr>\n",
       "    <tr>\n",
       "      <th>3</th>\n",
       "      <td>SAMEA2621155_2100246 /station=TARA_072 /depth=...</td>\n",
       "      <td>ATCAGCATGCTTTGGGAAATTTTCCAAGTGAGCATTGTATGCTTCC...</td>\n",
       "      <td>C</td>\n",
       "      <td>4263</td>\n",
       "      <td>0</td>\n",
       "      <td>0</td>\n",
       "      <td>NaN</td>\n",
       "      <td>SAMEA2621155_2100246</td>\n",
       "      <td>SAMEA2621155_2100246_2</td>\n",
       "      <td>helio</td>\n",
       "      <td>MIC</td>\n",
       "      <td>NaN</td>\n",
       "      <td>NaN</td>\n",
       "      <td>NaN</td>\n",
       "      <td>NaN</td>\n",
       "      <td>NaN</td>\n",
       "      <td>NaN</td>\n",
       "      <td>NaN</td>\n",
       "    </tr>\n",
       "    <tr>\n",
       "      <th>4</th>\n",
       "      <td>SAMEA2621155_2236281 /station=TARA_072 /depth=...</td>\n",
       "      <td>ATTTAAATTTTCTCTTATTTTTTGAATAAGTTTTAAAATATTTTCT...</td>\n",
       "      <td>C</td>\n",
       "      <td>5475</td>\n",
       "      <td>1977865</td>\n",
       "      <td>87</td>\n",
       "      <td>Bacteria;Proteobacteria;Pelagibacterales;Alpha...</td>\n",
       "      <td>SAMEA2621155_2236281</td>\n",
       "      <td>SAMEA2621155_2236281_4</td>\n",
       "      <td>type_1</td>\n",
       "      <td>MIC</td>\n",
       "      <td>Bacteria</td>\n",
       "      <td>Proteobacteria</td>\n",
       "      <td>Pelagibacterales</td>\n",
       "      <td>Alphaproteobacteria</td>\n",
       "      <td>Pelagibacteraceae</td>\n",
       "      <td>Candidatus Pelagibacter</td>\n",
       "      <td>Candidatus Pelagibacter sp. RS40;</td>\n",
       "    </tr>\n",
       "  </tbody>\n",
       "</table>\n",
       "</div>"
      ],
      "text/plain": [
       "                                         full_contig  \\\n",
       "0  SAMEA2621155_1031902 /station=TARA_072 /depth=...   \n",
       "1  SAMEA2621155_1106243 /station=TARA_072 /depth=...   \n",
       "2  SAMEA2621155_1668496 /station=TARA_072 /depth=...   \n",
       "3  SAMEA2621155_2100246 /station=TARA_072 /depth=...   \n",
       "4  SAMEA2621155_2236281 /station=TARA_072 /depth=...   \n",
       "\n",
       "                                                 seq status  seq_len    taxid  \\\n",
       "0  GTTAATAAAGTCAGCTAAGTTATAAATTATATTCAATGCATTAGCA...      C     6465      561   \n",
       "1  AGAAGATGGAGATATGGATGTATTTCGTAAAGTAAGAAAAGATTTT...      F     4976  1951730   \n",
       "2  CAAAGAGTTGGTTTAGCTAGAGCGCTAGCGGCCGATCCAGAGTTTT...      C    12444  1696175   \n",
       "3  ATCAGCATGCTTTGGGAAATTTTCCAAGTGAGCATTGTATGCTTCC...      C     4263        0   \n",
       "4  ATTTAAATTTTCTCTTATTTTTTGAATAAGTTTTAAAATATTTTCT...      C     5475  1977865   \n",
       "\n",
       "   N hits                                           full_tax  \\\n",
       "0       3  Bacteria;Proteobacteria;Enterobacterales;Gamma...   \n",
       "1      16                                                NaN   \n",
       "2     146  Bacteria;Proteobacteria;Pelagibacterales;Alpha...   \n",
       "3       0                                                NaN   \n",
       "4      87  Bacteria;Proteobacteria;Pelagibacterales;Alpha...   \n",
       "\n",
       "                 contig                     orf rhod_classification tara  \\\n",
       "0  SAMEA2621155_1031902  SAMEA2621155_1031902_1              type_1  MIC   \n",
       "1  SAMEA2621155_1106243  SAMEA2621155_1106243_7              type_1  MIC   \n",
       "2  SAMEA2621155_1668496  SAMEA2621155_1668496_8              type_1  MIC   \n",
       "3  SAMEA2621155_2100246  SAMEA2621155_2100246_2               helio  MIC   \n",
       "4  SAMEA2621155_2236281  SAMEA2621155_2236281_4              type_1  MIC   \n",
       "\n",
       "  superkingdom          phylum             order                class  \\\n",
       "0     Bacteria  Proteobacteria  Enterobacterales  Gammaproteobacteria   \n",
       "1          NaN             NaN               NaN                  NaN   \n",
       "2     Bacteria  Proteobacteria  Pelagibacterales  Alphaproteobacteria   \n",
       "3          NaN             NaN               NaN                  NaN   \n",
       "4     Bacteria  Proteobacteria  Pelagibacterales  Alphaproteobacteria   \n",
       "\n",
       "               family                    genus  \\\n",
       "0  Enterobacteriaceae              Escherichia   \n",
       "1                 NaN                      NaN   \n",
       "2   Pelagibacteraceae                       NA   \n",
       "3                 NaN                      NaN   \n",
       "4   Pelagibacteraceae  Candidatus Pelagibacter   \n",
       "\n",
       "                               species  \n",
       "0                                  NA;  \n",
       "1                                  NaN  \n",
       "2  Pelagibacteraceae bacterium GOM-A3;  \n",
       "3                                  NaN  \n",
       "4    Candidatus Pelagibacter sp. RS40;  "
      ]
     },
     "execution_count": 29,
     "metadata": {},
     "output_type": "execute_result"
    }
   ],
   "source": [
    "df.head()"
   ]
  },
  {
   "cell_type": "code",
   "execution_count": 30,
   "metadata": {},
   "outputs": [],
   "source": [
    "df.to_csv(\"./results/contig_rhod_onecodex_tax.tsv\", sep=\"\\t\", index=False)"
   ]
  },
  {
   "cell_type": "code",
   "execution_count": 31,
   "metadata": {},
   "outputs": [],
   "source": [
    "df = df.loc[df[\"rhod_classification\"] != \"Unclassified\"]"
   ]
  },
  {
   "cell_type": "code",
   "execution_count": 32,
   "metadata": {},
   "outputs": [
    {
     "data": {
      "text/plain": [
       "1272"
      ]
     },
     "execution_count": 32,
     "metadata": {},
     "output_type": "execute_result"
    }
   ],
   "source": [
    "len(df)"
   ]
  },
  {
   "cell_type": "code",
   "execution_count": 33,
   "metadata": {},
   "outputs": [],
   "source": [
    "sns.set_style(\"whitegrid\")"
   ]
  },
  {
   "cell_type": "markdown",
   "metadata": {},
   "source": [
    "---\n",
    "\n",
    "# classification plot"
   ]
  },
  {
   "cell_type": "code",
   "execution_count": 34,
   "metadata": {},
   "outputs": [],
   "source": [
    "contigs_classification_df = df[[\"rhod_classification\", \"full_tax\"]].copy()"
   ]
  },
  {
   "cell_type": "code",
   "execution_count": 35,
   "metadata": {},
   "outputs": [],
   "source": [
    "contigs_classification_df.loc[:,\"tax_classification\"] = contigs_classification_df[\"full_tax\"].isnull().values"
   ]
  },
  {
   "cell_type": "code",
   "execution_count": 36,
   "metadata": {},
   "outputs": [],
   "source": [
    "contigs_classification_df.loc[:, \"tax_classification\"] = \\\n",
    "contigs_classification_df[\"tax_classification\"].replace(False,\"Unclassified\").replace(True,\"Classified\")"
   ]
  },
  {
   "cell_type": "code",
   "execution_count": 37,
   "metadata": {},
   "outputs": [],
   "source": [
    "contigs_classification = contigs_classification_df.\\\n",
    "groupby([\"rhod_classification\", \"tax_classification\"]).agg(len)"
   ]
  },
  {
   "cell_type": "code",
   "execution_count": 38,
   "metadata": {},
   "outputs": [],
   "source": [
    "contigs_classification.reset_index(inplace=True)"
   ]
  },
  {
   "cell_type": "code",
   "execution_count": 39,
   "metadata": {},
   "outputs": [],
   "source": [
    "contigs_classification.rename(columns={\"full_tax\":\"count\"}, inplace=True)"
   ]
  },
  {
   "cell_type": "code",
   "execution_count": 40,
   "metadata": {},
   "outputs": [
    {
     "data": {
      "text/html": [
       "<div>\n",
       "<style scoped>\n",
       "    .dataframe tbody tr th:only-of-type {\n",
       "        vertical-align: middle;\n",
       "    }\n",
       "\n",
       "    .dataframe tbody tr th {\n",
       "        vertical-align: top;\n",
       "    }\n",
       "\n",
       "    .dataframe thead th {\n",
       "        text-align: right;\n",
       "    }\n",
       "</style>\n",
       "<table border=\"1\" class=\"dataframe\">\n",
       "  <thead>\n",
       "    <tr style=\"text-align: right;\">\n",
       "      <th></th>\n",
       "      <th>rhod_classification</th>\n",
       "      <th>tax_classification</th>\n",
       "      <th>count</th>\n",
       "    </tr>\n",
       "  </thead>\n",
       "  <tbody>\n",
       "    <tr>\n",
       "      <th>0</th>\n",
       "      <td>helio</td>\n",
       "      <td>Classified</td>\n",
       "      <td>156</td>\n",
       "    </tr>\n",
       "    <tr>\n",
       "      <th>1</th>\n",
       "      <td>helio</td>\n",
       "      <td>Unclassified</td>\n",
       "      <td>56</td>\n",
       "    </tr>\n",
       "    <tr>\n",
       "      <th>2</th>\n",
       "      <td>type_1</td>\n",
       "      <td>Classified</td>\n",
       "      <td>487</td>\n",
       "    </tr>\n",
       "    <tr>\n",
       "      <th>3</th>\n",
       "      <td>type_1</td>\n",
       "      <td>Unclassified</td>\n",
       "      <td>573</td>\n",
       "    </tr>\n",
       "  </tbody>\n",
       "</table>\n",
       "</div>"
      ],
      "text/plain": [
       "  rhod_classification tax_classification  count\n",
       "0               helio         Classified    156\n",
       "1               helio       Unclassified     56\n",
       "2              type_1         Classified    487\n",
       "3              type_1       Unclassified    573"
      ]
     },
     "execution_count": 40,
     "metadata": {},
     "output_type": "execute_result"
    }
   ],
   "source": [
    "contigs_classification.head()"
   ]
  },
  {
   "cell_type": "code",
   "execution_count": 41,
   "metadata": {},
   "outputs": [
    {
     "data": {
      "image/png": "[encoded data removed]",
      "text/plain": [
       "<matplotlib.figure.Figure at 0x107ea3080>"
      ]
     },
     "metadata": {},
     "output_type": "display_data"
    }
   ],
   "source": [
    "g = sns.FacetGrid(data=contigs_classification, col=\"rhod_classification\", hue=\"tax_classification\")\n",
    "g = (g.map(plt.bar, \"tax_classification\", \"count\").add_legend())\n",
    "g = (g.set_titles(\"Rhodopsin type: {col_name}\"))"
   ]
  },
  {
   "cell_type": "markdown",
   "metadata": {},
   "source": [
    "---\n",
    "# per kingdom"
   ]
  },
  {
   "cell_type": "code",
   "execution_count": 42,
   "metadata": {},
   "outputs": [],
   "source": [
    "classified = df.loc[~df[\"full_tax\"].isnull()]"
   ]
  },
  {
   "cell_type": "code",
   "execution_count": 43,
   "metadata": {},
   "outputs": [],
   "source": [
    "classification_kingdom = classified[[\"rhod_classification\", \"superkingdom\",\"full_tax\"]].copy()"
   ]
  },
  {
   "cell_type": "code",
   "execution_count": 44,
   "metadata": {},
   "outputs": [],
   "source": [
    "classification_kingdom = classification_kingdom.\\\n",
    "groupby([\"rhod_classification\", \"superkingdom\"]).agg(len)"
   ]
  },
  {
   "cell_type": "code",
   "execution_count": 45,
   "metadata": {},
   "outputs": [],
   "source": [
    "classification_kingdom.reset_index(inplace=True)"
   ]
  },
  {
   "cell_type": "code",
   "execution_count": 46,
   "metadata": {},
   "outputs": [
    {
     "data": {
      "text/html": [
       "<div>\n",
       "<style scoped>\n",
       "    .dataframe tbody tr th:only-of-type {\n",
       "        vertical-align: middle;\n",
       "    }\n",
       "\n",
       "    .dataframe tbody tr th {\n",
       "        vertical-align: top;\n",
       "    }\n",
       "\n",
       "    .dataframe thead th {\n",
       "        text-align: right;\n",
       "    }\n",
       "</style>\n",
       "<table border=\"1\" class=\"dataframe\">\n",
       "  <thead>\n",
       "    <tr style=\"text-align: right;\">\n",
       "      <th></th>\n",
       "      <th>rhod_classification</th>\n",
       "      <th>superkingdom</th>\n",
       "      <th>full_tax</th>\n",
       "    </tr>\n",
       "  </thead>\n",
       "  <tbody>\n",
       "    <tr>\n",
       "      <th>0</th>\n",
       "      <td>helio</td>\n",
       "      <td>Archaea</td>\n",
       "      <td>3</td>\n",
       "    </tr>\n",
       "    <tr>\n",
       "      <th>1</th>\n",
       "      <td>helio</td>\n",
       "      <td>Bacteria</td>\n",
       "      <td>44</td>\n",
       "    </tr>\n",
       "    <tr>\n",
       "      <th>2</th>\n",
       "      <td>helio</td>\n",
       "      <td>Eukaryota</td>\n",
       "      <td>3</td>\n",
       "    </tr>\n",
       "    <tr>\n",
       "      <th>3</th>\n",
       "      <td>helio</td>\n",
       "      <td>NA</td>\n",
       "      <td>3</td>\n",
       "    </tr>\n",
       "    <tr>\n",
       "      <th>4</th>\n",
       "      <td>helio</td>\n",
       "      <td>Viruses</td>\n",
       "      <td>3</td>\n",
       "    </tr>\n",
       "  </tbody>\n",
       "</table>\n",
       "</div>"
      ],
      "text/plain": [
       "  rhod_classification superkingdom  full_tax\n",
       "0               helio      Archaea         3\n",
       "1               helio     Bacteria        44\n",
       "2               helio    Eukaryota         3\n",
       "3               helio           NA         3\n",
       "4               helio      Viruses         3"
      ]
     },
     "execution_count": 46,
     "metadata": {},
     "output_type": "execute_result"
    }
   ],
   "source": [
    "classification_kingdom.head()"
   ]
  },
  {
   "cell_type": "code",
   "execution_count": 47,
   "metadata": {},
   "outputs": [],
   "source": [
    "classification_kingdom.rename(columns={\"full_tax\":\"count\"}, inplace=True)"
   ]
  },
  {
   "cell_type": "code",
   "execution_count": 48,
   "metadata": {},
   "outputs": [
    {
     "data": {
      "image/png": "[encoded data removed]",
      "text/plain": [
       "<matplotlib.figure.Figure at 0x108e0aba8>"
      ]
     },
     "metadata": {},
     "output_type": "display_data"
    }
   ],
   "source": [
    "g = sns.FacetGrid(data=classification_kingdom, \\\n",
    "                  col=\"rhod_classification\", \\\n",
    "                  hue=\"superkingdom\", \\\n",
    "                  sharex=False, sharey=False)\n",
    "g = (g.map(plt.bar, \"superkingdom\", \"count\").add_legend())\n",
    "g = (g.map(plt.xticks, rotation=90, color=\"black\"))\n",
    "g = (g.set_titles(\"Rhodopsin type: {col_name}\"))"
   ]
  },
  {
   "cell_type": "markdown",
   "metadata": {},
   "source": [
    "---\n",
    "# per phylum"
   ]
  },
  {
   "cell_type": "code",
   "execution_count": 49,
   "metadata": {},
   "outputs": [],
   "source": [
    "classification_phylum = classified[[\"rhod_classification\", \"superkingdom\",\"phylum\"]].copy()"
   ]
  },
  {
   "cell_type": "code",
   "execution_count": 50,
   "metadata": {},
   "outputs": [],
   "source": [
    "# add \"virus\" phylum\n",
    "classification_phylum.loc[classification_phylum.superkingdom == 'Viruses', 'phylum'] = \"Viruses\"\n",
    "# add euks\n",
    "classification_phylum.loc[classification_phylum.superkingdom == 'Eukaryota', 'phylum'] = \"Eukaryotes\""
   ]
  },
  {
   "cell_type": "code",
   "execution_count": 51,
   "metadata": {},
   "outputs": [],
   "source": [
    "#classification_phylum = classified[[\"rhod_classification\", \"phylum\",\"full_tax\"]].copy()"
   ]
  },
  {
   "cell_type": "code",
   "execution_count": 52,
   "metadata": {},
   "outputs": [],
   "source": [
    "classification_phylum = classification_phylum.\\\n",
    "groupby([\"rhod_classification\", \"phylum\"]).agg(len)"
   ]
  },
  {
   "cell_type": "code",
   "execution_count": 53,
   "metadata": {},
   "outputs": [],
   "source": [
    "classification_phylum.reset_index(inplace=True)"
   ]
  },
  {
   "cell_type": "code",
   "execution_count": 54,
   "metadata": {},
   "outputs": [],
   "source": [
    "classification_phylum.rename(columns={\"superkingdom\":\"count\"}, inplace=True)"
   ]
  },
  {
   "cell_type": "code",
   "execution_count": 55,
   "metadata": {},
   "outputs": [],
   "source": [
    "rhodopsin_phylum_count = classification_phylum.groupby('rhod_classification').agg(sum)"
   ]
  },
  {
   "cell_type": "code",
   "execution_count": 56,
   "metadata": {},
   "outputs": [
    {
     "data": {
      "text/html": [
       "<div>\n",
       "<style scoped>\n",
       "    .dataframe tbody tr th:only-of-type {\n",
       "        vertical-align: middle;\n",
       "    }\n",
       "\n",
       "    .dataframe tbody tr th {\n",
       "        vertical-align: top;\n",
       "    }\n",
       "\n",
       "    .dataframe thead th {\n",
       "        text-align: right;\n",
       "    }\n",
       "</style>\n",
       "<table border=\"1\" class=\"dataframe\">\n",
       "  <thead>\n",
       "    <tr style=\"text-align: right;\">\n",
       "      <th></th>\n",
       "      <th>count</th>\n",
       "    </tr>\n",
       "    <tr>\n",
       "      <th>rhod_classification</th>\n",
       "      <th></th>\n",
       "    </tr>\n",
       "  </thead>\n",
       "  <tbody>\n",
       "    <tr>\n",
       "      <th>helio</th>\n",
       "      <td>56</td>\n",
       "    </tr>\n",
       "    <tr>\n",
       "      <th>type_1</th>\n",
       "      <td>573</td>\n",
       "    </tr>\n",
       "  </tbody>\n",
       "</table>\n",
       "</div>"
      ],
      "text/plain": [
       "                     count\n",
       "rhod_classification       \n",
       "helio                   56\n",
       "type_1                 573"
      ]
     },
     "execution_count": 56,
     "metadata": {},
     "output_type": "execute_result"
    }
   ],
   "source": [
    "rhodopsin_phylum_count"
   ]
  },
  {
   "cell_type": "code",
   "execution_count": 57,
   "metadata": {},
   "outputs": [],
   "source": [
    "classification_phylum['phylum'] = classification_phylum['phylum'].replace('Candidatus Heimdallarchaeota', 'Asgard')"
   ]
  },
  {
   "cell_type": "code",
   "execution_count": 58,
   "metadata": {},
   "outputs": [],
   "source": [
    "classification_phylum['phylum'] = classification_phylum['phylum'].replace('Candidatus Marinimicrobia', 'Candidatus\\nMarinimicrobia')"
   ]
  },
  {
   "cell_type": "code",
   "execution_count": 59,
   "metadata": {},
   "outputs": [],
   "source": [
    "taxa = classification_phylum.phylum.unique()"
   ]
  },
  {
   "cell_type": "code",
   "execution_count": 60,
   "metadata": {},
   "outputs": [
    {
     "data": {
      "text/plain": [
       "array(['Actinobacteria', 'Bacteroidetes', 'Asgard', 'Chloroflexi',\n",
       "       'Cyanobacteria', 'Eukaryotes', 'NA', 'Proteobacteria',\n",
       "       'Verrucomicrobia', 'Viruses', 'Balneolaeota',\n",
       "       'Candidatus\\nMarinimicrobia', 'Euryarchaeota', 'Firmicutes',\n",
       "       'Planctomycetes', 'Rhodothermaeota', 'Tenericutes',\n",
       "       'Thaumarchaeota'], dtype=object)"
      ]
     },
     "execution_count": 60,
     "metadata": {},
     "output_type": "execute_result"
    }
   ],
   "source": [
    "taxa"
   ]
  },
  {
   "cell_type": "code",
   "execution_count": 61,
   "metadata": {},
   "outputs": [],
   "source": [
    "# add missing taxa\n",
    "for rhod_type in ['helio', 'type_1']:\n",
    "    for tax in taxa:\n",
    "        if tax not in classification_phylum[(classification_phylum.rhod_classification == rhod_type)]['phylum'].unique():\n",
    "            classification_phylum = classification_phylum.append({'rhod_classification':rhod_type, 'phylum':tax, 'count':0}, ignore_index=True)\n",
    "classification_phylum.sort_values(by='phylum', inplace=True)"
   ]
  },
  {
   "cell_type": "markdown",
   "metadata": {},
   "source": [
    "Calculate percentage"
   ]
  },
  {
   "cell_type": "code",
   "execution_count": 62,
   "metadata": {},
   "outputs": [],
   "source": [
    "classification_phylum.loc[classification_phylum['rhod_classification'] == 'helio', '%'] = \\\n",
    "classification_phylum.loc[classification_phylum['rhod_classification'] == 'helio', 'count']*100/rhodopsin_phylum_count.loc['helio','count']"
   ]
  },
  {
   "cell_type": "code",
   "execution_count": 63,
   "metadata": {},
   "outputs": [],
   "source": [
    "classification_phylum.loc[classification_phylum['rhod_classification'] == 'type_1', '%'] = \\\n",
    "classification_phylum.loc[classification_phylum['rhod_classification'] == 'type_1', 'count']*100/rhodopsin_phylum_count.loc['type_1','count']"
   ]
  },
  {
   "cell_type": "code",
   "execution_count": 64,
   "metadata": {},
   "outputs": [
    {
     "data": {
      "image/png": "[encoded data removed]",
      "text/plain": [
       "<matplotlib.figure.Figure at 0x108e19d30>"
      ]
     },
     "metadata": {},
     "output_type": "display_data"
    }
   ],
   "source": [
    "a4_dims = (11.7, 8.27)\n",
    "fig, ax = plt.subplots(figsize=a4_dims)\n",
    "\n",
    "color_dict = {'helio':\"#7137c8\", 'type_1':\"gray\"}\n",
    "\n",
    "g = sns.barplot(data=classification_phylum, x=\"%\", y=\"phylum\", hue=\"rhod_classification\", ax=ax, palette=color_dict)\n",
    "#for item in g.get_xticklabels():\n",
    "#    item.set_rotation(90)"
   ]
  },
  {
   "cell_type": "code",
   "execution_count": 66,
   "metadata": {},
   "outputs": [
    {
     "data": {
      "image/png": "[encoded data removed]",
      "text/plain": [
       "<matplotlib.figure.Figure at 0x10a0047b8>"
      ]
     },
     "metadata": {},
     "output_type": "display_data"
    }
   ],
   "source": [
    "a4_dims = (11.7, 8.27)\n",
    "\n",
    "color_dict = {'helio':\"#7137c8\", 'type_1':\"gray\"}\n",
    "\n",
    "#to allow space between the helio and type_1 plots we create a 3 column design\n",
    "fig, axes = plt.subplots(ncols=2, sharey=True, figsize=a4_dims, sharex=False)\n",
    "\n",
    "#barchart for type_1\n",
    "sns.barplot(x=\"count\", y=\"phylum\", hue=\"rhod_classification\", ax=axes[0], palette=color_dict, \\\n",
    "            data=classification_phylum[(classification_phylum.rhod_classification == 'type_1')])\n",
    "\n",
    "#barchart for helio\n",
    "sns.barplot(x=\"count\", y=\"phylum\", hue=\"rhod_classification\", ax=axes[1], palette=color_dict, \\\n",
    "            data=classification_phylum[(classification_phylum.rhod_classification == 'helio')])\n",
    "\n",
    "#flip left axis\n",
    "axes[0].invert_xaxis()\n",
    "\n",
    "#move the phylum\n",
    "axes[0].yaxis.tick_right()\n",
    "\n",
    "#remove legends\n",
    "axes[0].legend_.remove()\n",
    "axes[1].legend_.remove()\n",
    "\n",
    "#remove axis titles\n",
    "#axes[0].set_xlabel('')\n",
    "axes[0].set_ylabel('')\n",
    "#axes[1].set_xlabel('')\n",
    "axes[1].set_ylabel('')\n",
    "\n",
    "#fix x axis ticks\n",
    "axes[0].set_xticks([0,50,100,150,200,250,280])\n",
    "axes[1].set_xticks([0,50,100,150,200,250,280])\n",
    "\n",
    "#\n",
    "#axes[1].set_yticks(classification_phylum['phylum'].unique())\n",
    "#axes[1].set_xticklabels(['0%','20%','40%'])\n",
    "\n",
    "#close the gap between subplots\n",
    "plt.tight_layout()"
   ]
  },
  {
   "cell_type": "code",
   "execution_count": 67,
   "metadata": {},
   "outputs": [
    {
     "data": {
      "image/png": "[encoded data removed]",
      "text/plain": [
       "<matplotlib.figure.Figure at 0x10a3d0198>"
      ]
     },
     "metadata": {},
     "output_type": "display_data"
    }
   ],
   "source": [
    "a4_dims = (11.7, 8.27)\n",
    "\n",
    "color_dict = {'helio':\"#7137c8\", 'type_1':\"gray\"}\n",
    "\n",
    "#to allow space between the helio and type_1 plots we create a 3 column design\n",
    "fig, axes = plt.subplots(ncols=2, sharey=True, figsize=a4_dims, sharex=False)\n",
    "\n",
    "#barchart for type_1\n",
    "sns.barplot(x=\"%\", y=\"phylum\", hue=\"rhod_classification\", ax=axes[0], palette=color_dict, \\\n",
    "            data=classification_phylum[(classification_phylum.rhod_classification == 'type_1')])\n",
    "\n",
    "#barchart for helio\n",
    "sns.barplot(x=\"%\", y=\"phylum\", hue=\"rhod_classification\", ax=axes[1], palette=color_dict, \\\n",
    "            data=classification_phylum[(classification_phylum.rhod_classification == 'helio')])\n",
    "\n",
    "#flip left axis\n",
    "axes[0].invert_xaxis()\n",
    "\n",
    "#move the phylum\n",
    "axes[0].yaxis.tick_right()\n",
    "\n",
    "#center phylum\n",
    "\n",
    "\n",
    "\n",
    "#remove legends\n",
    "axes[0].legend_.remove()\n",
    "axes[1].legend_.remove()\n",
    "\n",
    "#remove axis titles\n",
    "#axes[0].set_xlabel('')\n",
    "axes[0].set_ylabel('')\n",
    "#axes[1].set_xlabel('')\n",
    "axes[1].set_ylabel('')\n",
    "\n",
    "#fix x axis ticks\n",
    "axes[0].set_xticks([0,10,20,30,40,50])\n",
    "axes[1].set_xticks([0,10,20,30,40,50])\n",
    "\n",
    "#\n",
    "#axes[1].set_yticks(classification_phylum['phylum'].unique())\n",
    "#axes[1].set_xticklabels(['0%','20%','40%'])\n",
    "\n",
    "#close the gap between subplots\n",
    "plt.tight_layout()"
   ]
  },
  {
   "cell_type": "code",
   "execution_count": 68,
   "metadata": {},
   "outputs": [
    {
     "data": {
      "image/png": "[encoded data removed]",
      "text/plain": [
       "<matplotlib.figure.Figure at 0x10a027080>"
      ]
     },
     "metadata": {},
     "output_type": "display_data"
    }
   ],
   "source": [
    "g = sns.FacetGrid(data=classification_phylum, \\\n",
    "                  col=\"rhod_classification\", \\\n",
    "                  hue=\"rhod_classification\", \\\n",
    "                  sharex=False, sharey=True, size=8, palette=color_dict)\n",
    "g = (g.map(plt.barh, \"phylum\", \"%\"))\n",
    "\n",
    "# axis containers\n",
    "helio_ax = g.axes[0][0]\n",
    "type1_ax = g.axes[0][1]\n",
    "\n",
    "# invert x axis on helios\n",
    "helio_ax.invert_xaxis()\n",
    "\n",
    "# set x axis ticks\n",
    "helio_ax.set_xticks([0,10,20,30,40,50]);\n",
    "\n",
    "helio_ax.set_ylabel('')\n",
    "helio_ax.set_xlabel('%');\n",
    "type1_ax.set_xlabel('%');\n",
    "\n",
    "\n",
    "#type1_ax.set_yticklabels(helio_ax.get_yticklabels())\n",
    "\n",
    "#g = (g.map(plt.xticks, rotation=90, color=\"black\"))\n",
    "#g = (g.set_titles(\"Rhodopsin type: {col_name}\"))"
   ]
  }
 ],
 "metadata": {
  "kernelspec": {
   "display_name": "Python 3",
   "language": "python",
   "name": "python3"
  },
  "language_info": {
   "codemirror_mode": {
    "name": "ipython",
    "version": 3
   },
   "file_extension": ".py",
   "mimetype": "text/x-python",
   "name": "python",
   "nbconvert_exporter": "python",
   "pygments_lexer": "ipython3",
   "version": "3.6.4"
  }
 },
 "nbformat": 4,
 "nbformat_minor": 2
}
