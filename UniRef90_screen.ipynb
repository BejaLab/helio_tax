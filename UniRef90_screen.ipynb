{
 "cells": [
  {
   "cell_type": "markdown",
   "metadata": {},
   "source": [
    "After screening with graftM and phobius the uniref IDs were stored in UniRef_rhodopsin_clusters.txt as a list.\n",
    "\n",
    "1. UniRef_rhodopsin_clusters.txt was used to retrieve the records from the web http://www.uniprot.org/uploadlists in compressed xml format. Only 542 out of 584 were retrieved.\n",
    "\n",
    "2. Using command line tools:\n",
    "\n",
    "`ggrep \"<accession>\\|<taxon>\" UniRef_rhodopsin_clusters.xml | tr -d '\\n' | gsed -e 's#</accession>##g' | gsed -e 's#</taxon>##g' | gsed -e 's#<taxon>#\\t#g' | gsed -e 's#<accession>#\\n#g' | gsed '/^$/d'> uniprot_7TM_tax.tsv` "
   ]
  },
  {
   "cell_type": "code",
   "execution_count": 7,
   "metadata": {},
   "outputs": [],
   "source": [
    "import pandas as pd\n",
    "import seaborn as sns\n",
    "import matplotlib.pyplot as plt\n",
    "%matplotlib inline"
   ]
  },
  {
   "cell_type": "markdown",
   "metadata": {},
   "source": [
    "## Load uniprot rhodopsin classification"
   ]
  },
  {
   "cell_type": "code",
   "execution_count": 8,
   "metadata": {},
   "outputs": [],
   "source": [
    "columns = [\"col_\" + str(x) for x in range(12)]"
   ]
  },
  {
   "cell_type": "code",
   "execution_count": 9,
   "metadata": {},
   "outputs": [],
   "source": [
    "columns = ['uniprot',\n",
    " 'superkingdom',\n",
    " 'phylum',\n",
    " 'col_3',\n",
    " 'col_4',\n",
    " 'col_5',\n",
    " 'col_6',\n",
    " 'col_7',\n",
    " 'col_8',\n",
    " 'col_9',\n",
    " 'col_10',\n",
    " 'col_11']"
   ]
  },
  {
   "cell_type": "code",
   "execution_count": 10,
   "metadata": {},
   "outputs": [],
   "source": [
    "uniprot_tax = pd.read_csv(\"./data/uniprot_analysis/uniref90/uniprot_7TM_tax.tsv\", sep=\"\\t\", names=columns)"
   ]
  },
  {
   "cell_type": "code",
   "execution_count": 11,
   "metadata": {},
   "outputs": [
    {
     "data": {
      "text/html": [
       "<div>\n",
       "<style scoped>\n",
       "    .dataframe tbody tr th:only-of-type {\n",
       "        vertical-align: middle;\n",
       "    }\n",
       "\n",
       "    .dataframe tbody tr th {\n",
       "        vertical-align: top;\n",
       "    }\n",
       "\n",
       "    .dataframe thead th {\n",
       "        text-align: right;\n",
       "    }\n",
       "</style>\n",
       "<table border=\"1\" class=\"dataframe\">\n",
       "  <thead>\n",
       "    <tr style=\"text-align: right;\">\n",
       "      <th></th>\n",
       "      <th>uniprot</th>\n",
       "      <th>superkingdom</th>\n",
       "      <th>phylum</th>\n",
       "      <th>col_3</th>\n",
       "      <th>col_4</th>\n",
       "      <th>col_5</th>\n",
       "      <th>col_6</th>\n",
       "      <th>col_7</th>\n",
       "      <th>col_8</th>\n",
       "      <th>col_9</th>\n",
       "      <th>col_10</th>\n",
       "      <th>col_11</th>\n",
       "    </tr>\n",
       "  </thead>\n",
       "  <tbody>\n",
       "    <tr>\n",
       "      <th>0</th>\n",
       "      <td>A0A2D6P7T7</td>\n",
       "      <td>Archaea</td>\n",
       "      <td>Candidatus Woesearchaeota</td>\n",
       "      <td>NaN</td>\n",
       "      <td>NaN</td>\n",
       "      <td>NaN</td>\n",
       "      <td>NaN</td>\n",
       "      <td>NaN</td>\n",
       "      <td>NaN</td>\n",
       "      <td>NaN</td>\n",
       "      <td>NaN</td>\n",
       "      <td>NaN</td>\n",
       "    </tr>\n",
       "    <tr>\n",
       "      <th>1</th>\n",
       "      <td>P33972</td>\n",
       "      <td>Archaea</td>\n",
       "      <td>Euryarchaeota</td>\n",
       "      <td>Halobacteria</td>\n",
       "      <td>Halobacteriales</td>\n",
       "      <td>Halobacteriaceae</td>\n",
       "      <td>Halobacterium</td>\n",
       "      <td>NaN</td>\n",
       "      <td>NaN</td>\n",
       "      <td>NaN</td>\n",
       "      <td>NaN</td>\n",
       "      <td>NaN</td>\n",
       "    </tr>\n",
       "    <tr>\n",
       "      <th>2</th>\n",
       "      <td>F2Y2Z0</td>\n",
       "      <td>Viruses</td>\n",
       "      <td>dsDNA viruses, no RNA stage</td>\n",
       "      <td>Phycodnaviridae</td>\n",
       "      <td>environmental samples</td>\n",
       "      <td>NaN</td>\n",
       "      <td>NaN</td>\n",
       "      <td>NaN</td>\n",
       "      <td>NaN</td>\n",
       "      <td>NaN</td>\n",
       "      <td>NaN</td>\n",
       "      <td>NaN</td>\n",
       "    </tr>\n",
       "    <tr>\n",
       "      <th>3</th>\n",
       "      <td>A0A1L2YWD6</td>\n",
       "      <td>Bacteria</td>\n",
       "      <td>environmental samples</td>\n",
       "      <td>NaN</td>\n",
       "      <td>NaN</td>\n",
       "      <td>NaN</td>\n",
       "      <td>NaN</td>\n",
       "      <td>NaN</td>\n",
       "      <td>NaN</td>\n",
       "      <td>NaN</td>\n",
       "      <td>NaN</td>\n",
       "      <td>NaN</td>\n",
       "    </tr>\n",
       "    <tr>\n",
       "      <th>4</th>\n",
       "      <td>A0A1G7GXJ2</td>\n",
       "      <td>Archaea</td>\n",
       "      <td>Euryarchaeota</td>\n",
       "      <td>Halobacteria</td>\n",
       "      <td>Halobacteriales</td>\n",
       "      <td>Haloarculaceae</td>\n",
       "      <td>Halorientalis</td>\n",
       "      <td>NaN</td>\n",
       "      <td>NaN</td>\n",
       "      <td>NaN</td>\n",
       "      <td>NaN</td>\n",
       "      <td>NaN</td>\n",
       "    </tr>\n",
       "  </tbody>\n",
       "</table>\n",
       "</div>"
      ],
      "text/plain": [
       "      uniprot superkingdom                       phylum            col_3  \\\n",
       "0  A0A2D6P7T7      Archaea    Candidatus Woesearchaeota              NaN   \n",
       "1      P33972      Archaea                Euryarchaeota     Halobacteria   \n",
       "2      F2Y2Z0      Viruses  dsDNA viruses, no RNA stage  Phycodnaviridae   \n",
       "3  A0A1L2YWD6     Bacteria        environmental samples              NaN   \n",
       "4  A0A1G7GXJ2      Archaea                Euryarchaeota     Halobacteria   \n",
       "\n",
       "                   col_4             col_5          col_6 col_7 col_8 col_9  \\\n",
       "0                    NaN               NaN            NaN   NaN   NaN   NaN   \n",
       "1        Halobacteriales  Halobacteriaceae  Halobacterium   NaN   NaN   NaN   \n",
       "2  environmental samples               NaN            NaN   NaN   NaN   NaN   \n",
       "3                    NaN               NaN            NaN   NaN   NaN   NaN   \n",
       "4        Halobacteriales    Haloarculaceae  Halorientalis   NaN   NaN   NaN   \n",
       "\n",
       "  col_10 col_11  \n",
       "0    NaN    NaN  \n",
       "1    NaN    NaN  \n",
       "2    NaN    NaN  \n",
       "3    NaN    NaN  \n",
       "4    NaN    NaN  "
      ]
     },
     "execution_count": 11,
     "metadata": {},
     "output_type": "execute_result"
    }
   ],
   "source": [
    "uniprot_tax.head()"
   ]
  },
  {
   "cell_type": "code",
   "execution_count": 12,
   "metadata": {},
   "outputs": [],
   "source": [
    "#uniprot_tax = uniprot_tax.fillna(method=\"bfill\")"
   ]
  },
  {
   "cell_type": "code",
   "execution_count": 13,
   "metadata": {},
   "outputs": [
    {
     "data": {
      "text/plain": [
       "Bacteria                  1577\n",
       "Eukaryota                  912\n",
       "Archaea                    489\n",
       "Viruses                     46\n",
       "unclassified sequences      13\n",
       "Name: superkingdom, dtype: int64"
      ]
     },
     "execution_count": 13,
     "metadata": {},
     "output_type": "execute_result"
    }
   ],
   "source": [
    "uniprot_tax.superkingdom.value_counts()"
   ]
  },
  {
   "cell_type": "markdown",
   "metadata": {},
   "source": [
    "## Load UniRef90 rhodopsin classification"
   ]
  },
  {
   "cell_type": "code",
   "execution_count": 14,
   "metadata": {},
   "outputs": [],
   "source": [
    "rhod_uniref_file = './data/uniprot_analysis/uniref90/uniref90_rhodopsin_classification.tsv'\n",
    "rhod_uniref = pd.read_csv(rhod_uniref_file, sep=\"\\t\", names=[\"UniRef90\", \"gg_classification\"])"
   ]
  },
  {
   "cell_type": "code",
   "execution_count": 15,
   "metadata": {},
   "outputs": [
    {
     "data": {
      "text/html": [
       "<div>\n",
       "<style scoped>\n",
       "    .dataframe tbody tr th:only-of-type {\n",
       "        vertical-align: middle;\n",
       "    }\n",
       "\n",
       "    .dataframe tbody tr th {\n",
       "        vertical-align: top;\n",
       "    }\n",
       "\n",
       "    .dataframe thead th {\n",
       "        text-align: right;\n",
       "    }\n",
       "</style>\n",
       "<table border=\"1\" class=\"dataframe\">\n",
       "  <thead>\n",
       "    <tr style=\"text-align: right;\">\n",
       "      <th></th>\n",
       "      <th>UniRef90</th>\n",
       "      <th>gg_classification</th>\n",
       "    </tr>\n",
       "  </thead>\n",
       "  <tbody>\n",
       "    <tr>\n",
       "      <th>0</th>\n",
       "      <td>UniRef90_A0A1Z8LPR2</td>\n",
       "      <td>Root; k__type_1; p__1_1</td>\n",
       "    </tr>\n",
       "    <tr>\n",
       "      <th>1</th>\n",
       "      <td>UniRef90_A0A0S8KIK3</td>\n",
       "      <td>Root; k__helio; p__helio_6</td>\n",
       "    </tr>\n",
       "    <tr>\n",
       "      <th>2</th>\n",
       "      <td>UniRef90_Q1W8T6</td>\n",
       "      <td>Root; k__type_1; p__1_1</td>\n",
       "    </tr>\n",
       "    <tr>\n",
       "      <th>3</th>\n",
       "      <td>UniRef90_A0A166DMR3</td>\n",
       "      <td>Root; k__type_1; p__1_3</td>\n",
       "    </tr>\n",
       "    <tr>\n",
       "      <th>4</th>\n",
       "      <td>UniRef90_A0A1Z8P4Y6</td>\n",
       "      <td>Root; k__type_1; p__1_1</td>\n",
       "    </tr>\n",
       "  </tbody>\n",
       "</table>\n",
       "</div>"
      ],
      "text/plain": [
       "              UniRef90           gg_classification\n",
       "0  UniRef90_A0A1Z8LPR2     Root; k__type_1; p__1_1\n",
       "1  UniRef90_A0A0S8KIK3  Root; k__helio; p__helio_6\n",
       "2      UniRef90_Q1W8T6     Root; k__type_1; p__1_1\n",
       "3  UniRef90_A0A166DMR3     Root; k__type_1; p__1_3\n",
       "4  UniRef90_A0A1Z8P4Y6     Root; k__type_1; p__1_1"
      ]
     },
     "execution_count": 15,
     "metadata": {},
     "output_type": "execute_result"
    }
   ],
   "source": [
    "rhod_uniref.head()"
   ]
  },
  {
   "cell_type": "code",
   "execution_count": 16,
   "metadata": {},
   "outputs": [],
   "source": [
    "def rhod_type_parser(x):\n",
    "    if ';' not in x:\n",
    "        return \"Unclassified\"\n",
    "    else:\n",
    "        return x.split(\";\")[1][4:]"
   ]
  },
  {
   "cell_type": "code",
   "execution_count": 17,
   "metadata": {},
   "outputs": [],
   "source": [
    "rhod_uniref[\"rhod_type\"] = rhod_uniref[\"gg_classification\"].apply(rhod_type_parser)"
   ]
  },
  {
   "cell_type": "code",
   "execution_count": 18,
   "metadata": {},
   "outputs": [
    {
     "data": {
      "text/html": [
       "<div>\n",
       "<style scoped>\n",
       "    .dataframe tbody tr th:only-of-type {\n",
       "        vertical-align: middle;\n",
       "    }\n",
       "\n",
       "    .dataframe tbody tr th {\n",
       "        vertical-align: top;\n",
       "    }\n",
       "\n",
       "    .dataframe thead th {\n",
       "        text-align: right;\n",
       "    }\n",
       "</style>\n",
       "<table border=\"1\" class=\"dataframe\">\n",
       "  <thead>\n",
       "    <tr style=\"text-align: right;\">\n",
       "      <th></th>\n",
       "      <th>UniRef90</th>\n",
       "      <th>gg_classification</th>\n",
       "      <th>rhod_type</th>\n",
       "    </tr>\n",
       "  </thead>\n",
       "  <tbody>\n",
       "    <tr>\n",
       "      <th>0</th>\n",
       "      <td>UniRef90_A0A1Z8LPR2</td>\n",
       "      <td>Root; k__type_1; p__1_1</td>\n",
       "      <td>type_1</td>\n",
       "    </tr>\n",
       "    <tr>\n",
       "      <th>1</th>\n",
       "      <td>UniRef90_A0A0S8KIK3</td>\n",
       "      <td>Root; k__helio; p__helio_6</td>\n",
       "      <td>helio</td>\n",
       "    </tr>\n",
       "    <tr>\n",
       "      <th>2</th>\n",
       "      <td>UniRef90_Q1W8T6</td>\n",
       "      <td>Root; k__type_1; p__1_1</td>\n",
       "      <td>type_1</td>\n",
       "    </tr>\n",
       "    <tr>\n",
       "      <th>3</th>\n",
       "      <td>UniRef90_A0A166DMR3</td>\n",
       "      <td>Root; k__type_1; p__1_3</td>\n",
       "      <td>type_1</td>\n",
       "    </tr>\n",
       "    <tr>\n",
       "      <th>4</th>\n",
       "      <td>UniRef90_A0A1Z8P4Y6</td>\n",
       "      <td>Root; k__type_1; p__1_1</td>\n",
       "      <td>type_1</td>\n",
       "    </tr>\n",
       "  </tbody>\n",
       "</table>\n",
       "</div>"
      ],
      "text/plain": [
       "              UniRef90           gg_classification rhod_type\n",
       "0  UniRef90_A0A1Z8LPR2     Root; k__type_1; p__1_1    type_1\n",
       "1  UniRef90_A0A0S8KIK3  Root; k__helio; p__helio_6     helio\n",
       "2      UniRef90_Q1W8T6     Root; k__type_1; p__1_1    type_1\n",
       "3  UniRef90_A0A166DMR3     Root; k__type_1; p__1_3    type_1\n",
       "4  UniRef90_A0A1Z8P4Y6     Root; k__type_1; p__1_1    type_1"
      ]
     },
     "execution_count": 18,
     "metadata": {},
     "output_type": "execute_result"
    }
   ],
   "source": [
    "rhod_uniref.head()"
   ]
  },
  {
   "cell_type": "markdown",
   "metadata": {},
   "source": [
    "## Load UniRef90 to uniprot mapping"
   ]
  },
  {
   "cell_type": "code",
   "execution_count": 19,
   "metadata": {},
   "outputs": [],
   "source": [
    "uniref90_2_uniprot_file = \"./data/uniprot_analysis/uniref90/uniprot_uniref90_hits_7TM.tab.gz\"\n",
    "uniref90_2_uniprot = pd.read_csv(uniref90_2_uniprot_file, sep=\"\\t\", names=[\"UniRef90\", \"uniprot\"], skiprows=1)"
   ]
  },
  {
   "cell_type": "code",
   "execution_count": 20,
   "metadata": {},
   "outputs": [
    {
     "data": {
      "text/html": [
       "<div>\n",
       "<style scoped>\n",
       "    .dataframe tbody tr th:only-of-type {\n",
       "        vertical-align: middle;\n",
       "    }\n",
       "\n",
       "    .dataframe tbody tr th {\n",
       "        vertical-align: top;\n",
       "    }\n",
       "\n",
       "    .dataframe thead th {\n",
       "        text-align: right;\n",
       "    }\n",
       "</style>\n",
       "<table border=\"1\" class=\"dataframe\">\n",
       "  <thead>\n",
       "    <tr style=\"text-align: right;\">\n",
       "      <th></th>\n",
       "      <th>UniRef90</th>\n",
       "      <th>uniprot</th>\n",
       "    </tr>\n",
       "  </thead>\n",
       "  <tbody>\n",
       "    <tr>\n",
       "      <th>0</th>\n",
       "      <td>UniRef90_A0A2E8RDW7</td>\n",
       "      <td>A0A2E8RBH8</td>\n",
       "    </tr>\n",
       "    <tr>\n",
       "      <th>1</th>\n",
       "      <td>UniRef90_Q2Q0F3</td>\n",
       "      <td>A0A2E1QER1</td>\n",
       "    </tr>\n",
       "    <tr>\n",
       "      <th>2</th>\n",
       "      <td>UniRef90_A0A1L2YW40</td>\n",
       "      <td>A0A2E2U2T9</td>\n",
       "    </tr>\n",
       "    <tr>\n",
       "      <th>3</th>\n",
       "      <td>UniRef90_A0A1L2YW89</td>\n",
       "      <td>A0A2E1FYI8</td>\n",
       "    </tr>\n",
       "    <tr>\n",
       "      <th>4</th>\n",
       "      <td>UniRef90_A0A249KS24</td>\n",
       "      <td>G9AY65</td>\n",
       "    </tr>\n",
       "  </tbody>\n",
       "</table>\n",
       "</div>"
      ],
      "text/plain": [
       "              UniRef90     uniprot\n",
       "0  UniRef90_A0A2E8RDW7  A0A2E8RBH8\n",
       "1      UniRef90_Q2Q0F3  A0A2E1QER1\n",
       "2  UniRef90_A0A1L2YW40  A0A2E2U2T9\n",
       "3  UniRef90_A0A1L2YW89  A0A2E1FYI8\n",
       "4  UniRef90_A0A249KS24      G9AY65"
      ]
     },
     "execution_count": 20,
     "metadata": {},
     "output_type": "execute_result"
    }
   ],
   "source": [
    "uniref90_2_uniprot.head()"
   ]
  },
  {
   "cell_type": "markdown",
   "metadata": {},
   "source": [
    "## Merge DFs"
   ]
  },
  {
   "cell_type": "code",
   "execution_count": 42,
   "metadata": {},
   "outputs": [],
   "source": [
    "uniprot_df = uniprot_tax.merge(uniref90_2_uniprot, on=\"uniprot\", how=\"left\")"
   ]
  },
  {
   "cell_type": "code",
   "execution_count": 43,
   "metadata": {},
   "outputs": [],
   "source": [
    "uniprot_df = uniprot_df.merge(rhod_uniref[[\"UniRef90\", \"rhod_type\"]], on=\"UniRef90\", how=\"left\")"
   ]
  },
  {
   "cell_type": "code",
   "execution_count": 44,
   "metadata": {},
   "outputs": [
    {
     "data": {
      "text/html": [
       "<div>\n",
       "<style scoped>\n",
       "    .dataframe tbody tr th:only-of-type {\n",
       "        vertical-align: middle;\n",
       "    }\n",
       "\n",
       "    .dataframe tbody tr th {\n",
       "        vertical-align: top;\n",
       "    }\n",
       "\n",
       "    .dataframe thead th {\n",
       "        text-align: right;\n",
       "    }\n",
       "</style>\n",
       "<table border=\"1\" class=\"dataframe\">\n",
       "  <thead>\n",
       "    <tr style=\"text-align: right;\">\n",
       "      <th></th>\n",
       "      <th>uniprot</th>\n",
       "      <th>superkingdom</th>\n",
       "      <th>phylum</th>\n",
       "      <th>col_3</th>\n",
       "      <th>col_4</th>\n",
       "      <th>col_5</th>\n",
       "      <th>col_6</th>\n",
       "      <th>col_7</th>\n",
       "      <th>col_8</th>\n",
       "      <th>col_9</th>\n",
       "      <th>col_10</th>\n",
       "      <th>col_11</th>\n",
       "      <th>UniRef90</th>\n",
       "      <th>rhod_type</th>\n",
       "    </tr>\n",
       "  </thead>\n",
       "  <tbody>\n",
       "    <tr>\n",
       "      <th>0</th>\n",
       "      <td>A0A2D6P7T7</td>\n",
       "      <td>Archaea</td>\n",
       "      <td>Candidatus Woesearchaeota</td>\n",
       "      <td>NaN</td>\n",
       "      <td>NaN</td>\n",
       "      <td>NaN</td>\n",
       "      <td>NaN</td>\n",
       "      <td>NaN</td>\n",
       "      <td>NaN</td>\n",
       "      <td>NaN</td>\n",
       "      <td>NaN</td>\n",
       "      <td>NaN</td>\n",
       "      <td>UniRef90_A0A2D6P7T7</td>\n",
       "      <td>type_1</td>\n",
       "    </tr>\n",
       "    <tr>\n",
       "      <th>1</th>\n",
       "      <td>P33972</td>\n",
       "      <td>Archaea</td>\n",
       "      <td>Euryarchaeota</td>\n",
       "      <td>Halobacteria</td>\n",
       "      <td>Halobacteriales</td>\n",
       "      <td>Halobacteriaceae</td>\n",
       "      <td>Halobacterium</td>\n",
       "      <td>NaN</td>\n",
       "      <td>NaN</td>\n",
       "      <td>NaN</td>\n",
       "      <td>NaN</td>\n",
       "      <td>NaN</td>\n",
       "      <td>UniRef90_P94854</td>\n",
       "      <td>type_1</td>\n",
       "    </tr>\n",
       "    <tr>\n",
       "      <th>2</th>\n",
       "      <td>F2Y2Z0</td>\n",
       "      <td>Viruses</td>\n",
       "      <td>dsDNA viruses, no RNA stage</td>\n",
       "      <td>Phycodnaviridae</td>\n",
       "      <td>environmental samples</td>\n",
       "      <td>NaN</td>\n",
       "      <td>NaN</td>\n",
       "      <td>NaN</td>\n",
       "      <td>NaN</td>\n",
       "      <td>NaN</td>\n",
       "      <td>NaN</td>\n",
       "      <td>NaN</td>\n",
       "      <td>UniRef90_F2Y2Z0</td>\n",
       "      <td>type_1</td>\n",
       "    </tr>\n",
       "    <tr>\n",
       "      <th>3</th>\n",
       "      <td>A0A1L2YWD6</td>\n",
       "      <td>Bacteria</td>\n",
       "      <td>environmental samples</td>\n",
       "      <td>NaN</td>\n",
       "      <td>NaN</td>\n",
       "      <td>NaN</td>\n",
       "      <td>NaN</td>\n",
       "      <td>NaN</td>\n",
       "      <td>NaN</td>\n",
       "      <td>NaN</td>\n",
       "      <td>NaN</td>\n",
       "      <td>NaN</td>\n",
       "      <td>UniRef90_A0A1L2YWD6</td>\n",
       "      <td>type_1</td>\n",
       "    </tr>\n",
       "    <tr>\n",
       "      <th>4</th>\n",
       "      <td>A0A1G7GXJ2</td>\n",
       "      <td>Archaea</td>\n",
       "      <td>Euryarchaeota</td>\n",
       "      <td>Halobacteria</td>\n",
       "      <td>Halobacteriales</td>\n",
       "      <td>Haloarculaceae</td>\n",
       "      <td>Halorientalis</td>\n",
       "      <td>NaN</td>\n",
       "      <td>NaN</td>\n",
       "      <td>NaN</td>\n",
       "      <td>NaN</td>\n",
       "      <td>NaN</td>\n",
       "      <td>UniRef90_A0A1G7GXJ2</td>\n",
       "      <td>type_1</td>\n",
       "    </tr>\n",
       "  </tbody>\n",
       "</table>\n",
       "</div>"
      ],
      "text/plain": [
       "      uniprot superkingdom                       phylum            col_3  \\\n",
       "0  A0A2D6P7T7      Archaea    Candidatus Woesearchaeota              NaN   \n",
       "1      P33972      Archaea                Euryarchaeota     Halobacteria   \n",
       "2      F2Y2Z0      Viruses  dsDNA viruses, no RNA stage  Phycodnaviridae   \n",
       "3  A0A1L2YWD6     Bacteria        environmental samples              NaN   \n",
       "4  A0A1G7GXJ2      Archaea                Euryarchaeota     Halobacteria   \n",
       "\n",
       "                   col_4             col_5          col_6 col_7 col_8 col_9  \\\n",
       "0                    NaN               NaN            NaN   NaN   NaN   NaN   \n",
       "1        Halobacteriales  Halobacteriaceae  Halobacterium   NaN   NaN   NaN   \n",
       "2  environmental samples               NaN            NaN   NaN   NaN   NaN   \n",
       "3                    NaN               NaN            NaN   NaN   NaN   NaN   \n",
       "4        Halobacteriales    Haloarculaceae  Halorientalis   NaN   NaN   NaN   \n",
       "\n",
       "  col_10 col_11             UniRef90 rhod_type  \n",
       "0    NaN    NaN  UniRef90_A0A2D6P7T7    type_1  \n",
       "1    NaN    NaN      UniRef90_P94854    type_1  \n",
       "2    NaN    NaN      UniRef90_F2Y2Z0    type_1  \n",
       "3    NaN    NaN  UniRef90_A0A1L2YWD6    type_1  \n",
       "4    NaN    NaN  UniRef90_A0A1G7GXJ2    type_1  "
      ]
     },
     "execution_count": 44,
     "metadata": {},
     "output_type": "execute_result"
    }
   ],
   "source": [
    "uniprot_df.head()"
   ]
  },
  {
   "cell_type": "code",
   "execution_count": 45,
   "metadata": {},
   "outputs": [],
   "source": [
    "# We keep only those entries with rhod classification\n",
    "rhod_df = uniprot_df.loc[~uniprot_df[\"rhod_type\"].isnull()]\n"
   ]
  },
  {
   "cell_type": "code",
   "execution_count": 47,
   "metadata": {},
   "outputs": [
    {
     "data": {
      "text/html": [
       "<div>\n",
       "<style scoped>\n",
       "    .dataframe tbody tr th:only-of-type {\n",
       "        vertical-align: middle;\n",
       "    }\n",
       "\n",
       "    .dataframe tbody tr th {\n",
       "        vertical-align: top;\n",
       "    }\n",
       "\n",
       "    .dataframe thead th {\n",
       "        text-align: right;\n",
       "    }\n",
       "</style>\n",
       "<table border=\"1\" class=\"dataframe\">\n",
       "  <thead>\n",
       "    <tr style=\"text-align: right;\">\n",
       "      <th></th>\n",
       "      <th>uniprot</th>\n",
       "      <th>superkingdom</th>\n",
       "      <th>phylum</th>\n",
       "      <th>col_3</th>\n",
       "      <th>col_4</th>\n",
       "      <th>col_5</th>\n",
       "      <th>col_6</th>\n",
       "      <th>col_7</th>\n",
       "      <th>col_8</th>\n",
       "      <th>col_9</th>\n",
       "      <th>col_10</th>\n",
       "      <th>col_11</th>\n",
       "      <th>UniRef90</th>\n",
       "      <th>rhod_type</th>\n",
       "    </tr>\n",
       "  </thead>\n",
       "  <tbody>\n",
       "    <tr>\n",
       "      <th>0</th>\n",
       "      <td>A0A2D6P7T7</td>\n",
       "      <td>Archaea</td>\n",
       "      <td>Candidatus Woesearchaeota</td>\n",
       "      <td>NaN</td>\n",
       "      <td>NaN</td>\n",
       "      <td>NaN</td>\n",
       "      <td>NaN</td>\n",
       "      <td>NaN</td>\n",
       "      <td>NaN</td>\n",
       "      <td>NaN</td>\n",
       "      <td>NaN</td>\n",
       "      <td>NaN</td>\n",
       "      <td>UniRef90_A0A2D6P7T7</td>\n",
       "      <td>type_1</td>\n",
       "    </tr>\n",
       "    <tr>\n",
       "      <th>1</th>\n",
       "      <td>P33972</td>\n",
       "      <td>Archaea</td>\n",
       "      <td>Euryarchaeota</td>\n",
       "      <td>Halobacteria</td>\n",
       "      <td>Halobacteriales</td>\n",
       "      <td>Halobacteriaceae</td>\n",
       "      <td>Halobacterium</td>\n",
       "      <td>NaN</td>\n",
       "      <td>NaN</td>\n",
       "      <td>NaN</td>\n",
       "      <td>NaN</td>\n",
       "      <td>NaN</td>\n",
       "      <td>UniRef90_P94854</td>\n",
       "      <td>type_1</td>\n",
       "    </tr>\n",
       "    <tr>\n",
       "      <th>2</th>\n",
       "      <td>F2Y2Z0</td>\n",
       "      <td>Viruses</td>\n",
       "      <td>dsDNA viruses, no RNA stage</td>\n",
       "      <td>Phycodnaviridae</td>\n",
       "      <td>environmental samples</td>\n",
       "      <td>NaN</td>\n",
       "      <td>NaN</td>\n",
       "      <td>NaN</td>\n",
       "      <td>NaN</td>\n",
       "      <td>NaN</td>\n",
       "      <td>NaN</td>\n",
       "      <td>NaN</td>\n",
       "      <td>UniRef90_F2Y2Z0</td>\n",
       "      <td>type_1</td>\n",
       "    </tr>\n",
       "    <tr>\n",
       "      <th>3</th>\n",
       "      <td>A0A1L2YWD6</td>\n",
       "      <td>Bacteria</td>\n",
       "      <td>environmental samples</td>\n",
       "      <td>NaN</td>\n",
       "      <td>NaN</td>\n",
       "      <td>NaN</td>\n",
       "      <td>NaN</td>\n",
       "      <td>NaN</td>\n",
       "      <td>NaN</td>\n",
       "      <td>NaN</td>\n",
       "      <td>NaN</td>\n",
       "      <td>NaN</td>\n",
       "      <td>UniRef90_A0A1L2YWD6</td>\n",
       "      <td>type_1</td>\n",
       "    </tr>\n",
       "    <tr>\n",
       "      <th>4</th>\n",
       "      <td>A0A1G7GXJ2</td>\n",
       "      <td>Archaea</td>\n",
       "      <td>Euryarchaeota</td>\n",
       "      <td>Halobacteria</td>\n",
       "      <td>Halobacteriales</td>\n",
       "      <td>Haloarculaceae</td>\n",
       "      <td>Halorientalis</td>\n",
       "      <td>NaN</td>\n",
       "      <td>NaN</td>\n",
       "      <td>NaN</td>\n",
       "      <td>NaN</td>\n",
       "      <td>NaN</td>\n",
       "      <td>UniRef90_A0A1G7GXJ2</td>\n",
       "      <td>type_1</td>\n",
       "    </tr>\n",
       "  </tbody>\n",
       "</table>\n",
       "</div>"
      ],
      "text/plain": [
       "      uniprot superkingdom                       phylum            col_3  \\\n",
       "0  A0A2D6P7T7      Archaea    Candidatus Woesearchaeota              NaN   \n",
       "1      P33972      Archaea                Euryarchaeota     Halobacteria   \n",
       "2      F2Y2Z0      Viruses  dsDNA viruses, no RNA stage  Phycodnaviridae   \n",
       "3  A0A1L2YWD6     Bacteria        environmental samples              NaN   \n",
       "4  A0A1G7GXJ2      Archaea                Euryarchaeota     Halobacteria   \n",
       "\n",
       "                   col_4             col_5          col_6 col_7 col_8 col_9  \\\n",
       "0                    NaN               NaN            NaN   NaN   NaN   NaN   \n",
       "1        Halobacteriales  Halobacteriaceae  Halobacterium   NaN   NaN   NaN   \n",
       "2  environmental samples               NaN            NaN   NaN   NaN   NaN   \n",
       "3                    NaN               NaN            NaN   NaN   NaN   NaN   \n",
       "4        Halobacteriales    Haloarculaceae  Halorientalis   NaN   NaN   NaN   \n",
       "\n",
       "  col_10 col_11             UniRef90 rhod_type  \n",
       "0    NaN    NaN  UniRef90_A0A2D6P7T7    type_1  \n",
       "1    NaN    NaN      UniRef90_P94854    type_1  \n",
       "2    NaN    NaN      UniRef90_F2Y2Z0    type_1  \n",
       "3    NaN    NaN  UniRef90_A0A1L2YWD6    type_1  \n",
       "4    NaN    NaN  UniRef90_A0A1G7GXJ2    type_1  "
      ]
     },
     "execution_count": 47,
     "metadata": {},
     "output_type": "execute_result"
    }
   ],
   "source": [
    "rhod_df.head()"
   ]
  },
  {
   "cell_type": "code",
   "execution_count": 50,
   "metadata": {},
   "outputs": [],
   "source": [
    "#add plot_classification\n",
    "sup_table_df = rhod_df[[\"uniprot\", \"UniRef90\",\"rhod_type\", \"superkingdom\", \"phylum\"]].copy()"
   ]
  },
  {
   "cell_type": "code",
   "execution_count": null,
   "metadata": {},
   "outputs": [],
   "source": [
    "rhod_df = rhod_df[[\"uniprot\", \"rhod_type\", \"superkingdom\", \"phylum\"]]"
   ]
  },
  {
   "cell_type": "code",
   "execution_count": 25,
   "metadata": {},
   "outputs": [
    {
     "data": {
      "text/plain": [
       "(3050, 4)"
      ]
     },
     "execution_count": 25,
     "metadata": {},
     "output_type": "execute_result"
    }
   ],
   "source": [
    "rhod_df.shape"
   ]
  },
  {
   "cell_type": "code",
   "execution_count": 26,
   "metadata": {},
   "outputs": [],
   "source": [
    "rhod_df = rhod_df.loc[~rhod_df[\"superkingdom\"].isnull()]"
   ]
  },
  {
   "cell_type": "code",
   "execution_count": 41,
   "metadata": {},
   "outputs": [
    {
     "data": {
      "text/html": [
       "<div>\n",
       "<style scoped>\n",
       "    .dataframe tbody tr th:only-of-type {\n",
       "        vertical-align: middle;\n",
       "    }\n",
       "\n",
       "    .dataframe tbody tr th {\n",
       "        vertical-align: top;\n",
       "    }\n",
       "\n",
       "    .dataframe thead th {\n",
       "        text-align: right;\n",
       "    }\n",
       "</style>\n",
       "<table border=\"1\" class=\"dataframe\">\n",
       "  <thead>\n",
       "    <tr style=\"text-align: right;\">\n",
       "      <th></th>\n",
       "      <th>uniprot</th>\n",
       "      <th>rhod_type</th>\n",
       "      <th>superkingdom</th>\n",
       "      <th>phylum</th>\n",
       "    </tr>\n",
       "  </thead>\n",
       "  <tbody>\n",
       "    <tr>\n",
       "      <th>0</th>\n",
       "      <td>A0A2D6P7T7</td>\n",
       "      <td>type_1</td>\n",
       "      <td>Archaea</td>\n",
       "      <td>Candidatus Woesearchaeota</td>\n",
       "    </tr>\n",
       "    <tr>\n",
       "      <th>1</th>\n",
       "      <td>P33972</td>\n",
       "      <td>type_1</td>\n",
       "      <td>Archaea</td>\n",
       "      <td>Euryarchaeota</td>\n",
       "    </tr>\n",
       "    <tr>\n",
       "      <th>2</th>\n",
       "      <td>F2Y2Z0</td>\n",
       "      <td>type_1</td>\n",
       "      <td>Viruses</td>\n",
       "      <td>dsDNA viruses, no RNA stage</td>\n",
       "    </tr>\n",
       "    <tr>\n",
       "      <th>3</th>\n",
       "      <td>A0A1L2YWD6</td>\n",
       "      <td>type_1</td>\n",
       "      <td>Bacteria</td>\n",
       "      <td>environmental samples</td>\n",
       "    </tr>\n",
       "    <tr>\n",
       "      <th>4</th>\n",
       "      <td>A0A1G7GXJ2</td>\n",
       "      <td>type_1</td>\n",
       "      <td>Archaea</td>\n",
       "      <td>Euryarchaeota</td>\n",
       "    </tr>\n",
       "  </tbody>\n",
       "</table>\n",
       "</div>"
      ],
      "text/plain": [
       "      uniprot rhod_type superkingdom                       phylum\n",
       "0  A0A2D6P7T7    type_1      Archaea    Candidatus Woesearchaeota\n",
       "1      P33972    type_1      Archaea                Euryarchaeota\n",
       "2      F2Y2Z0    type_1      Viruses  dsDNA viruses, no RNA stage\n",
       "3  A0A1L2YWD6    type_1     Bacteria        environmental samples\n",
       "4  A0A1G7GXJ2    type_1      Archaea                Euryarchaeota"
      ]
     },
     "execution_count": 41,
     "metadata": {},
     "output_type": "execute_result"
    }
   ],
   "source": [
    "rhod_df.head()"
   ]
  },
  {
   "cell_type": "code",
   "execution_count": 27,
   "metadata": {},
   "outputs": [
    {
     "data": {
      "text/plain": [
       "(3037, 4)"
      ]
     },
     "execution_count": 27,
     "metadata": {},
     "output_type": "execute_result"
    }
   ],
   "source": [
    "rhod_df.shape"
   ]
  },
  {
   "cell_type": "code",
   "execution_count": 28,
   "metadata": {},
   "outputs": [
    {
     "data": {
      "text/plain": [
       "type_1          2646\n",
       "helio            372\n",
       "Unclassified      19\n",
       "Name: rhod_type, dtype: int64"
      ]
     },
     "execution_count": 28,
     "metadata": {},
     "output_type": "execute_result"
    }
   ],
   "source": [
    "rhod_df[\"rhod_type\"].value_counts()"
   ]
  },
  {
   "cell_type": "code",
   "execution_count": 29,
   "metadata": {},
   "outputs": [
    {
     "data": {
      "text/plain": [
       "Bacteria                  1577\n",
       "Eukaryota                  912\n",
       "Archaea                    489\n",
       "Viruses                     46\n",
       "unclassified sequences      13\n",
       "Name: superkingdom, dtype: int64"
      ]
     },
     "execution_count": 29,
     "metadata": {},
     "output_type": "execute_result"
    }
   ],
   "source": [
    "rhod_df[\"superkingdom\"].value_counts()"
   ]
  },
  {
   "cell_type": "code",
   "execution_count": 30,
   "metadata": {},
   "outputs": [
    {
     "data": {
      "text/html": [
       "<div>\n",
       "<style scoped>\n",
       "    .dataframe tbody tr th:only-of-type {\n",
       "        vertical-align: middle;\n",
       "    }\n",
       "\n",
       "    .dataframe tbody tr th {\n",
       "        vertical-align: top;\n",
       "    }\n",
       "\n",
       "    .dataframe thead th {\n",
       "        text-align: right;\n",
       "    }\n",
       "</style>\n",
       "<table border=\"1\" class=\"dataframe\">\n",
       "  <thead>\n",
       "    <tr style=\"text-align: right;\">\n",
       "      <th></th>\n",
       "      <th>uniprot</th>\n",
       "      <th>rhod_type</th>\n",
       "      <th>superkingdom</th>\n",
       "      <th>phylum</th>\n",
       "    </tr>\n",
       "  </thead>\n",
       "  <tbody>\n",
       "    <tr>\n",
       "      <th>0</th>\n",
       "      <td>A0A2D6P7T7</td>\n",
       "      <td>type_1</td>\n",
       "      <td>Archaea</td>\n",
       "      <td>Candidatus Woesearchaeota</td>\n",
       "    </tr>\n",
       "    <tr>\n",
       "      <th>1</th>\n",
       "      <td>P33972</td>\n",
       "      <td>type_1</td>\n",
       "      <td>Archaea</td>\n",
       "      <td>Euryarchaeota</td>\n",
       "    </tr>\n",
       "    <tr>\n",
       "      <th>2</th>\n",
       "      <td>F2Y2Z0</td>\n",
       "      <td>type_1</td>\n",
       "      <td>Viruses</td>\n",
       "      <td>dsDNA viruses, no RNA stage</td>\n",
       "    </tr>\n",
       "    <tr>\n",
       "      <th>3</th>\n",
       "      <td>A0A1L2YWD6</td>\n",
       "      <td>type_1</td>\n",
       "      <td>Bacteria</td>\n",
       "      <td>environmental samples</td>\n",
       "    </tr>\n",
       "    <tr>\n",
       "      <th>4</th>\n",
       "      <td>A0A1G7GXJ2</td>\n",
       "      <td>type_1</td>\n",
       "      <td>Archaea</td>\n",
       "      <td>Euryarchaeota</td>\n",
       "    </tr>\n",
       "  </tbody>\n",
       "</table>\n",
       "</div>"
      ],
      "text/plain": [
       "      uniprot rhod_type superkingdom                       phylum\n",
       "0  A0A2D6P7T7    type_1      Archaea    Candidatus Woesearchaeota\n",
       "1      P33972    type_1      Archaea                Euryarchaeota\n",
       "2      F2Y2Z0    type_1      Viruses  dsDNA viruses, no RNA stage\n",
       "3  A0A1L2YWD6    type_1     Bacteria        environmental samples\n",
       "4  A0A1G7GXJ2    type_1      Archaea                Euryarchaeota"
      ]
     },
     "execution_count": 30,
     "metadata": {},
     "output_type": "execute_result"
    }
   ],
   "source": [
    "rhod_df.head()"
   ]
  },
  {
   "cell_type": "code",
   "execution_count": 31,
   "metadata": {},
   "outputs": [],
   "source": [
    "# rhod_df.to_csv(\"./results/uniref50_2018_05_rhod_classification.tsv\", sep=\"\\t\", columns=[\"uniprot\", \"rhod_classification\", \"superkingdom\", \"phylum\"], index=False)"
   ]
  },
  {
   "cell_type": "code",
   "execution_count": 32,
   "metadata": {},
   "outputs": [],
   "source": [
    "classification_phylum = rhod_df[[\"rhod_type\", \"superkingdom\",\"phylum\"]].copy()"
   ]
  },
  {
   "cell_type": "code",
   "execution_count": 33,
   "metadata": {},
   "outputs": [],
   "source": [
    "#classification_phylum.loc[classification_phylum[\"phylum\"]==\"environmental samples\"]"
   ]
  },
  {
   "cell_type": "code",
   "execution_count": 34,
   "metadata": {},
   "outputs": [],
   "source": [
    "classification_phylum.loc[classification_phylum[\"phylum\"].isnull(), \"phylum\"] = \"Unclassified_Bact\""
   ]
  },
  {
   "cell_type": "code",
   "execution_count": 35,
   "metadata": {},
   "outputs": [
    {
     "data": {
      "text/plain": [
       "array(['Candidatus Woesearchaeota', 'Euryarchaeota',\n",
       "       'dsDNA viruses, no RNA stage', 'environmental samples',\n",
       "       'Candidatus Nanohaloarchaeota', 'Candidatus Marinimicrobia',\n",
       "       'Unclassified_Bact', 'Actinobacteria', 'Bacteroidetes',\n",
       "       'Proteobacteria', 'Cyanobacteria', 'Chloroflexi', 'Cryptophyta',\n",
       "       'Firmicutes', 'Haloplasmatales', 'Viridiplantae', 'Spirochaetes',\n",
       "       'Rhodothermaeota', 'Gemmatimonadetes', 'Amoebozoa', 'Fungi',\n",
       "       'Verrucomicrobia', 'Deinococcus-Thermus', 'Planctomycetes',\n",
       "       'metagenomes', 'Asgard group', 'Alveolata', 'Haptophyceae',\n",
       "       'Thermotogae', 'Candidatus Berkelbacteria', 'Chlamydiae',\n",
       "       'Candidatus Dojkabacteria', 'Candidatus Saccharibacteria',\n",
       "       'Candidatus Bathyarchaeota', 'Tenericutes',\n",
       "       'Candidatus Kerfeldbacteria', 'candidate division WWE3',\n",
       "       'Balneolaeota', 'Thaumarchaeota', 'Caldiserica',\n",
       "       'candidate division WS2', 'candidate division CPR3',\n",
       "       'Acidobacteria', 'Stramenopiles', 'Apusozoa', 'Glaucocystophyceae',\n",
       "       'Choanoflagellida', 'Nucleariidae and Fonticula group'],\n",
       "      dtype=object)"
      ]
     },
     "execution_count": 35,
     "metadata": {},
     "output_type": "execute_result"
    }
   ],
   "source": [
    "classification_phylum.loc[~classification_phylum[\"phylum\"].isnull()].phylum.unique()"
   ]
  },
  {
   "cell_type": "code",
   "execution_count": 36,
   "metadata": {},
   "outputs": [],
   "source": [
    "classification_phylum = classification_phylum.loc[classification_phylum[\"phylum\"] != 'environmental samples']"
   ]
  },
  {
   "cell_type": "code",
   "execution_count": 37,
   "metadata": {},
   "outputs": [],
   "source": [
    "classification_phylum = classification_phylum.loc[classification_phylum[\"superkingdom\"] != 'unclassified sequences']"
   ]
  },
  {
   "cell_type": "code",
   "execution_count": 38,
   "metadata": {},
   "outputs": [],
   "source": [
    "# add \"virus\" phylum\n",
    "classification_phylum.loc[classification_phylum.superkingdom == 'Viruses', 'phylum'] = \"Viruses\"\n",
    "# add euks\n",
    "classification_phylum.loc[classification_phylum.superkingdom == 'Eukaryota', 'phylum'] = \"Eukaryotes\"\n",
    "# add unclassified \"phylum\"\n",
    "classification_phylum.loc[classification_phylum.superkingdom == 'unclassified sequences', 'phylum'] = \"Unclassified\""
   ]
  },
  {
   "cell_type": "code",
   "execution_count": 39,
   "metadata": {},
   "outputs": [],
   "source": [
    "#classification_phylum = classified[[\"rhod_classification\", \"phylum\",\"full_tax\"]].copy()"
   ]
  },
  {
   "cell_type": "code",
   "execution_count": 40,
   "metadata": {},
   "outputs": [
    {
     "data": {
      "text/html": [
       "<div>\n",
       "<style scoped>\n",
       "    .dataframe tbody tr th:only-of-type {\n",
       "        vertical-align: middle;\n",
       "    }\n",
       "\n",
       "    .dataframe tbody tr th {\n",
       "        vertical-align: top;\n",
       "    }\n",
       "\n",
       "    .dataframe thead th {\n",
       "        text-align: right;\n",
       "    }\n",
       "</style>\n",
       "<table border=\"1\" class=\"dataframe\">\n",
       "  <thead>\n",
       "    <tr style=\"text-align: right;\">\n",
       "      <th></th>\n",
       "      <th>rhod_type</th>\n",
       "      <th>superkingdom</th>\n",
       "      <th>phylum</th>\n",
       "    </tr>\n",
       "  </thead>\n",
       "  <tbody>\n",
       "    <tr>\n",
       "      <th>0</th>\n",
       "      <td>type_1</td>\n",
       "      <td>Archaea</td>\n",
       "      <td>Candidatus Woesearchaeota</td>\n",
       "    </tr>\n",
       "    <tr>\n",
       "      <th>1</th>\n",
       "      <td>type_1</td>\n",
       "      <td>Archaea</td>\n",
       "      <td>Euryarchaeota</td>\n",
       "    </tr>\n",
       "    <tr>\n",
       "      <th>2</th>\n",
       "      <td>type_1</td>\n",
       "      <td>Viruses</td>\n",
       "      <td>Viruses</td>\n",
       "    </tr>\n",
       "    <tr>\n",
       "      <th>4</th>\n",
       "      <td>type_1</td>\n",
       "      <td>Archaea</td>\n",
       "      <td>Euryarchaeota</td>\n",
       "    </tr>\n",
       "    <tr>\n",
       "      <th>5</th>\n",
       "      <td>type_1</td>\n",
       "      <td>Archaea</td>\n",
       "      <td>Euryarchaeota</td>\n",
       "    </tr>\n",
       "  </tbody>\n",
       "</table>\n",
       "</div>"
      ],
      "text/plain": [
       "  rhod_type superkingdom                     phylum\n",
       "0    type_1      Archaea  Candidatus Woesearchaeota\n",
       "1    type_1      Archaea              Euryarchaeota\n",
       "2    type_1      Viruses                    Viruses\n",
       "4    type_1      Archaea              Euryarchaeota\n",
       "5    type_1      Archaea              Euryarchaeota"
      ]
     },
     "execution_count": 40,
     "metadata": {},
     "output_type": "execute_result"
    }
   ],
   "source": [
    "classification_phylum.head()"
   ]
  },
  {
   "cell_type": "code",
   "execution_count": 34,
   "metadata": {},
   "outputs": [],
   "source": [
    "classification_phylum = classification_phylum.\\\n",
    "groupby([\"rhod_type\", \"phylum\"]).agg(len)"
   ]
  },
  {
   "cell_type": "code",
   "execution_count": 35,
   "metadata": {},
   "outputs": [],
   "source": [
    "classification_phylum.reset_index(inplace=True)"
   ]
  },
  {
   "cell_type": "code",
   "execution_count": 36,
   "metadata": {},
   "outputs": [],
   "source": [
    "classification_phylum.rename(columns={\"superkingdom\":\"count\"}, inplace=True)"
   ]
  },
  {
   "cell_type": "code",
   "execution_count": 37,
   "metadata": {},
   "outputs": [],
   "source": [
    "rhodopsin_phylum_count = classification_phylum.groupby('rhod_type').agg(sum)"
   ]
  },
  {
   "cell_type": "code",
   "execution_count": 38,
   "metadata": {},
   "outputs": [
    {
     "data": {
      "text/html": [
       "<div>\n",
       "<style scoped>\n",
       "    .dataframe tbody tr th:only-of-type {\n",
       "        vertical-align: middle;\n",
       "    }\n",
       "\n",
       "    .dataframe tbody tr th {\n",
       "        vertical-align: top;\n",
       "    }\n",
       "\n",
       "    .dataframe thead th {\n",
       "        text-align: right;\n",
       "    }\n",
       "</style>\n",
       "<table border=\"1\" class=\"dataframe\">\n",
       "  <thead>\n",
       "    <tr style=\"text-align: right;\">\n",
       "      <th></th>\n",
       "      <th>count</th>\n",
       "    </tr>\n",
       "    <tr>\n",
       "      <th>rhod_type</th>\n",
       "      <th></th>\n",
       "    </tr>\n",
       "  </thead>\n",
       "  <tbody>\n",
       "    <tr>\n",
       "      <th>Unclassified</th>\n",
       "      <td>19</td>\n",
       "    </tr>\n",
       "    <tr>\n",
       "      <th>helio</th>\n",
       "      <td>365</td>\n",
       "    </tr>\n",
       "    <tr>\n",
       "      <th>type_1</th>\n",
       "      <td>2440</td>\n",
       "    </tr>\n",
       "  </tbody>\n",
       "</table>\n",
       "</div>"
      ],
      "text/plain": [
       "              count\n",
       "rhod_type          \n",
       "Unclassified     19\n",
       "helio           365\n",
       "type_1         2440"
      ]
     },
     "execution_count": 38,
     "metadata": {},
     "output_type": "execute_result"
    }
   ],
   "source": [
    "rhodopsin_phylum_count"
   ]
  },
  {
   "cell_type": "markdown",
   "metadata": {},
   "source": [
    "classification_phylum['phylum'] = classification_phylum['phylum'].replace('Candidatus Heimdallarchaeota', 'Asgard')"
   ]
  },
  {
   "cell_type": "markdown",
   "metadata": {},
   "source": [
    "classification_phylum['phylum'] = classification_phylum['phylum'].replace('Candidatus Marinimicrobia', 'Candidatus\\nMarinimicrobia')"
   ]
  },
  {
   "cell_type": "code",
   "execution_count": 39,
   "metadata": {},
   "outputs": [],
   "source": [
    "taxa = classification_phylum.phylum.unique()"
   ]
  },
  {
   "cell_type": "code",
   "execution_count": 41,
   "metadata": {},
   "outputs": [],
   "source": [
    "# add missing taxa\n",
    "for rhod_type in ['helio', 'type_1']:\n",
    "    for tax in taxa:\n",
    "        if tax not in classification_phylum[(classification_phylum.rhod_type == rhod_type)]['phylum'].unique():\n",
    "            classification_phylum = classification_phylum.append({'rhod_type':rhod_type, 'phylum':tax, 'count':0}, ignore_index=True)\n",
    "classification_phylum.sort_values(by='phylum', inplace=True)"
   ]
  },
  {
   "cell_type": "markdown",
   "metadata": {},
   "source": [
    "### Calculate percentage"
   ]
  },
  {
   "cell_type": "code",
   "execution_count": 42,
   "metadata": {},
   "outputs": [],
   "source": [
    "classification_phylum.loc[classification_phylum['rhod_type'] == 'helio', '%'] = \\\n",
    "classification_phylum.loc[classification_phylum['rhod_type'] == 'helio', 'count']*100/rhodopsin_phylum_count.loc['helio','count']"
   ]
  },
  {
   "cell_type": "code",
   "execution_count": 43,
   "metadata": {},
   "outputs": [],
   "source": [
    "classification_phylum.loc[classification_phylum['rhod_type'] == 'type_1', '%'] = \\\n",
    "classification_phylum.loc[classification_phylum['rhod_type'] == 'type_1', 'count']*100/rhodopsin_phylum_count.loc['type_1','count']"
   ]
  },
  {
   "cell_type": "code",
   "execution_count": 44,
   "metadata": {},
   "outputs": [],
   "source": [
    "classification_phylum = classification_phylum.loc[classification_phylum[\"rhod_type\"] != \"Unclassified\"]"
   ]
  },
  {
   "cell_type": "markdown",
   "metadata": {},
   "source": [
    "---"
   ]
  },
  {
   "cell_type": "code",
   "execution_count": 47,
   "metadata": {},
   "outputs": [],
   "source": [
    "# gram negative\n",
    "\n",
    "diderm = ['Proteobacteria',\n",
    " 'Aquificae',\n",
    " 'Chlamydiae',\n",
    " 'Bacteroidetes',\n",
    " 'Chlorobi',\n",
    " 'Cyanobacteria',\n",
    " 'Fibrobacteres',\n",
    " 'Verrucomicrobia',\n",
    " 'Planctomycetes',\n",
    " 'Spirochetes',\n",
    " 'Acidobacteria',\n",
    " 'Gemmatimonadetes',\n",
    " 'Spirochaetes',\n",
    " 'Balneolaeota',\n",
    " 'Rhodothermaeota','Caldiserica']"
   ]
  },
  {
   "cell_type": "code",
   "execution_count": 48,
   "metadata": {},
   "outputs": [],
   "source": [
    "#gram positive\n",
    "monoderm = ['Actinobacteria',\n",
    " 'Firmicutes',\n",
    " 'Thermotogae',\n",
    " 'Chloroflexi',\n",
    " 'Tenericutes',\n",
    " 'Haloplasmatales',\n",
    " 'Deinococcus-Thermus']"
   ]
  },
  {
   "cell_type": "code",
   "execution_count": 49,
   "metadata": {},
   "outputs": [],
   "source": [
    "archaea = [\"Euryarchaeota\", \"Asgard group\", \"Thaumarchaeota\"]"
   ]
  },
  {
   "cell_type": "code",
   "execution_count": 50,
   "metadata": {},
   "outputs": [],
   "source": [
    "candidatus_archaea = ['Candidatus Bathyarchaeota', 'Candidatus Nanohaloarchaeota', 'Candidatus Woesearchaeota']"
   ]
  },
  {
   "cell_type": "code",
   "execution_count": 51,
   "metadata": {},
   "outputs": [],
   "source": [
    "candidatus_bacteria = ['Candidatus Berkelbacteria',\n",
    "       'Candidatus Dojkabacteria', 'Candidatus Kerfeldbacteria',\n",
    "       'Candidatus Levybacteria', 'Candidatus Marinimicrobia','Candidatus Saccharibacteria', 'Candidatus Woykebacteria',\n",
    "       'candidate division WS2', 'candidate division WWE3','candidate division CPR3', 'Unclassified_Bac', 'Unclassified_Bact']"
   ]
  },
  {
   "cell_type": "code",
   "execution_count": 52,
   "metadata": {},
   "outputs": [],
   "source": [
    "classification_phylum.loc[classification_phylum[\"phylum\"].isin(diderm), \"plot_classification\"] = \"Diderm\""
   ]
  },
  {
   "cell_type": "code",
   "execution_count": 53,
   "metadata": {},
   "outputs": [],
   "source": [
    "classification_phylum.loc[classification_phylum[\"phylum\"].isin(monoderm), \"plot_classification\"] = \"Monoderm\""
   ]
  },
  {
   "cell_type": "code",
   "execution_count": 54,
   "metadata": {},
   "outputs": [],
   "source": [
    "classification_phylum.loc[classification_phylum[\"phylum\"].isin(archaea), \"plot_classification\"] = \"Archaea\""
   ]
  },
  {
   "cell_type": "code",
   "execution_count": 55,
   "metadata": {},
   "outputs": [],
   "source": [
    "classification_phylum.loc[classification_phylum[\"phylum\"].isin(candidatus_archaea), \"plot_classification\"] = \"Unclassified_Archaea\""
   ]
  },
  {
   "cell_type": "code",
   "execution_count": 56,
   "metadata": {},
   "outputs": [],
   "source": [
    "classification_phylum.loc[classification_phylum[\"phylum\"].isin(candidatus_bacteria), \"plot_classification\"] = \"Unclassified_Bacteria\""
   ]
  },
  {
   "cell_type": "code",
   "execution_count": 57,
   "metadata": {},
   "outputs": [],
   "source": [
    "classification_phylum.loc[classification_phylum[\"phylum\"] == \"Viruses\", \"plot_classification\"] = \"Viruses\""
   ]
  },
  {
   "cell_type": "code",
   "execution_count": 58,
   "metadata": {},
   "outputs": [],
   "source": [
    "classification_phylum.loc[classification_phylum[\"phylum\"] == \"Eukaryotes\", \"plot_classification\"] = \"Eukaryotes\""
   ]
  },
  {
   "cell_type": "code",
   "execution_count": 59,
   "metadata": {},
   "outputs": [
    {
     "data": {
      "text/html": [
       "<div>\n",
       "<style scoped>\n",
       "    .dataframe tbody tr th:only-of-type {\n",
       "        vertical-align: middle;\n",
       "    }\n",
       "\n",
       "    .dataframe tbody tr th {\n",
       "        vertical-align: top;\n",
       "    }\n",
       "\n",
       "    .dataframe thead th {\n",
       "        text-align: right;\n",
       "    }\n",
       "</style>\n",
       "<table border=\"1\" class=\"dataframe\">\n",
       "  <thead>\n",
       "    <tr style=\"text-align: right;\">\n",
       "      <th></th>\n",
       "      <th>rhod_type</th>\n",
       "      <th>phylum</th>\n",
       "      <th>count</th>\n",
       "      <th>%</th>\n",
       "      <th>plot_classification</th>\n",
       "    </tr>\n",
       "  </thead>\n",
       "  <tbody>\n",
       "    <tr>\n",
       "      <th>7</th>\n",
       "      <td>helio</td>\n",
       "      <td>Bacteroidetes</td>\n",
       "      <td>1</td>\n",
       "      <td>0.273973</td>\n",
       "      <td>Diderm</td>\n",
       "    </tr>\n",
       "    <tr>\n",
       "      <th>8</th>\n",
       "      <td>helio</td>\n",
       "      <td>Caldiserica</td>\n",
       "      <td>1</td>\n",
       "      <td>0.273973</td>\n",
       "      <td>Diderm</td>\n",
       "    </tr>\n",
       "    <tr>\n",
       "      <th>18</th>\n",
       "      <td>helio</td>\n",
       "      <td>Planctomycetes</td>\n",
       "      <td>1</td>\n",
       "      <td>0.273973</td>\n",
       "      <td>Diderm</td>\n",
       "    </tr>\n",
       "    <tr>\n",
       "      <th>19</th>\n",
       "      <td>helio</td>\n",
       "      <td>Proteobacteria</td>\n",
       "      <td>5</td>\n",
       "      <td>1.369863</td>\n",
       "      <td>Diderm</td>\n",
       "    </tr>\n",
       "    <tr>\n",
       "      <th>20</th>\n",
       "      <td>helio</td>\n",
       "      <td>Rhodothermaeota</td>\n",
       "      <td>1</td>\n",
       "      <td>0.273973</td>\n",
       "      <td>Diderm</td>\n",
       "    </tr>\n",
       "    <tr>\n",
       "      <th>21</th>\n",
       "      <td>helio</td>\n",
       "      <td>Spirochaetes</td>\n",
       "      <td>1</td>\n",
       "      <td>0.273973</td>\n",
       "      <td>Diderm</td>\n",
       "    </tr>\n",
       "    <tr>\n",
       "      <th>25</th>\n",
       "      <td>helio</td>\n",
       "      <td>Verrucomicrobia</td>\n",
       "      <td>1</td>\n",
       "      <td>0.273973</td>\n",
       "      <td>Diderm</td>\n",
       "    </tr>\n",
       "  </tbody>\n",
       "</table>\n",
       "</div>"
      ],
      "text/plain": [
       "   rhod_type           phylum  count         % plot_classification\n",
       "7      helio    Bacteroidetes      1  0.273973              Diderm\n",
       "8      helio      Caldiserica      1  0.273973              Diderm\n",
       "18     helio   Planctomycetes      1  0.273973              Diderm\n",
       "19     helio   Proteobacteria      5  1.369863              Diderm\n",
       "20     helio  Rhodothermaeota      1  0.273973              Diderm\n",
       "21     helio     Spirochaetes      1  0.273973              Diderm\n",
       "25     helio  Verrucomicrobia      1  0.273973              Diderm"
      ]
     },
     "execution_count": 59,
     "metadata": {},
     "output_type": "execute_result"
    }
   ],
   "source": [
    "classification_phylum.loc[(classification_phylum[\"plot_classification\"]==\"Diderm\") & (classification_phylum[\"rhod_type\"]==\"helio\") & (classification_phylum[\"count\"] > 0)]"
   ]
  },
  {
   "cell_type": "markdown",
   "metadata": {},
   "source": [
    "### Plot parameters"
   ]
  },
  {
   "cell_type": "code",
   "execution_count": 60,
   "metadata": {},
   "outputs": [],
   "source": [
    "a4_dims = (11.7, 8.27)\n",
    "color_dict = {'helio':\"#7137c8\", 'type_1':\"gray\"}"
   ]
  },
  {
   "cell_type": "code",
   "execution_count": 71,
   "metadata": {},
   "outputs": [
    {
     "data": {
      "text/html": [
       "<div>\n",
       "<style scoped>\n",
       "    .dataframe tbody tr th:only-of-type {\n",
       "        vertical-align: middle;\n",
       "    }\n",
       "\n",
       "    .dataframe tbody tr th {\n",
       "        vertical-align: top;\n",
       "    }\n",
       "\n",
       "    .dataframe thead th {\n",
       "        text-align: right;\n",
       "    }\n",
       "</style>\n",
       "<table border=\"1\" class=\"dataframe\">\n",
       "  <thead>\n",
       "    <tr style=\"text-align: right;\">\n",
       "      <th></th>\n",
       "      <th>count</th>\n",
       "    </tr>\n",
       "    <tr>\n",
       "      <th>rhod_type</th>\n",
       "      <th></th>\n",
       "    </tr>\n",
       "  </thead>\n",
       "  <tbody>\n",
       "    <tr>\n",
       "      <th>helio</th>\n",
       "      <td>365</td>\n",
       "    </tr>\n",
       "    <tr>\n",
       "      <th>type_1</th>\n",
       "      <td>2440</td>\n",
       "    </tr>\n",
       "  </tbody>\n",
       "</table>\n",
       "</div>"
      ],
      "text/plain": [
       "           count\n",
       "rhod_type       \n",
       "helio        365\n",
       "type_1      2440"
      ]
     },
     "execution_count": 71,
     "metadata": {},
     "output_type": "execute_result"
    }
   ],
   "source": [
    "classification_plot_count_df"
   ]
  },
  {
   "cell_type": "code",
   "execution_count": 72,
   "metadata": {},
   "outputs": [
    {
     "data": {
      "text/html": [
       "<div>\n",
       "<style scoped>\n",
       "    .dataframe tbody tr th:only-of-type {\n",
       "        vertical-align: middle;\n",
       "    }\n",
       "\n",
       "    .dataframe tbody tr th {\n",
       "        vertical-align: top;\n",
       "    }\n",
       "\n",
       "    .dataframe thead th {\n",
       "        text-align: right;\n",
       "    }\n",
       "</style>\n",
       "<table border=\"1\" class=\"dataframe\">\n",
       "  <thead>\n",
       "    <tr style=\"text-align: right;\">\n",
       "      <th></th>\n",
       "      <th>rhod_type</th>\n",
       "      <th>plot_classification</th>\n",
       "      <th>count</th>\n",
       "      <th>%</th>\n",
       "    </tr>\n",
       "  </thead>\n",
       "  <tbody>\n",
       "    <tr>\n",
       "      <th>4</th>\n",
       "      <td>helio</td>\n",
       "      <td>Unclassified_Archaea</td>\n",
       "      <td>2</td>\n",
       "      <td>0.547945</td>\n",
       "    </tr>\n",
       "    <tr>\n",
       "      <th>2</th>\n",
       "      <td>helio</td>\n",
       "      <td>Eukaryotes</td>\n",
       "      <td>9</td>\n",
       "      <td>2.465753</td>\n",
       "    </tr>\n",
       "    <tr>\n",
       "      <th>1</th>\n",
       "      <td>helio</td>\n",
       "      <td>Diderm</td>\n",
       "      <td>11</td>\n",
       "      <td>3.013699</td>\n",
       "    </tr>\n",
       "    <tr>\n",
       "      <th>5</th>\n",
       "      <td>helio</td>\n",
       "      <td>Unclassified_Bacteria</td>\n",
       "      <td>29</td>\n",
       "      <td>7.945205</td>\n",
       "    </tr>\n",
       "    <tr>\n",
       "      <th>6</th>\n",
       "      <td>helio</td>\n",
       "      <td>Viruses</td>\n",
       "      <td>41</td>\n",
       "      <td>11.232877</td>\n",
       "    </tr>\n",
       "    <tr>\n",
       "      <th>0</th>\n",
       "      <td>helio</td>\n",
       "      <td>Archaea</td>\n",
       "      <td>61</td>\n",
       "      <td>16.712329</td>\n",
       "    </tr>\n",
       "    <tr>\n",
       "      <th>3</th>\n",
       "      <td>helio</td>\n",
       "      <td>Monoderm</td>\n",
       "      <td>212</td>\n",
       "      <td>58.082192</td>\n",
       "    </tr>\n",
       "    <tr>\n",
       "      <th>13</th>\n",
       "      <td>type_1</td>\n",
       "      <td>Viruses</td>\n",
       "      <td>5</td>\n",
       "      <td>0.204918</td>\n",
       "    </tr>\n",
       "    <tr>\n",
       "      <th>11</th>\n",
       "      <td>type_1</td>\n",
       "      <td>Unclassified_Archaea</td>\n",
       "      <td>9</td>\n",
       "      <td>0.368852</td>\n",
       "    </tr>\n",
       "    <tr>\n",
       "      <th>12</th>\n",
       "      <td>type_1</td>\n",
       "      <td>Unclassified_Bacteria</td>\n",
       "      <td>37</td>\n",
       "      <td>1.516393</td>\n",
       "    </tr>\n",
       "    <tr>\n",
       "      <th>10</th>\n",
       "      <td>type_1</td>\n",
       "      <td>Monoderm</td>\n",
       "      <td>237</td>\n",
       "      <td>9.713115</td>\n",
       "    </tr>\n",
       "    <tr>\n",
       "      <th>7</th>\n",
       "      <td>type_1</td>\n",
       "      <td>Archaea</td>\n",
       "      <td>410</td>\n",
       "      <td>16.803279</td>\n",
       "    </tr>\n",
       "    <tr>\n",
       "      <th>8</th>\n",
       "      <td>type_1</td>\n",
       "      <td>Diderm</td>\n",
       "      <td>849</td>\n",
       "      <td>34.795082</td>\n",
       "    </tr>\n",
       "    <tr>\n",
       "      <th>9</th>\n",
       "      <td>type_1</td>\n",
       "      <td>Eukaryotes</td>\n",
       "      <td>893</td>\n",
       "      <td>36.598361</td>\n",
       "    </tr>\n",
       "  </tbody>\n",
       "</table>\n",
       "</div>"
      ],
      "text/plain": [
       "   rhod_type    plot_classification  count          %\n",
       "4      helio   Unclassified_Archaea      2   0.547945\n",
       "2      helio             Eukaryotes      9   2.465753\n",
       "1      helio                 Diderm     11   3.013699\n",
       "5      helio  Unclassified_Bacteria     29   7.945205\n",
       "6      helio                Viruses     41  11.232877\n",
       "0      helio                Archaea     61  16.712329\n",
       "3      helio               Monoderm    212  58.082192\n",
       "13    type_1                Viruses      5   0.204918\n",
       "11    type_1   Unclassified_Archaea      9   0.368852\n",
       "12    type_1  Unclassified_Bacteria     37   1.516393\n",
       "10    type_1               Monoderm    237   9.713115\n",
       "7     type_1                Archaea    410  16.803279\n",
       "8     type_1                 Diderm    849  34.795082\n",
       "9     type_1             Eukaryotes    893  36.598361"
      ]
     },
     "execution_count": 72,
     "metadata": {},
     "output_type": "execute_result"
    }
   ],
   "source": [
    "classification_plot"
   ]
  },
  {
   "cell_type": "markdown",
   "metadata": {},
   "source": [
    "---"
   ]
  },
  {
   "cell_type": "code",
   "execution_count": 73,
   "metadata": {},
   "outputs": [],
   "source": [
    "phylum_to_classification = classification_phylum[['phylum', 'plot_classification']].sort_values(by=\"phylum\").drop_duplicates('phylum')"
   ]
  },
  {
   "cell_type": "code",
   "execution_count": 74,
   "metadata": {},
   "outputs": [],
   "source": [
    "rhod_df_2 = rhod_df.merge(phylum_to_classification, how='left')"
   ]
  },
  {
   "cell_type": "code",
   "execution_count": 75,
   "metadata": {},
   "outputs": [],
   "source": [
    "rhod_df_2.loc[rhod_df_2['superkingdom'] == \"Viruses\", \"plot_classification\"] = \"Viruses\"\n",
    "rhod_df_2.loc[rhod_df_2['superkingdom'] == \"Eukaryota\", \"plot_classification\"] = \"Eukaryotes\""
   ]
  },
  {
   "cell_type": "markdown",
   "metadata": {},
   "source": [
    "To retrieve the DNA sequences were the diderm helios come from we generate a string to be used in the UniProt \"Retrieve/ID mapping\" section:"
   ]
  },
  {
   "cell_type": "code",
   "execution_count": 76,
   "metadata": {},
   "outputs": [],
   "source": [
    "diderm_helios = rhod_df_2.loc[(rhod_df_2['rhod_type'] == \"helio\") & (rhod_df_2['plot_classification'] == \"Diderm\")]"
   ]
  },
  {
   "cell_type": "code",
   "execution_count": 77,
   "metadata": {},
   "outputs": [
    {
     "data": {
      "text/plain": [
       "'A0A2E6VS27 A0A2D5VLF3 A0A0S8KIK3 A0A2J6WFT3 A0A2N1RF51 A0A2E8P9U3 A0A2D9B3I5 A0A2E5JDM4 A0A2D7RE61 A0A1Z9VIQ1 A0A2E4IYC1'"
      ]
     },
     "execution_count": 77,
     "metadata": {},
     "output_type": "execute_result"
    }
   ],
   "source": [
    "\" \".join(rhod_df_2.loc[(rhod_df_2['rhod_type'] == \"helio\") & (rhod_df_2['plot_classification'] == \"Diderm\")][\"uniprot\"].unique())"
   ]
  },
  {
   "cell_type": "markdown",
   "metadata": {},
   "source": [
    "We retrieve the results:"
   ]
  },
  {
   "cell_type": "code",
   "execution_count": 78,
   "metadata": {},
   "outputs": [
    {
     "name": "stdout",
     "output_type": "stream",
     "text": [
      "  % Total    % Received % Xferd  Average Speed   Time    Time     Time  Current\n",
      "                                 Dload  Upload   Total   Spent    Left  Speed\n",
      "100   272  100   272    0     0    701      0 --:--:-- --:--:-- --:--:--   702\n"
     ]
    }
   ],
   "source": [
    "!curl \"http://www.uniprot.org/mapping/M20180612E29AEE828664DEEC55715D2BCC1634E10E26C49.tab\" > ./data/uniprot_analysis/uniref90/uniprot_20180612_diderm_helios.tsv"
   ]
  },
  {
   "cell_type": "code",
   "execution_count": 79,
   "metadata": {},
   "outputs": [],
   "source": [
    "diderm_helios_genbank = pd.read_csv(\"./data/uniprot_analysis/uniref90/uniprot_20180612_diderm_helios.tsv\", sep=\"\\t\", names=[\"uniprot\", \"GenBank\"], skiprows=1)"
   ]
  },
  {
   "cell_type": "code",
   "execution_count": 80,
   "metadata": {},
   "outputs": [
    {
     "data": {
      "text/html": [
       "<div>\n",
       "<style scoped>\n",
       "    .dataframe tbody tr th:only-of-type {\n",
       "        vertical-align: middle;\n",
       "    }\n",
       "\n",
       "    .dataframe tbody tr th {\n",
       "        vertical-align: top;\n",
       "    }\n",
       "\n",
       "    .dataframe thead th {\n",
       "        text-align: right;\n",
       "    }\n",
       "</style>\n",
       "<table border=\"1\" class=\"dataframe\">\n",
       "  <thead>\n",
       "    <tr style=\"text-align: right;\">\n",
       "      <th></th>\n",
       "      <th>uniprot</th>\n",
       "      <th>GenBank</th>\n",
       "    </tr>\n",
       "  </thead>\n",
       "  <tbody>\n",
       "    <tr>\n",
       "      <th>0</th>\n",
       "      <td>A0A2E6VS27</td>\n",
       "      <td>PBLQ01000024</td>\n",
       "    </tr>\n",
       "    <tr>\n",
       "      <th>1</th>\n",
       "      <td>A0A2D5VLF3</td>\n",
       "      <td>NYYR01000026</td>\n",
       "    </tr>\n",
       "    <tr>\n",
       "      <th>2</th>\n",
       "      <td>A0A0S8KIK3</td>\n",
       "      <td>LJVF01000126</td>\n",
       "    </tr>\n",
       "    <tr>\n",
       "      <th>3</th>\n",
       "      <td>A0A2J6WFT3</td>\n",
       "      <td>PNIL01000013</td>\n",
       "    </tr>\n",
       "    <tr>\n",
       "      <th>4</th>\n",
       "      <td>A0A2N1RF51</td>\n",
       "      <td>PGXQ01000178</td>\n",
       "    </tr>\n",
       "  </tbody>\n",
       "</table>\n",
       "</div>"
      ],
      "text/plain": [
       "      uniprot       GenBank\n",
       "0  A0A2E6VS27  PBLQ01000024\n",
       "1  A0A2D5VLF3  NYYR01000026\n",
       "2  A0A0S8KIK3  LJVF01000126\n",
       "3  A0A2J6WFT3  PNIL01000013\n",
       "4  A0A2N1RF51  PGXQ01000178"
      ]
     },
     "execution_count": 80,
     "metadata": {},
     "output_type": "execute_result"
    }
   ],
   "source": [
    "diderm_helios_genbank.head()"
   ]
  },
  {
   "cell_type": "code",
   "execution_count": 81,
   "metadata": {},
   "outputs": [
    {
     "data": {
      "text/html": [
       "<div>\n",
       "<style scoped>\n",
       "    .dataframe tbody tr th:only-of-type {\n",
       "        vertical-align: middle;\n",
       "    }\n",
       "\n",
       "    .dataframe tbody tr th {\n",
       "        vertical-align: top;\n",
       "    }\n",
       "\n",
       "    .dataframe thead th {\n",
       "        text-align: right;\n",
       "    }\n",
       "</style>\n",
       "<table border=\"1\" class=\"dataframe\">\n",
       "  <thead>\n",
       "    <tr style=\"text-align: right;\">\n",
       "      <th></th>\n",
       "      <th>uniprot</th>\n",
       "      <th>rhod_type</th>\n",
       "      <th>superkingdom</th>\n",
       "      <th>phylum</th>\n",
       "      <th>plot_classification</th>\n",
       "      <th>GenBank</th>\n",
       "    </tr>\n",
       "  </thead>\n",
       "  <tbody>\n",
       "    <tr>\n",
       "      <th>0</th>\n",
       "      <td>A0A2E6VS27</td>\n",
       "      <td>helio</td>\n",
       "      <td>Bacteria</td>\n",
       "      <td>Proteobacteria</td>\n",
       "      <td>Diderm</td>\n",
       "      <td>PBLQ01000024</td>\n",
       "    </tr>\n",
       "    <tr>\n",
       "      <th>1</th>\n",
       "      <td>A0A2D5VLF3</td>\n",
       "      <td>helio</td>\n",
       "      <td>Bacteria</td>\n",
       "      <td>Proteobacteria</td>\n",
       "      <td>Diderm</td>\n",
       "      <td>NYYR01000026</td>\n",
       "    </tr>\n",
       "    <tr>\n",
       "      <th>2</th>\n",
       "      <td>A0A0S8KIK3</td>\n",
       "      <td>helio</td>\n",
       "      <td>Bacteria</td>\n",
       "      <td>Planctomycetes</td>\n",
       "      <td>Diderm</td>\n",
       "      <td>LJVF01000126</td>\n",
       "    </tr>\n",
       "    <tr>\n",
       "      <th>3</th>\n",
       "      <td>A0A2J6WFT3</td>\n",
       "      <td>helio</td>\n",
       "      <td>Bacteria</td>\n",
       "      <td>Caldiserica</td>\n",
       "      <td>Diderm</td>\n",
       "      <td>PNIL01000013</td>\n",
       "    </tr>\n",
       "    <tr>\n",
       "      <th>4</th>\n",
       "      <td>A0A2N1RF51</td>\n",
       "      <td>helio</td>\n",
       "      <td>Bacteria</td>\n",
       "      <td>Spirochaetes</td>\n",
       "      <td>Diderm</td>\n",
       "      <td>PGXQ01000178</td>\n",
       "    </tr>\n",
       "    <tr>\n",
       "      <th>5</th>\n",
       "      <td>A0A2E8P9U3</td>\n",
       "      <td>helio</td>\n",
       "      <td>Bacteria</td>\n",
       "      <td>Rhodothermaeota</td>\n",
       "      <td>Diderm</td>\n",
       "      <td>PBTV01000036</td>\n",
       "    </tr>\n",
       "    <tr>\n",
       "      <th>6</th>\n",
       "      <td>A0A2D9B3I5</td>\n",
       "      <td>helio</td>\n",
       "      <td>Bacteria</td>\n",
       "      <td>Proteobacteria</td>\n",
       "      <td>Diderm</td>\n",
       "      <td>NZPZ01000075</td>\n",
       "    </tr>\n",
       "    <tr>\n",
       "      <th>7</th>\n",
       "      <td>A0A2E5JDM4</td>\n",
       "      <td>helio</td>\n",
       "      <td>Bacteria</td>\n",
       "      <td>Bacteroidetes</td>\n",
       "      <td>Diderm</td>\n",
       "      <td>PBCE01000032</td>\n",
       "    </tr>\n",
       "    <tr>\n",
       "      <th>8</th>\n",
       "      <td>A0A2D7RE61</td>\n",
       "      <td>helio</td>\n",
       "      <td>Bacteria</td>\n",
       "      <td>Proteobacteria</td>\n",
       "      <td>Diderm</td>\n",
       "      <td>NZIM01000046</td>\n",
       "    </tr>\n",
       "    <tr>\n",
       "      <th>9</th>\n",
       "      <td>A0A1Z9VIQ1</td>\n",
       "      <td>helio</td>\n",
       "      <td>Bacteria</td>\n",
       "      <td>Proteobacteria</td>\n",
       "      <td>Diderm</td>\n",
       "      <td>NHMA01000017</td>\n",
       "    </tr>\n",
       "    <tr>\n",
       "      <th>10</th>\n",
       "      <td>A0A2E4IYC1</td>\n",
       "      <td>helio</td>\n",
       "      <td>Bacteria</td>\n",
       "      <td>Verrucomicrobia</td>\n",
       "      <td>Diderm</td>\n",
       "      <td>PAUB01000012</td>\n",
       "    </tr>\n",
       "  </tbody>\n",
       "</table>\n",
       "</div>"
      ],
      "text/plain": [
       "       uniprot rhod_type superkingdom           phylum plot_classification  \\\n",
       "0   A0A2E6VS27     helio     Bacteria   Proteobacteria              Diderm   \n",
       "1   A0A2D5VLF3     helio     Bacteria   Proteobacteria              Diderm   \n",
       "2   A0A0S8KIK3     helio     Bacteria   Planctomycetes              Diderm   \n",
       "3   A0A2J6WFT3     helio     Bacteria      Caldiserica              Diderm   \n",
       "4   A0A2N1RF51     helio     Bacteria     Spirochaetes              Diderm   \n",
       "5   A0A2E8P9U3     helio     Bacteria  Rhodothermaeota              Diderm   \n",
       "6   A0A2D9B3I5     helio     Bacteria   Proteobacteria              Diderm   \n",
       "7   A0A2E5JDM4     helio     Bacteria    Bacteroidetes              Diderm   \n",
       "8   A0A2D7RE61     helio     Bacteria   Proteobacteria              Diderm   \n",
       "9   A0A1Z9VIQ1     helio     Bacteria   Proteobacteria              Diderm   \n",
       "10  A0A2E4IYC1     helio     Bacteria  Verrucomicrobia              Diderm   \n",
       "\n",
       "         GenBank  \n",
       "0   PBLQ01000024  \n",
       "1   NYYR01000026  \n",
       "2   LJVF01000126  \n",
       "3   PNIL01000013  \n",
       "4   PGXQ01000178  \n",
       "5   PBTV01000036  \n",
       "6   NZPZ01000075  \n",
       "7   PBCE01000032  \n",
       "8   NZIM01000046  \n",
       "9   NHMA01000017  \n",
       "10  PAUB01000012  "
      ]
     },
     "execution_count": 81,
     "metadata": {},
     "output_type": "execute_result"
    }
   ],
   "source": [
    "diderm_helios.merge(diderm_helios_genbank, how=\"left\")"
   ]
  },
  {
   "cell_type": "markdown",
   "metadata": {},
   "source": [
    "After manual classification based on blast results from other proteins inside the same contig/genome"
   ]
  },
  {
   "cell_type": "code",
   "execution_count": 98,
   "metadata": {},
   "outputs": [],
   "source": [
    "# diderm_helios_manual_tax = pd.read_clipboard()\n",
    "# diderm_helios_manual_tax.to_csv(\"./data/uniprot_analysis/uniref90/uniprot_20180612_diderm_helios_manual_tax.tsv\", sep=\"\\t\", index=False)"
   ]
  },
  {
   "cell_type": "code",
   "execution_count": 99,
   "metadata": {},
   "outputs": [],
   "source": [
    "diderm_helios_manual_tax = pd.read_csv(\"./data/uniprot_analysis/uniref90/uniprot_20180612_diderm_helios_manual_tax.tsv\", sep=\"\\t\")"
   ]
  },
  {
   "cell_type": "code",
   "execution_count": 100,
   "metadata": {},
   "outputs": [
    {
     "data": {
      "text/html": [
       "<div>\n",
       "<style scoped>\n",
       "    .dataframe tbody tr th:only-of-type {\n",
       "        vertical-align: middle;\n",
       "    }\n",
       "\n",
       "    .dataframe tbody tr th {\n",
       "        vertical-align: top;\n",
       "    }\n",
       "\n",
       "    .dataframe thead th {\n",
       "        text-align: right;\n",
       "    }\n",
       "</style>\n",
       "<table border=\"1\" class=\"dataframe\">\n",
       "  <thead>\n",
       "    <tr style=\"text-align: right;\">\n",
       "      <th></th>\n",
       "      <th>uniprot</th>\n",
       "      <th>phylum</th>\n",
       "      <th>plot_classification</th>\n",
       "    </tr>\n",
       "  </thead>\n",
       "  <tbody>\n",
       "    <tr>\n",
       "      <th>0</th>\n",
       "      <td>A0A2E6VS27</td>\n",
       "      <td>Actinobacteria</td>\n",
       "      <td>Monoderm</td>\n",
       "    </tr>\n",
       "    <tr>\n",
       "      <th>1</th>\n",
       "      <td>A0A2D5VLF3</td>\n",
       "      <td>probable_phage</td>\n",
       "      <td>Unclassified</td>\n",
       "    </tr>\n",
       "    <tr>\n",
       "      <th>2</th>\n",
       "      <td>A0A0S8KIK3</td>\n",
       "      <td>Chloroflexi</td>\n",
       "      <td>Monoderm</td>\n",
       "    </tr>\n",
       "    <tr>\n",
       "      <th>3</th>\n",
       "      <td>A0A2J6WFT3</td>\n",
       "      <td>archaea/actinobacteria</td>\n",
       "      <td>Unclassified</td>\n",
       "    </tr>\n",
       "    <tr>\n",
       "      <th>4</th>\n",
       "      <td>A0A2N1RF51</td>\n",
       "      <td>actinobacteria/proteobacteria/spirochaetes</td>\n",
       "      <td>Unclassified_Bacteria</td>\n",
       "    </tr>\n",
       "    <tr>\n",
       "      <th>5</th>\n",
       "      <td>A0A2E8P9U3</td>\n",
       "      <td>Actinobacteria</td>\n",
       "      <td>Monoderm</td>\n",
       "    </tr>\n",
       "    <tr>\n",
       "      <th>6</th>\n",
       "      <td>A0A2D9B3I5</td>\n",
       "      <td>Actinomarina</td>\n",
       "      <td>Monoderm</td>\n",
       "    </tr>\n",
       "    <tr>\n",
       "      <th>7</th>\n",
       "      <td>A0A2E5JDM4</td>\n",
       "      <td>Euk/candidatus_bacteria</td>\n",
       "      <td>Unclassified</td>\n",
       "    </tr>\n",
       "    <tr>\n",
       "      <th>8</th>\n",
       "      <td>A0A2D7RE61</td>\n",
       "      <td>Euk/virus</td>\n",
       "      <td>Unclassified</td>\n",
       "    </tr>\n",
       "    <tr>\n",
       "      <th>9</th>\n",
       "      <td>A0A1Z9VIQ1</td>\n",
       "      <td>Euk/virus</td>\n",
       "      <td>Unclassified</td>\n",
       "    </tr>\n",
       "    <tr>\n",
       "      <th>10</th>\n",
       "      <td>A0A2E4IYC1</td>\n",
       "      <td>Euk/candidatus_bacteria</td>\n",
       "      <td>Unclassified</td>\n",
       "    </tr>\n",
       "  </tbody>\n",
       "</table>\n",
       "</div>"
      ],
      "text/plain": [
       "       uniprot                                      phylum  \\\n",
       "0   A0A2E6VS27                              Actinobacteria   \n",
       "1   A0A2D5VLF3                              probable_phage   \n",
       "2   A0A0S8KIK3                                 Chloroflexi   \n",
       "3   A0A2J6WFT3                      archaea/actinobacteria   \n",
       "4   A0A2N1RF51  actinobacteria/proteobacteria/spirochaetes   \n",
       "5   A0A2E8P9U3                              Actinobacteria   \n",
       "6   A0A2D9B3I5                                Actinomarina   \n",
       "7   A0A2E5JDM4                     Euk/candidatus_bacteria   \n",
       "8   A0A2D7RE61                                   Euk/virus   \n",
       "9   A0A1Z9VIQ1                                   Euk/virus   \n",
       "10  A0A2E4IYC1                     Euk/candidatus_bacteria   \n",
       "\n",
       "      plot_classification  \n",
       "0                Monoderm  \n",
       "1            Unclassified  \n",
       "2                Monoderm  \n",
       "3            Unclassified  \n",
       "4   Unclassified_Bacteria  \n",
       "5                Monoderm  \n",
       "6                Monoderm  \n",
       "7            Unclassified  \n",
       "8            Unclassified  \n",
       "9            Unclassified  \n",
       "10           Unclassified  "
      ]
     },
     "execution_count": 100,
     "metadata": {},
     "output_type": "execute_result"
    }
   ],
   "source": [
    "diderm_helios_manual_tax"
   ]
  },
  {
   "cell_type": "code",
   "execution_count": 101,
   "metadata": {},
   "outputs": [],
   "source": [
    "# replace tax and plot_classification\n",
    "diderm_helios_manual_tax = diderm_helios_manual_tax.merge(diderm_helios[[\"uniprot\", \"superkingdom\", \"rhod_type\"]], on=\"uniprot\", how=\"left\")"
   ]
  },
  {
   "cell_type": "code",
   "execution_count": 102,
   "metadata": {},
   "outputs": [
    {
     "data": {
      "text/html": [
       "<div>\n",
       "<style scoped>\n",
       "    .dataframe tbody tr th:only-of-type {\n",
       "        vertical-align: middle;\n",
       "    }\n",
       "\n",
       "    .dataframe tbody tr th {\n",
       "        vertical-align: top;\n",
       "    }\n",
       "\n",
       "    .dataframe thead th {\n",
       "        text-align: right;\n",
       "    }\n",
       "</style>\n",
       "<table border=\"1\" class=\"dataframe\">\n",
       "  <thead>\n",
       "    <tr style=\"text-align: right;\">\n",
       "      <th></th>\n",
       "      <th>uniprot</th>\n",
       "      <th>phylum</th>\n",
       "      <th>plot_classification</th>\n",
       "      <th>superkingdom</th>\n",
       "      <th>rhod_type</th>\n",
       "    </tr>\n",
       "  </thead>\n",
       "  <tbody>\n",
       "    <tr>\n",
       "      <th>0</th>\n",
       "      <td>A0A2E6VS27</td>\n",
       "      <td>Actinobacteria</td>\n",
       "      <td>Monoderm</td>\n",
       "      <td>Bacteria</td>\n",
       "      <td>helio</td>\n",
       "    </tr>\n",
       "    <tr>\n",
       "      <th>1</th>\n",
       "      <td>A0A2D5VLF3</td>\n",
       "      <td>probable_phage</td>\n",
       "      <td>Unclassified</td>\n",
       "      <td>Bacteria</td>\n",
       "      <td>helio</td>\n",
       "    </tr>\n",
       "    <tr>\n",
       "      <th>2</th>\n",
       "      <td>A0A0S8KIK3</td>\n",
       "      <td>Chloroflexi</td>\n",
       "      <td>Monoderm</td>\n",
       "      <td>Bacteria</td>\n",
       "      <td>helio</td>\n",
       "    </tr>\n",
       "    <tr>\n",
       "      <th>3</th>\n",
       "      <td>A0A2J6WFT3</td>\n",
       "      <td>archaea/actinobacteria</td>\n",
       "      <td>Unclassified</td>\n",
       "      <td>Bacteria</td>\n",
       "      <td>helio</td>\n",
       "    </tr>\n",
       "    <tr>\n",
       "      <th>4</th>\n",
       "      <td>A0A2N1RF51</td>\n",
       "      <td>actinobacteria/proteobacteria/spirochaetes</td>\n",
       "      <td>Unclassified_Bacteria</td>\n",
       "      <td>Bacteria</td>\n",
       "      <td>helio</td>\n",
       "    </tr>\n",
       "    <tr>\n",
       "      <th>5</th>\n",
       "      <td>A0A2E8P9U3</td>\n",
       "      <td>Actinobacteria</td>\n",
       "      <td>Monoderm</td>\n",
       "      <td>Bacteria</td>\n",
       "      <td>helio</td>\n",
       "    </tr>\n",
       "    <tr>\n",
       "      <th>6</th>\n",
       "      <td>A0A2D9B3I5</td>\n",
       "      <td>Actinomarina</td>\n",
       "      <td>Monoderm</td>\n",
       "      <td>Bacteria</td>\n",
       "      <td>helio</td>\n",
       "    </tr>\n",
       "    <tr>\n",
       "      <th>7</th>\n",
       "      <td>A0A2E5JDM4</td>\n",
       "      <td>Euk/candidatus_bacteria</td>\n",
       "      <td>Unclassified</td>\n",
       "      <td>Bacteria</td>\n",
       "      <td>helio</td>\n",
       "    </tr>\n",
       "    <tr>\n",
       "      <th>8</th>\n",
       "      <td>A0A2D7RE61</td>\n",
       "      <td>Euk/virus</td>\n",
       "      <td>Unclassified</td>\n",
       "      <td>Bacteria</td>\n",
       "      <td>helio</td>\n",
       "    </tr>\n",
       "    <tr>\n",
       "      <th>9</th>\n",
       "      <td>A0A1Z9VIQ1</td>\n",
       "      <td>Euk/virus</td>\n",
       "      <td>Unclassified</td>\n",
       "      <td>Bacteria</td>\n",
       "      <td>helio</td>\n",
       "    </tr>\n",
       "    <tr>\n",
       "      <th>10</th>\n",
       "      <td>A0A2E4IYC1</td>\n",
       "      <td>Euk/candidatus_bacteria</td>\n",
       "      <td>Unclassified</td>\n",
       "      <td>Bacteria</td>\n",
       "      <td>helio</td>\n",
       "    </tr>\n",
       "  </tbody>\n",
       "</table>\n",
       "</div>"
      ],
      "text/plain": [
       "       uniprot                                      phylum  \\\n",
       "0   A0A2E6VS27                              Actinobacteria   \n",
       "1   A0A2D5VLF3                              probable_phage   \n",
       "2   A0A0S8KIK3                                 Chloroflexi   \n",
       "3   A0A2J6WFT3                      archaea/actinobacteria   \n",
       "4   A0A2N1RF51  actinobacteria/proteobacteria/spirochaetes   \n",
       "5   A0A2E8P9U3                              Actinobacteria   \n",
       "6   A0A2D9B3I5                                Actinomarina   \n",
       "7   A0A2E5JDM4                     Euk/candidatus_bacteria   \n",
       "8   A0A2D7RE61                                   Euk/virus   \n",
       "9   A0A1Z9VIQ1                                   Euk/virus   \n",
       "10  A0A2E4IYC1                     Euk/candidatus_bacteria   \n",
       "\n",
       "      plot_classification superkingdom rhod_type  \n",
       "0                Monoderm     Bacteria     helio  \n",
       "1            Unclassified     Bacteria     helio  \n",
       "2                Monoderm     Bacteria     helio  \n",
       "3            Unclassified     Bacteria     helio  \n",
       "4   Unclassified_Bacteria     Bacteria     helio  \n",
       "5                Monoderm     Bacteria     helio  \n",
       "6                Monoderm     Bacteria     helio  \n",
       "7            Unclassified     Bacteria     helio  \n",
       "8            Unclassified     Bacteria     helio  \n",
       "9            Unclassified     Bacteria     helio  \n",
       "10           Unclassified     Bacteria     helio  "
      ]
     },
     "execution_count": 102,
     "metadata": {},
     "output_type": "execute_result"
    }
   ],
   "source": [
    "diderm_helios_manual_tax"
   ]
  },
  {
   "cell_type": "code",
   "execution_count": 103,
   "metadata": {},
   "outputs": [],
   "source": [
    "rhod_df_2 = pd.concat([rhod_df_2.loc[~rhod_df_2.uniprot.isin(diderm_helios[\"uniprot\"])], diderm_helios_manual_tax], sort=False)"
   ]
  },
  {
   "cell_type": "code",
   "execution_count": 357,
   "metadata": {},
   "outputs": [
    {
     "data": {
      "image/png": "[encoded data removed]",
      "text/plain": [
       "<Figure size 720x720 with 2 Axes>"
      ]
     },
     "metadata": {},
     "output_type": "display_data"
    }
   ],
   "source": [
    "plot_df = rhod_df_2\n",
    "\n",
    "plot_df = plot_df.loc[~plot_df.plot_classification.isnull()]\n",
    "plot_df = plot_df.loc[plot_df.rhod_type != \"Unclassified\"]\n",
    "plot_df = plot_df.loc[~plot_df.plot_classification.isin([\"Unclassified\"])]\n",
    "\n",
    "# Count occurrence per category\n",
    "plot_df = plot_df[[\"rhod_type\", \"plot_classification\", \"uniprot\"]].\\\n",
    "groupby([\"rhod_type\", \"plot_classification\"]).\\\n",
    "agg(len).reset_index().sort_values('uniprot').\\\n",
    "rename(columns={'uniprot':'count'})\n",
    "\n",
    "\n",
    "# add missing taxa\n",
    "for rhod_type in ['helio', 'type_1']:\n",
    "    for classification in plot_df.plot_classification.unique():\n",
    "        if classification not in plot_df[(plot_df.rhod_type == rhod_type)]['plot_classification'].unique():\n",
    "            plot_df = plot_df.append({'rhod_type':rhod_type, 'plot_classification':classification, 'count':0}, ignore_index=True)\n",
    "\n",
    "classification_plot = plot_df\n",
    "\n",
    "# count total number of helios from each type\n",
    "classification_plot_count_df = classification_plot.groupby('rhod_type').agg(sum).reset_index().set_index('rhod_type')\n",
    "\n",
    "# Calculate %\n",
    "classification_plot.loc[classification_plot['rhod_type'] == 'helio', '%'] = \\\n",
    "classification_plot.loc[classification_plot['rhod_type'] == 'helio', 'count']*100/classification_plot_count_df.loc['helio','count']\n",
    "\n",
    "classification_plot.loc[classification_plot['rhod_type'] == 'type_1', '%'] = \\\n",
    "classification_plot.loc[classification_plot['rhod_type'] == 'type_1', 'count']*100/classification_plot_count_df.loc['type_1','count']\n",
    "\n",
    "# Sort DF\n",
    "classification_plot.sort_values(by=[\"rhod_type\", \"count\"], ascending=True, inplace=True)\n",
    "\n",
    "# order of categories\n",
    "categories = classification_plot.loc[classification_plot.rhod_type == \"type_1\"].sort_values(by=\"count\", ascending=True)[\"plot_classification\"].tolist()\n",
    "\n",
    "classification_plot['plot_cat'] = pd.Categorical(classification_plot['plot_classification'], categories=categories, ordered=True)\n",
    "\n",
    "classification_plot = classification_plot.sort_values('plot_cat')\n",
    "\n",
    "g = sns.FacetGrid(data=classification_plot, \\\n",
    "                  col=\"rhod_type\", \\\n",
    "                  hue=\"rhod_type\", \\\n",
    "                  sharex=False, sharey=True, size=10, aspect=.5,palette=color_dict, col_order=[\"type_1\", \"helio\"])\n",
    "g = (g.map(plt.barh, \"plot_classification\", \"count\").set_titles(\"\"))\n",
    "\n",
    "\n",
    "g.fig.subplots_adjust(hspace=0, wspace=0)\n",
    "\n",
    "# axis containers\n",
    "helio_ax = g.axes[0][1]\n",
    "type1_ax = g.axes[0][0]\n",
    "\n",
    "# # set x axis ticks\n",
    "type1_ax.set_xticks([0,200,400,600,800]);\n",
    "helio_ax.set_xticks([0,50,100,150,200]);\n",
    "\n",
    "# #set labels\n",
    "helio_ax.set_ylabel('')\n",
    "type1_ax.set_ylabel('')\n",
    "helio_ax.set_xlabel('Heliorhodopsins');\n",
    "type1_ax.set_xlabel('Type-1');\n",
    "\n",
    "#modify xlim to fit the labels\n",
    "type1_ax.set_xlim(0,1000)\n",
    "helio_ax.set_xlim(0,300)\n",
    "#annotate the bars\n",
    "for p in helio_ax.patches:\n",
    "    helio_ax.annotate(\"({})\".format(p.get_width()), \\\n",
    "                      (p.get_width()+15, p.get_xy()[1]+(p.get_height())/2), color='#7137c8')\n",
    "for p in type1_ax.patches:\n",
    "    type1_ax.annotate(\"({})\".format(p.get_width()), \\\n",
    "                      (int(p.get_width())+100, p.get_xy()[1]+(p.get_height())/2), color='gray')\n",
    "\n",
    "# invert x axis on helios\n",
    "type1_ax.invert_xaxis()\n",
    "\n",
    "sns.despine(ax=type1_ax,left=True)\n",
    "\n",
    "# #remove ticks\n",
    "type1_ax.yaxis.set_ticks_position('none')\n",
    "helio_ax.yaxis.set_ticks_position('none')\n",
    "\n",
    "g.fig.suptitle('Rhodopsins distribution in UniProt by category.');"
   ]
  },
  {
   "cell_type": "code",
   "execution_count": 406,
   "metadata": {},
   "outputs": [
    {
     "data": {
      "image/png": "[encoded data removed]",
      "text/plain": [
       "<Figure size 720x720 with 2 Axes>"
      ]
     },
     "metadata": {},
     "output_type": "display_data"
    }
   ],
   "source": [
    "plot_df = rhod_df_2\n",
    "\n",
    "plot_df = plot_df.loc[~plot_df.plot_classification.isnull()]\n",
    "plot_df = plot_df.loc[plot_df.rhod_type != \"Unclassified\"]\n",
    "plot_df = plot_df.loc[~plot_df.plot_classification.isin([\"Unclassified\"])]\n",
    "\n",
    "# Count occurrence per category\n",
    "plot_df = plot_df[[\"rhod_type\", \"plot_classification\", \"uniprot\"]].\\\n",
    "groupby([\"rhod_type\", \"plot_classification\"]).\\\n",
    "agg(len).reset_index().sort_values('uniprot').\\\n",
    "rename(columns={'uniprot':'count'})\n",
    "\n",
    "\n",
    "# add missing taxa\n",
    "for rhod_type in ['helio', 'type_1']:\n",
    "    for classification in plot_df.plot_classification.unique():\n",
    "        if classification not in plot_df[(plot_df.rhod_type == rhod_type)]['plot_classification'].unique():\n",
    "            plot_df = plot_df.append({'rhod_type':rhod_type, 'plot_classification':classification, 'count':0}, ignore_index=True)\n",
    "\n",
    "plot_df.plot_classification.replace(\"Unclassified_Archaea\", \"Unclassified Archaea\", inplace=True)\n",
    "plot_df.plot_classification.replace(\"Unclassified_Bacteria\", \"Unclassified Bacteria\", inplace=True)\n",
    "plot_df.plot_classification.replace(\"Eukaryota\", \"Eukaryotes\", inplace=True)\n",
    "            \n",
    "classification_plot = plot_df\n",
    "\n",
    "# count total number of helios from each type\n",
    "classification_plot_count_df = classification_plot.groupby('rhod_type').agg(sum).reset_index().set_index('rhod_type')\n",
    "\n",
    "# Calculate %\n",
    "classification_plot.loc[classification_plot['rhod_type'] == 'helio', '%'] = \\\n",
    "classification_plot.loc[classification_plot['rhod_type'] == 'helio', 'count']*100/classification_plot_count_df.loc['helio','count']\n",
    "\n",
    "classification_plot.loc[classification_plot['rhod_type'] == 'type_1', '%'] = \\\n",
    "classification_plot.loc[classification_plot['rhod_type'] == 'type_1', 'count']*100/classification_plot_count_df.loc['type_1','count']\n",
    "\n",
    "# Sort DF\n",
    "classification_plot.sort_values(by=[\"rhod_type\", \"%\"], ascending=True, inplace=True)\n",
    "\n",
    "# order of categories\n",
    "categories = classification_plot.loc[classification_plot.rhod_type == \"type_1\"].sort_values(by=\"%\", ascending=True)[\"plot_classification\"].tolist()\n",
    "\n",
    "classification_plot['plot_cat'] = pd.Categorical(classification_plot['plot_classification'], categories=categories, ordered=True)\n",
    "\n",
    "classification_plot = classification_plot.sort_values('plot_cat')\n",
    "\n",
    "g = sns.FacetGrid(data=classification_plot, \\\n",
    "                  col=\"rhod_type\", \\\n",
    "                  hue=\"rhod_type\", \\\n",
    "                  sharex=False, sharey=True, size=10, aspect=.5,palette=color_dict, col_order=[\"type_1\", \"helio\"])\n",
    "g = (g.map(plt.barh, \"plot_classification\", \"%\").set_titles(\"\"))\n",
    "\n",
    "\n",
    "g.fig.subplots_adjust(hspace=0, wspace=0)\n",
    "\n",
    "# axis containers\n",
    "helio_ax = g.axes[0][1]\n",
    "type1_ax = g.axes[0][0]\n",
    "\n",
    "#modify xlim to fit the labels\n",
    "type1_ax.set_xlim(0,55)\n",
    "helio_ax.set_xlim(0,80)\n",
    "\n",
    "# # set x axis ticks\n",
    "helio_ax.set_xticks([0,20,40,60]);\n",
    "type1_ax.set_xticks([0,10,20,30,40]);\n",
    "#helio_ax.set_xticks([0,50,100,150,200]);\n",
    "\n",
    "# #set labels\n",
    "helio_ax.set_ylabel('')\n",
    "type1_ax.set_ylabel('')\n",
    "helio_ax.set_xlabel('Heliorhodopsins %');\n",
    "type1_ax.set_xlabel('Type-1 %');\n",
    "\n",
    "\n",
    "#annotate the bars\n",
    "for p in helio_ax.patches:\n",
    "    helio_ax.annotate(\"({0:.1f}%)\".format(p.get_width()), \\\n",
    "                      (p.get_width()+5, p.get_xy()[1]+(p.get_height())/2), color='#7137c8')\n",
    "for p in type1_ax.patches:\n",
    "    type1_ax.annotate(\"({0:.1f}%)\".format(p.get_width()), \\\n",
    "                      (int(p.get_width())+10, p.get_xy()[1]+(p.get_height())/2), color='gray')\n",
    "\n",
    "# invert x axis on helios\n",
    "type1_ax.invert_xaxis()\n",
    "\n",
    "sns.despine(ax=type1_ax,left=True)\n",
    "\n",
    "# #remove ticks\n",
    "type1_ax.yaxis.set_ticks_position('none')\n",
    "helio_ax.yaxis.set_ticks_position('none')\n",
    "\n",
    "g.fig.suptitle('Rhodopsins distribution in UniProt.');\n",
    "\n",
    "g.savefig(\"./results/UniProt.pdf\")"
   ]
  },
  {
   "cell_type": "markdown",
   "metadata": {},
   "source": [
    "---"
   ]
  },
  {
   "cell_type": "markdown",
   "metadata": {},
   "source": [
    "# Fig. 1b plot"
   ]
  },
  {
   "cell_type": "code",
   "execution_count": 402,
   "metadata": {},
   "outputs": [],
   "source": [
    "#!cp ~/Downloads/tara_rhodo_contigs_taxa_counts_melt.csv ./data/graftm_tsv/"
   ]
  },
  {
   "cell_type": "code",
   "execution_count": 3,
   "metadata": {},
   "outputs": [],
   "source": [
    "df_1b = pd.read_csv(\"./data/graftm_tsv/tara_rhodo_contigs_taxa_counts_melt.csv\",\\\n",
    "                    usecols=[1,2,4], names=[\"plot_classification\", \"rhod_type\", \"count\"], skiprows=1)"
   ]
  },
  {
   "cell_type": "code",
   "execution_count": 6,
   "metadata": {},
   "outputs": [
    {
     "data": {
      "text/html": [
       "<div>\n",
       "<style scoped>\n",
       "    .dataframe tbody tr th:only-of-type {\n",
       "        vertical-align: middle;\n",
       "    }\n",
       "\n",
       "    .dataframe tbody tr th {\n",
       "        vertical-align: top;\n",
       "    }\n",
       "\n",
       "    .dataframe thead th {\n",
       "        text-align: right;\n",
       "    }\n",
       "</style>\n",
       "<table border=\"1\" class=\"dataframe\">\n",
       "  <thead>\n",
       "    <tr style=\"text-align: right;\">\n",
       "      <th></th>\n",
       "      <th>plot_classification</th>\n",
       "      <th>rhod_type</th>\n",
       "      <th>count</th>\n",
       "    </tr>\n",
       "  </thead>\n",
       "  <tbody>\n",
       "    <tr>\n",
       "      <th>0</th>\n",
       "      <td>Archaea</td>\n",
       "      <td>helio</td>\n",
       "      <td>4</td>\n",
       "    </tr>\n",
       "    <tr>\n",
       "      <th>1</th>\n",
       "      <td>Archaea</td>\n",
       "      <td>type_1</td>\n",
       "      <td>45</td>\n",
       "    </tr>\n",
       "    <tr>\n",
       "      <th>2</th>\n",
       "      <td>Eukaryotes</td>\n",
       "      <td>helio</td>\n",
       "      <td>48</td>\n",
       "    </tr>\n",
       "    <tr>\n",
       "      <th>3</th>\n",
       "      <td>Eukaryotes</td>\n",
       "      <td>type_1</td>\n",
       "      <td>100</td>\n",
       "    </tr>\n",
       "    <tr>\n",
       "      <th>4</th>\n",
       "      <td>Unclassified Bacteria</td>\n",
       "      <td>helio</td>\n",
       "      <td>13</td>\n",
       "    </tr>\n",
       "    <tr>\n",
       "      <th>5</th>\n",
       "      <td>Unclassified Bacteria</td>\n",
       "      <td>type_1</td>\n",
       "      <td>101</td>\n",
       "    </tr>\n",
       "    <tr>\n",
       "      <th>6</th>\n",
       "      <td>Viruses</td>\n",
       "      <td>Unclassified</td>\n",
       "      <td>1</td>\n",
       "    </tr>\n",
       "    <tr>\n",
       "      <th>7</th>\n",
       "      <td>Viruses</td>\n",
       "      <td>helio</td>\n",
       "      <td>41</td>\n",
       "    </tr>\n",
       "    <tr>\n",
       "      <th>8</th>\n",
       "      <td>Viruses</td>\n",
       "      <td>type_1</td>\n",
       "      <td>197</td>\n",
       "    </tr>\n",
       "    <tr>\n",
       "      <th>9</th>\n",
       "      <td>Diderm</td>\n",
       "      <td>type_1</td>\n",
       "      <td>318</td>\n",
       "    </tr>\n",
       "    <tr>\n",
       "      <th>10</th>\n",
       "      <td>Monoderm</td>\n",
       "      <td>helio</td>\n",
       "      <td>23</td>\n",
       "    </tr>\n",
       "    <tr>\n",
       "      <th>11</th>\n",
       "      <td>Monoderm</td>\n",
       "      <td>type_1</td>\n",
       "      <td>15</td>\n",
       "    </tr>\n",
       "  </tbody>\n",
       "</table>\n",
       "</div>"
      ],
      "text/plain": [
       "      plot_classification     rhod_type  count\n",
       "0                 Archaea         helio      4\n",
       "1                 Archaea        type_1     45\n",
       "2              Eukaryotes         helio     48\n",
       "3              Eukaryotes        type_1    100\n",
       "4   Unclassified Bacteria         helio     13\n",
       "5   Unclassified Bacteria        type_1    101\n",
       "6                 Viruses  Unclassified      1\n",
       "7                 Viruses         helio     41\n",
       "8                 Viruses        type_1    197\n",
       "9                  Diderm        type_1    318\n",
       "10               Monoderm         helio     23\n",
       "11               Monoderm        type_1     15"
      ]
     },
     "execution_count": 6,
     "metadata": {},
     "output_type": "execute_result"
    }
   ],
   "source": [
    "df_1b"
   ]
  },
  {
   "cell_type": "code",
   "execution_count": 405,
   "metadata": {},
   "outputs": [
    {
     "data": {
      "image/png": "[encoded data removed]",
      "text/plain": [
       "<Figure size 720x720 with 2 Axes>"
      ]
     },
     "metadata": {},
     "output_type": "display_data"
    }
   ],
   "source": [
    "plot_df = df_1b\n",
    "\n",
    "plot_df = plot_df.loc[~plot_df.plot_classification.isnull()]\n",
    "plot_df = plot_df.loc[plot_df.rhod_type != \"Unclassified\"]\n",
    "plot_df = plot_df.loc[~plot_df.plot_classification.isin([\"Unclassified\"])]\n",
    "\n",
    "# add missing taxa\n",
    "for rhod_type in ['helio', 'type_1']:\n",
    "    for classification in plot_df.plot_classification.unique():\n",
    "        if classification not in plot_df[(plot_df.rhod_type == rhod_type)]['plot_classification'].unique():\n",
    "            plot_df = plot_df.append({'rhod_type':rhod_type, 'plot_classification':classification, 'count':0}, ignore_index=True)\n",
    "\n",
    "classification_plot = plot_df\n",
    "\n",
    "# count total number of helios from each type\n",
    "classification_plot_count_df = classification_plot.groupby('rhod_type').agg(sum).reset_index().set_index('rhod_type')\n",
    "\n",
    "# Calculate %\n",
    "classification_plot.loc[classification_plot['rhod_type'] == 'helio', '%'] = \\\n",
    "classification_plot.loc[classification_plot['rhod_type'] == 'helio', 'count']*100/classification_plot_count_df.loc['helio','count']\n",
    "\n",
    "classification_plot.loc[classification_plot['rhod_type'] == 'type_1', '%'] = \\\n",
    "classification_plot.loc[classification_plot['rhod_type'] == 'type_1', 'count']*100/classification_plot_count_df.loc['type_1','count']\n",
    "\n",
    "# Sort DF\n",
    "classification_plot.sort_values(by=[\"rhod_type\", \"%\"], ascending=True, inplace=True)\n",
    "\n",
    "# order of categories\n",
    "categories = classification_plot.loc[classification_plot.rhod_type == \"type_1\"].sort_values(by=\"%\", ascending=True)[\"plot_classification\"].tolist()\n",
    "\n",
    "classification_plot['plot_cat'] = pd.Categorical(classification_plot['plot_classification'], categories=categories, ordered=True)\n",
    "\n",
    "classification_plot = classification_plot.sort_values('plot_cat')\n",
    "\n",
    "g = sns.FacetGrid(data=classification_plot, \\\n",
    "                  col=\"rhod_type\", \\\n",
    "                  hue=\"rhod_type\", \\\n",
    "                  sharex=False, sharey=True, size=10, aspect=.5,palette=color_dict, col_order=[\"type_1\", \"helio\"])\n",
    "g = (g.map(plt.barh, \"plot_classification\", \"%\").set_titles(\"\"))\n",
    "\n",
    "\n",
    "g.fig.subplots_adjust(hspace=0, wspace=0)\n",
    "\n",
    "# axis containers\n",
    "helio_ax = g.axes[0][1]\n",
    "type1_ax = g.axes[0][0]\n",
    "\n",
    "#modify xlim to fit the labels\n",
    "type1_ax.set_xlim(0,55)\n",
    "helio_ax.set_xlim(0,80)\n",
    "\n",
    "# # set x axis ticks\n",
    "helio_ax.set_xticks([0,20,40,60]);\n",
    "type1_ax.set_xticks([0,10,20,30,40]);\n",
    "#helio_ax.set_xticks([0,50,100,150,200]);\n",
    "\n",
    "# #set labels\n",
    "helio_ax.set_ylabel('')\n",
    "type1_ax.set_ylabel('')\n",
    "helio_ax.set_xlabel('Heliorhodopsins %');\n",
    "type1_ax.set_xlabel('Type-1 %');\n",
    "\n",
    "\n",
    "#annotate the bars\n",
    "for p in helio_ax.patches:\n",
    "    helio_ax.annotate(\"({0:.1f}%)\".format(p.get_width()), \\\n",
    "                      (p.get_width()+5, p.get_xy()[1]+(p.get_height())/2), color='#7137c8')\n",
    "for p in type1_ax.patches:\n",
    "    type1_ax.annotate(\"({0:.1f}%)\".format(p.get_width()), \\\n",
    "                      (int(p.get_width())+10, p.get_xy()[1]+(p.get_height())/2), color='gray')\n",
    "\n",
    "# invert x axis on helios\n",
    "type1_ax.invert_xaxis()\n",
    "\n",
    "sns.despine(ax=type1_ax,left=True)\n",
    "\n",
    "# #remove ticks\n",
    "type1_ax.yaxis.set_ticks_position('none')\n",
    "helio_ax.yaxis.set_ticks_position('none')\n",
    "\n",
    "g.fig.suptitle('Rhodopsins distribution in Tara Oceans microbiome and virome.');\n",
    "\n",
    "g.savefig(\"./results/Tara.pdf\")"
   ]
  }
 ],
 "metadata": {
  "kernelspec": {
   "display_name": "Python 3",
   "language": "python",
   "name": "python3"
  },
  "language_info": {
   "codemirror_mode": {
    "name": "ipython",
    "version": 3
   },
   "file_extension": ".py",
   "mimetype": "text/x-python",
   "name": "python",
   "nbconvert_exporter": "python",
   "pygments_lexer": "ipython3",
   "version": "3.6.5"
  }
 },
 "nbformat": 4,
 "nbformat_minor": 2
}
