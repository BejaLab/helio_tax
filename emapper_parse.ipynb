{
 "cells": [
  {
   "cell_type": "code",
   "execution_count": 1,
   "metadata": {},
   "outputs": [],
   "source": [
    "import pandas as pd"
   ]
  },
  {
   "cell_type": "code",
   "execution_count": 2,
   "metadata": {},
   "outputs": [],
   "source": [
    "arch = pd.read_csv(\"./data/emapper/eggnog_non_viral_rhodo_top_orfs_emapper_arch.tsv\", sep=\"\\t\",\\\n",
    "                   names=[\"orf\", \"seed_ortho\", \"em_evalue\", \"em_score\", \"name\", \"GO\", \"KEGG\", \"BiGG\", \"tax_scope\", \"eggNOGs\", \"best_OG\",\"COG_cat\",\"eggNOG_Desc\"])"
   ]
  },
  {
   "cell_type": "code",
   "execution_count": 50,
   "metadata": {},
   "outputs": [
    {
     "data": {
      "text/plain": [
       "(487, 14)"
      ]
     },
     "execution_count": 50,
     "metadata": {},
     "output_type": "execute_result"
    }
   ],
   "source": [
    "arch.shape"
   ]
  },
  {
   "cell_type": "code",
   "execution_count": 53,
   "metadata": {},
   "outputs": [
    {
     "data": {
      "text/html": [
       "<div>\n",
       "<style scoped>\n",
       "    .dataframe tbody tr th:only-of-type {\n",
       "        vertical-align: middle;\n",
       "    }\n",
       "\n",
       "    .dataframe tbody tr th {\n",
       "        vertical-align: top;\n",
       "    }\n",
       "\n",
       "    .dataframe thead th {\n",
       "        text-align: right;\n",
       "    }\n",
       "</style>\n",
       "<table border=\"1\" class=\"dataframe\">\n",
       "  <thead>\n",
       "    <tr style=\"text-align: right;\">\n",
       "      <th></th>\n",
       "      <th>orf</th>\n",
       "      <th>seed_ortho</th>\n",
       "      <th>em_evalue</th>\n",
       "      <th>em_score</th>\n",
       "      <th>name</th>\n",
       "      <th>GO</th>\n",
       "      <th>KEGG</th>\n",
       "      <th>BiGG</th>\n",
       "      <th>tax_scope</th>\n",
       "      <th>eggNOGs</th>\n",
       "      <th>best_OG</th>\n",
       "      <th>COG_cat</th>\n",
       "      <th>eggNOG_Desc</th>\n",
       "      <th>kingdom</th>\n",
       "    </tr>\n",
       "  </thead>\n",
       "  <tbody>\n",
       "    <tr>\n",
       "      <th>0</th>\n",
       "      <td>SAMEA2621155_1668496_7</td>\n",
       "      <td>246969.TAM4_1436</td>\n",
       "      <td>8.900000e-152</td>\n",
       "      <td>499.8</td>\n",
       "      <td>ACSA</td>\n",
       "      <td>GO:0003674,GO:0003824,GO:0008150,GO:0008152,GO...</td>\n",
       "      <td>K01895,K14467,K15018</td>\n",
       "      <td>NaN</td>\n",
       "      <td>arNOG[11]</td>\n",
       "      <td>0KRI7@eurNOG,COG0365@NOG,arCOG01529@arNOG</td>\n",
       "      <td>arCOG01529|6.25061175138e-197|656.883361816</td>\n",
       "      <td>I</td>\n",
       "      <td>synthetase</td>\n",
       "      <td>arch</td>\n",
       "    </tr>\n",
       "    <tr>\n",
       "      <th>1</th>\n",
       "      <td>SAMEA2621155_2236281_3</td>\n",
       "      <td>246969.TAM4_1436</td>\n",
       "      <td>5.200000e-155</td>\n",
       "      <td>510.5</td>\n",
       "      <td>ACSA</td>\n",
       "      <td>GO:0003674,GO:0003824,GO:0008150,GO:0008152,GO...</td>\n",
       "      <td>K01895,K14467,K15018</td>\n",
       "      <td>NaN</td>\n",
       "      <td>arNOG[11]</td>\n",
       "      <td>0KRI7@eurNOG,COG0365@NOG,arCOG01529@arNOG</td>\n",
       "      <td>arCOG01529|4.8768052731e-202|673.739746094</td>\n",
       "      <td>I</td>\n",
       "      <td>synthetase</td>\n",
       "      <td>arch</td>\n",
       "    </tr>\n",
       "    <tr>\n",
       "      <th>2</th>\n",
       "      <td>SAMEA2621155_98458_12</td>\n",
       "      <td>634498.mru_0164</td>\n",
       "      <td>4.200000e-93</td>\n",
       "      <td>305.4</td>\n",
       "      <td>SRP54</td>\n",
       "      <td>GO:0005575,GO:0005622,GO:0005623,GO:0005737,GO...</td>\n",
       "      <td>K03106</td>\n",
       "      <td>NaN</td>\n",
       "      <td>arNOG[11]</td>\n",
       "      <td>0KR9C@eurNOG,0WR8F@metNOG,COG0541@NOG,arCOG012...</td>\n",
       "      <td>arCOG01228|1.4727573295e-116|390.875610352</td>\n",
       "      <td>U</td>\n",
       "      <td>Involved in targeting and insertion of nascent...</td>\n",
       "      <td>arch</td>\n",
       "    </tr>\n",
       "    <tr>\n",
       "      <th>3</th>\n",
       "      <td>SAMEA2591098_31178_22</td>\n",
       "      <td>521011.Mpal_1279</td>\n",
       "      <td>3.000000e-80</td>\n",
       "      <td>260.7</td>\n",
       "      <td>NaN</td>\n",
       "      <td>NaN</td>\n",
       "      <td>NaN</td>\n",
       "      <td>NaN</td>\n",
       "      <td>arNOG[11]</td>\n",
       "      <td>COG2303@NOG,arCOG02232@arNOG</td>\n",
       "      <td>arCOG02232|1.64963181477e-32|103.813285828</td>\n",
       "      <td>E</td>\n",
       "      <td>glucose-methanol-choline oxidoreductase</td>\n",
       "      <td>arch</td>\n",
       "    </tr>\n",
       "    <tr>\n",
       "      <th>4</th>\n",
       "      <td>SAMEA2622568_61469_1</td>\n",
       "      <td>273075.Ta0421</td>\n",
       "      <td>4.600000e-119</td>\n",
       "      <td>391.6</td>\n",
       "      <td>ACSA</td>\n",
       "      <td>GO:0003674,GO:0003824,GO:0008150,GO:0008152,GO...</td>\n",
       "      <td>K01895,K14467,K15018</td>\n",
       "      <td>NaN</td>\n",
       "      <td>arNOG[11]</td>\n",
       "      <td>0KRI7@eurNOG,1CCK9@theNOG,COG0365@NOG,arCOG015...</td>\n",
       "      <td>arCOG01529|1.24751588522e-155|520.46081543</td>\n",
       "      <td>I</td>\n",
       "      <td>synthetase</td>\n",
       "      <td>arch</td>\n",
       "    </tr>\n",
       "  </tbody>\n",
       "</table>\n",
       "</div>"
      ],
      "text/plain": [
       "                      orf        seed_ortho      em_evalue  em_score   name  \\\n",
       "0  SAMEA2621155_1668496_7  246969.TAM4_1436  8.900000e-152     499.8   ACSA   \n",
       "1  SAMEA2621155_2236281_3  246969.TAM4_1436  5.200000e-155     510.5   ACSA   \n",
       "2   SAMEA2621155_98458_12   634498.mru_0164   4.200000e-93     305.4  SRP54   \n",
       "3   SAMEA2591098_31178_22  521011.Mpal_1279   3.000000e-80     260.7    NaN   \n",
       "4    SAMEA2622568_61469_1     273075.Ta0421  4.600000e-119     391.6   ACSA   \n",
       "\n",
       "                                                  GO                  KEGG  \\\n",
       "0  GO:0003674,GO:0003824,GO:0008150,GO:0008152,GO...  K01895,K14467,K15018   \n",
       "1  GO:0003674,GO:0003824,GO:0008150,GO:0008152,GO...  K01895,K14467,K15018   \n",
       "2  GO:0005575,GO:0005622,GO:0005623,GO:0005737,GO...                K03106   \n",
       "3                                                NaN                   NaN   \n",
       "4  GO:0003674,GO:0003824,GO:0008150,GO:0008152,GO...  K01895,K14467,K15018   \n",
       "\n",
       "  BiGG  tax_scope                                            eggNOGs  \\\n",
       "0  NaN  arNOG[11]          0KRI7@eurNOG,COG0365@NOG,arCOG01529@arNOG   \n",
       "1  NaN  arNOG[11]          0KRI7@eurNOG,COG0365@NOG,arCOG01529@arNOG   \n",
       "2  NaN  arNOG[11]  0KR9C@eurNOG,0WR8F@metNOG,COG0541@NOG,arCOG012...   \n",
       "3  NaN  arNOG[11]                       COG2303@NOG,arCOG02232@arNOG   \n",
       "4  NaN  arNOG[11]  0KRI7@eurNOG,1CCK9@theNOG,COG0365@NOG,arCOG015...   \n",
       "\n",
       "                                       best_OG COG_cat  \\\n",
       "0  arCOG01529|6.25061175138e-197|656.883361816       I   \n",
       "1   arCOG01529|4.8768052731e-202|673.739746094       I   \n",
       "2   arCOG01228|1.4727573295e-116|390.875610352       U   \n",
       "3   arCOG02232|1.64963181477e-32|103.813285828       E   \n",
       "4   arCOG01529|1.24751588522e-155|520.46081543       I   \n",
       "\n",
       "                                         eggNOG_Desc kingdom  \n",
       "0                                         synthetase    arch  \n",
       "1                                         synthetase    arch  \n",
       "2  Involved in targeting and insertion of nascent...    arch  \n",
       "3            glucose-methanol-choline oxidoreductase    arch  \n",
       "4                                         synthetase    arch  "
      ]
     },
     "execution_count": 53,
     "metadata": {},
     "output_type": "execute_result"
    }
   ],
   "source": [
    "arch.head()"
   ]
  },
  {
   "cell_type": "code",
   "execution_count": 3,
   "metadata": {},
   "outputs": [],
   "source": [
    "bact = pd.read_csv(\"./data/emapper/eggnog_non_viral_rhodo_top_orfs_emapper_bact.tsv\", sep=\"\\t\",\\\n",
    "                   names=[\"orf\", \"seed_ortho\", \"em_evalue\", \"em_score\", \"name\", \"GO\", \"KEGG\", \"BiGG\", \"tax_scope\", \"eggNOGs\", \"best_OG\",\"COG_cat\",\"eggNOG_Desc\"])"
   ]
  },
  {
   "cell_type": "code",
   "execution_count": 51,
   "metadata": {},
   "outputs": [
    {
     "data": {
      "text/plain": [
       "(641, 15)"
      ]
     },
     "execution_count": 51,
     "metadata": {},
     "output_type": "execute_result"
    }
   ],
   "source": [
    "bact.shape"
   ]
  },
  {
   "cell_type": "code",
   "execution_count": 4,
   "metadata": {},
   "outputs": [],
   "source": [
    "euk = pd.read_csv(\"./data/emapper/eggnog_non_viral_rhodo_top_orfs_emapper_euk.tsv\", sep=\"\\t\",\\\n",
    "                   names=[\"orf\", \"seed_ortho\", \"em_evalue\", \"em_score\", \"name\", \"GO\", \"KEGG\", \"BiGG\", \"tax_scope\", \"eggNOGs\", \"best_OG\",\"COG_cat\",\"eggNOG_Desc\"])"
   ]
  },
  {
   "cell_type": "code",
   "execution_count": 52,
   "metadata": {},
   "outputs": [
    {
     "data": {
      "text/plain": [
       "(525, 14)"
      ]
     },
     "execution_count": 52,
     "metadata": {},
     "output_type": "execute_result"
    }
   ],
   "source": [
    "euk.shape"
   ]
  },
  {
   "cell_type": "code",
   "execution_count": 5,
   "metadata": {},
   "outputs": [],
   "source": [
    "arch[\"kingdom\"] = \"arch\"\n",
    "bact[\"kingdom\"] = \"bact\"\n",
    "euk[\"kingdom\"] = \"euk\""
   ]
  },
  {
   "cell_type": "markdown",
   "metadata": {},
   "source": [
    "---"
   ]
  },
  {
   "cell_type": "code",
   "execution_count": 6,
   "metadata": {},
   "outputs": [],
   "source": [
    "# The list was obtained from http://eggnogdb.embl.de/#/app/downloads on 2018/06/11\n",
    "# ogs = pd.read_clipboard(names=[\"NOG_web\"], usecols=[0])\n",
    "# ogs[\"tax\"] = ogs.NOG_web.apply(lambda x: x.split(\" \")[0])\n",
    "# ogs[\"NOG\"] = ogs.NOG_web.apply(lambda x: x.split(\" \")[1].strip(\"()\"))\n",
    "# ogs[[\"NOG\", \"tax\"]].to_csv(\"./data/emapper/eggNOGs_tax.csv\", index=False)"
   ]
  },
  {
   "cell_type": "code",
   "execution_count": 7,
   "metadata": {},
   "outputs": [],
   "source": [
    "OGs = pd.read_csv(\"./data/emapper/eggNOGs_tax.csv\", names=[\"nog_dataset\", \"nog_phylum\"], skiprows=1)"
   ]
  },
  {
   "cell_type": "code",
   "execution_count": 8,
   "metadata": {},
   "outputs": [
    {
     "data": {
      "text/html": [
       "<div>\n",
       "<style scoped>\n",
       "    .dataframe tbody tr th:only-of-type {\n",
       "        vertical-align: middle;\n",
       "    }\n",
       "\n",
       "    .dataframe tbody tr th {\n",
       "        vertical-align: top;\n",
       "    }\n",
       "\n",
       "    .dataframe thead th {\n",
       "        text-align: right;\n",
       "    }\n",
       "</style>\n",
       "<table border=\"1\" class=\"dataframe\">\n",
       "  <thead>\n",
       "    <tr style=\"text-align: right;\">\n",
       "      <th></th>\n",
       "      <th>nog_dataset</th>\n",
       "      <th>nog_phylum</th>\n",
       "    </tr>\n",
       "  </thead>\n",
       "  <tbody>\n",
       "    <tr>\n",
       "      <th>0</th>\n",
       "      <td>aciNOG</td>\n",
       "      <td>Acidobacteria</td>\n",
       "    </tr>\n",
       "    <tr>\n",
       "      <th>1</th>\n",
       "      <td>acidNOG</td>\n",
       "      <td>Acidobacteriia</td>\n",
       "    </tr>\n",
       "    <tr>\n",
       "      <th>2</th>\n",
       "      <td>acoNOG</td>\n",
       "      <td>Aconoidasida</td>\n",
       "    </tr>\n",
       "    <tr>\n",
       "      <th>3</th>\n",
       "      <td>actNOG</td>\n",
       "      <td>Actinobacteria</td>\n",
       "    </tr>\n",
       "    <tr>\n",
       "      <th>4</th>\n",
       "      <td>agaNOG</td>\n",
       "      <td>Agaricales</td>\n",
       "    </tr>\n",
       "  </tbody>\n",
       "</table>\n",
       "</div>"
      ],
      "text/plain": [
       "  nog_dataset      nog_phylum\n",
       "0      aciNOG   Acidobacteria\n",
       "1     acidNOG  Acidobacteriia\n",
       "2      acoNOG    Aconoidasida\n",
       "3      actNOG  Actinobacteria\n",
       "4      agaNOG      Agaricales"
      ]
     },
     "execution_count": 8,
     "metadata": {},
     "output_type": "execute_result"
    }
   ],
   "source": [
    "OGs.head()"
   ]
  },
  {
   "cell_type": "code",
   "execution_count": 9,
   "metadata": {},
   "outputs": [],
   "source": [
    "pro_dict = {x:\"proNOG\" for x in \"aproNOG;bproNOG;dproNOG;delNOG;gproNOG;proNOG\".split(\";\")}\n",
    "\n",
    "#pro_dict_rev = {\"proNOG\":x for x in \"aproNOG;bproNOG;dproNOG;delNOG;gproNOG;proNOG\".split(\";\")}"
   ]
  },
  {
   "cell_type": "code",
   "execution_count": 12,
   "metadata": {},
   "outputs": [],
   "source": [
    "bactNOGs = set()\n",
    "multiNOGs = set()\n",
    "for i,df_ in bact.iterrows():\n",
    "    best_og = df_[\"best_OG\"].split(\"|\")[0]\n",
    "    nog_dataset_dict = {x.split(\"@\")[0]:x.split(\"@\")[1] for x in df_[\"eggNOGs\"].split(\",\")}\n",
    "\n",
    "    nog_dataset = nog_dataset_dict[best_og]\n",
    "    if nog_dataset in [\"bactNOG\", \"NOG\"]:\n",
    "        bactNOGs.add(i)\n",
    "        nog_dataset_dict_rev = {x.split(\"@\")[1]:x.split(\"@\")[0] for x in df_[\"eggNOGs\"].split(\",\")}\n",
    "        \n",
    "        nog_dataset_dict_rev.pop(\"NOG\", None)\n",
    "        nog_dataset_dict_rev.pop(\"bactNOG\", None)\n",
    "        \n",
    "        pro_set = set()\n",
    "        \n",
    "        try:\n",
    "            pro_set = set([pro_dict[key] for key in nog_dataset_dict_rev.keys()])\n",
    "        except KeyError:\n",
    "            pass\n",
    "            # print(\"This NOG is not in the pro_dict {}\".format(str(i)))\n",
    "        \n",
    "        if len(pro_set) == 0:\n",
    "            nog_dataset = \";\".join(nog_dataset_dict_rev.keys())\n",
    "        elif len(pro_set) > 1:\n",
    "            print(\"Check {}\".format(i))\n",
    "        else:\n",
    "            nog_dataset = 'proNOG'\n",
    "        \n",
    "        \n",
    "        if nog_dataset in pro_dict.keys():\n",
    "            #print(\"{}\\t{}\".format(i, df_[\"eggNOGs\"]))\n",
    "            nog_dataset = pro_dict[nog_dataset]\n",
    "\n",
    "        \n",
    "        if len(nog_dataset_dict_rev.keys()) > 1:\n",
    "            multiNOGs.add(i)\n",
    "        elif len(nog_dataset_dict_rev.keys()) == 0:\n",
    "            nog_dataset = \"bactNOG\"\n",
    "\n",
    "    elif nog_dataset in pro_dict.keys():\n",
    "        nog_dataset = pro_dict[nog_dataset]\n",
    "        \n",
    "    bact.loc[i, \"nog_dataset\"] = nog_dataset"
   ]
  },
  {
   "cell_type": "markdown",
   "metadata": {},
   "source": [
    "---"
   ]
  },
  {
   "cell_type": "code",
   "execution_count": 15,
   "metadata": {},
   "outputs": [
    {
     "name": "stderr",
     "output_type": "stream",
     "text": [
      "/Users/jfloresu/.virtualenvs/jlab/lib/python3.6/site-packages/ipykernel_launcher.py:1: FutureWarning: Sorting because non-concatenation axis is not aligned. A future version\n",
      "of pandas will change to not sort by default.\n",
      "\n",
      "To accept the future behavior, pass 'sort=True'.\n",
      "\n",
      "To retain the current behavior and silence the warning, pass sort=False\n",
      "\n",
      "  \"\"\"Entry point for launching an IPython kernel.\n"
     ]
    }
   ],
   "source": [
    "eggnog = pd.concat([arch, bact, euk])"
   ]
  },
  {
   "cell_type": "code",
   "execution_count": 16,
   "metadata": {},
   "outputs": [
    {
     "data": {
      "text/plain": [
       "(1653, 15)"
      ]
     },
     "execution_count": 16,
     "metadata": {},
     "output_type": "execute_result"
    }
   ],
   "source": [
    "eggnog.shape"
   ]
  },
  {
   "cell_type": "code",
   "execution_count": 17,
   "metadata": {},
   "outputs": [],
   "source": [
    "# remove duplicates based on the score\n",
    "eggnog.sort_values(by=[\"orf\", \"em_score\"], ascending=False, inplace=True)"
   ]
  },
  {
   "cell_type": "code",
   "execution_count": 18,
   "metadata": {},
   "outputs": [],
   "source": [
    "# parse contig name from ORF\n",
    "eggnog[\"contig\"] = eggnog.orf.apply(lambda x : \"_\".join(x.split(\"_\")[:2]))"
   ]
  },
  {
   "cell_type": "code",
   "execution_count": 19,
   "metadata": {},
   "outputs": [],
   "source": [
    "eggnog.drop_duplicates(\"orf\", inplace=True)"
   ]
  },
  {
   "cell_type": "code",
   "execution_count": 20,
   "metadata": {},
   "outputs": [
    {
     "data": {
      "text/plain": [
       "(663, 16)"
      ]
     },
     "execution_count": 20,
     "metadata": {},
     "output_type": "execute_result"
    }
   ],
   "source": [
    "eggnog.shape"
   ]
  },
  {
   "cell_type": "code",
   "execution_count": 21,
   "metadata": {},
   "outputs": [],
   "source": [
    "egg = eggnog.groupby(\"contig\")"
   ]
  },
  {
   "cell_type": "code",
   "execution_count": 22,
   "metadata": {},
   "outputs": [],
   "source": [
    "for i, g in egg:\n",
    "    if len(g.kingdom) > 1:\n",
    "        print(i)"
   ]
  },
  {
   "cell_type": "code",
   "execution_count": 23,
   "metadata": {},
   "outputs": [
    {
     "data": {
      "text/plain": [
       "(663, 16)"
      ]
     },
     "execution_count": 23,
     "metadata": {},
     "output_type": "execute_result"
    }
   ],
   "source": [
    "eggnog.drop_duplicates(\"contig\").shape"
   ]
  },
  {
   "cell_type": "code",
   "execution_count": 24,
   "metadata": {},
   "outputs": [],
   "source": [
    "OG_dict = {'euNOG[57]':'Eukaryotes', 'fuNOG[21]':'Fungi', 'bactNOG[38]':'Bacteria', 'maNOG[6]':\"Mammals\", 'arNOG[11]':\"Archaea\",\n",
    "       'virNOG[6]':\"Viridiplantae\", 'meNOG[21]':\"Animals\", 'opiNOG[43]':\"Opisthokonts\", 'apiNOG[5]':\"Apicomplexa\", 'artNOG[6]':\"Arthropoda\",\n",
    "       'nemNOG[3]':\"Nematodes\", 'fiNOG[1]':\"Fishes\"}"
   ]
  },
  {
   "cell_type": "code",
   "execution_count": 25,
   "metadata": {},
   "outputs": [],
   "source": [
    "eggnog[\"taxa\"] = eggnog.tax_scope.map(OG_dict)"
   ]
  },
  {
   "cell_type": "code",
   "execution_count": 29,
   "metadata": {},
   "outputs": [
    {
     "data": {
      "text/plain": [
       "bactNOG[38]    471\n",
       "arNOG[11]       49\n",
       "virNOG[6]       30\n",
       "euNOG[57]       30\n",
       "meNOG[21]       26\n",
       "artNOG[6]       18\n",
       "fuNOG[21]       18\n",
       "apiNOG[5]       14\n",
       "maNOG[6]         3\n",
       "opiNOG[43]       2\n",
       "fiNOG[1]         1\n",
       "nemNOG[3]        1\n",
       "Name: tax_scope, dtype: int64"
      ]
     },
     "execution_count": 29,
     "metadata": {},
     "output_type": "execute_result"
    }
   ],
   "source": [
    "\n",
    "eggnog.tax_scope.value_counts()"
   ]
  },
  {
   "cell_type": "code",
   "execution_count": 30,
   "metadata": {},
   "outputs": [
    {
     "data": {
      "text/plain": [
       "proNOG              260\n",
       "bctoNOG;flaNOG       57\n",
       "actNOG               24\n",
       "flaNOG               20\n",
       "bactNOG              19\n",
       "bctoNOG              13\n",
       "cloNOG;firmNOG        8\n",
       "bctoNOG;cytNOG        6\n",
       "cyaNOG                6\n",
       "plaNOG                6\n",
       "cytNOG                6\n",
       "bctoNOG;sphNOG        6\n",
       "chloNOG               6\n",
       "verNOG;verrNOG        5\n",
       "chlNOG                5\n",
       "bacteNOG;bctoNOG      4\n",
       "bacNOG;firmNOG        3\n",
       "chlaNOG               2\n",
       "fusoNOG               2\n",
       "chloNOG;chlorNOG      2\n",
       "firmNOG;negNOG        2\n",
       "aquNOG                1\n",
       "verNOG                1\n",
       "deiNOG                1\n",
       "chloNOG;dehNOG        1\n",
       "therNOG               1\n",
       "aciNOG                1\n",
       "sphNOG                1\n",
       "verrNOG               1\n",
       "tenNOG                1\n",
       "Name: nog_dataset, dtype: int64"
      ]
     },
     "execution_count": 30,
     "metadata": {},
     "output_type": "execute_result"
    }
   ],
   "source": [
    "eggnog.loc[eggnog.tax_scope == \"bactNOG[38]\", \"nog_dataset\"].value_counts()"
   ]
  },
  {
   "cell_type": "code",
   "execution_count": 31,
   "metadata": {},
   "outputs": [
    {
     "data": {
      "text/plain": [
       "array(['bctoNOG;flaNOG', 'proNOG', 'cyaNOG', 'bactNOG', 'bctoNOG',\n",
       "       'bacteNOG;bctoNOG', 'actNOG', 'cytNOG', 'chloNOG;chlorNOG',\n",
       "       'flaNOG', 'verNOG;verrNOG', 'plaNOG', 'chloNOG', 'chlaNOG',\n",
       "       'deiNOG', 'bctoNOG;sphNOG', 'cloNOG;firmNOG', 'tenNOG', 'sphNOG',\n",
       "       'chlNOG', 'aquNOG', 'verNOG', 'firmNOG;negNOG', 'bacNOG;firmNOG',\n",
       "       'bctoNOG;cytNOG', 'fusoNOG', 'aciNOG', 'chloNOG;dehNOG', 'verrNOG',\n",
       "       'therNOG'], dtype=object)"
      ]
     },
     "execution_count": 31,
     "metadata": {},
     "output_type": "execute_result"
    }
   ],
   "source": [
    "eggnog.loc[eggnog.tax_scope == \"bactNOG[38]\", \"nog_dataset\"].unique()"
   ]
  },
  {
   "cell_type": "code",
   "execution_count": 32,
   "metadata": {},
   "outputs": [
    {
     "data": {
      "text/plain": [
       "30"
      ]
     },
     "execution_count": 32,
     "metadata": {},
     "output_type": "execute_result"
    }
   ],
   "source": [
    "len(eggnog.loc[eggnog.tax_scope == \"bactNOG[38]\", \"nog_dataset\"].unique())"
   ]
  },
  {
   "cell_type": "code",
   "execution_count": 33,
   "metadata": {},
   "outputs": [],
   "source": [
    "# gram positive\n",
    "\n",
    "monoderm = ['Actinobacteria',\n",
    " 'Firmicutes',\n",
    " 'Thermotogae',\n",
    " 'Chloroflexi',\n",
    " 'Tenericutes',\n",
    " 'Haloplasmatales',\n",
    " 'Deinococcus-Thermus', \"Deinococcusthermus\"]"
   ]
  },
  {
   "cell_type": "code",
   "execution_count": 34,
   "metadata": {},
   "outputs": [],
   "source": [
    "# gram negative\n",
    "\n",
    "diderm = ['Proteobacteria',\n",
    " 'Aquificae',\n",
    " 'Chlamydiae',\n",
    " 'Bacteroidetes',\n",
    " 'Chlorobi',\n",
    " 'Cyanobacteria',\n",
    " 'Fibrobacteres',\n",
    " 'Verrucomicrobia',\"Verrucomicrobiae\",\n",
    " 'Planctomycetes',\n",
    " 'Spirochetes',\n",
    " 'Acidobacteria',\n",
    " 'Gemmatimonadetes',\n",
    " 'Spirochaetes',\n",
    " 'Balneolaeota',\n",
    " 'Rhodothermaeota', \"Flavobacteriia\", \"Cytophagia\", \"Sphingobacteriia\",\n",
    "         \"Fusobacteria\"]"
   ]
  },
  {
   "cell_type": "code",
   "execution_count": 35,
   "metadata": {},
   "outputs": [],
   "source": [
    "Unclassified_Bact = [\"Bacteria\"]"
   ]
  },
  {
   "cell_type": "code",
   "execution_count": 36,
   "metadata": {},
   "outputs": [],
   "source": [
    "Eukaryotes = ['Eukaryotes', 'Fungi', 'Mammals', 'Archaea', 'Viridiplantae',\n",
    "       'Animals', 'Opisthokonts', 'Apicomplexa', 'Arthropoda',\n",
    "       'Nematodes', 'Fishes']"
   ]
  },
  {
   "cell_type": "code",
   "execution_count": 37,
   "metadata": {},
   "outputs": [],
   "source": [
    "Archaea = [\"Archaea\"]"
   ]
  },
  {
   "cell_type": "code",
   "execution_count": 38,
   "metadata": {},
   "outputs": [
    {
     "data": {
      "text/plain": [
       "8"
      ]
     },
     "execution_count": 38,
     "metadata": {},
     "output_type": "execute_result"
    }
   ],
   "source": [
    "len(monoderm)"
   ]
  },
  {
   "cell_type": "code",
   "execution_count": 39,
   "metadata": {},
   "outputs": [
    {
     "data": {
      "text/plain": [
       "20"
      ]
     },
     "execution_count": 39,
     "metadata": {},
     "output_type": "execute_result"
    }
   ],
   "source": [
    "len(diderm)"
   ]
  },
  {
   "cell_type": "code",
   "execution_count": 40,
   "metadata": {},
   "outputs": [
    {
     "data": {
      "text/plain": [
       "(15, 2)"
      ]
     },
     "execution_count": 40,
     "metadata": {},
     "output_type": "execute_result"
    }
   ],
   "source": [
    "OGs.loc[OGs.nog_phylum.isin(diderm)].shape"
   ]
  },
  {
   "cell_type": "code",
   "execution_count": 41,
   "metadata": {},
   "outputs": [
    {
     "data": {
      "text/plain": [
       "(7, 2)"
      ]
     },
     "execution_count": 41,
     "metadata": {},
     "output_type": "execute_result"
    }
   ],
   "source": [
    "OGs.loc[OGs.nog_phylum.isin(monoderm)].shape"
   ]
  },
  {
   "cell_type": "code",
   "execution_count": 42,
   "metadata": {},
   "outputs": [],
   "source": [
    "eggnog = eggnog.merge(OGs, on=\"nog_dataset\", how=\"left\")"
   ]
  },
  {
   "cell_type": "code",
   "execution_count": 43,
   "metadata": {},
   "outputs": [],
   "source": [
    "eggnog[\"plot_classification\"] = \"\""
   ]
  },
  {
   "cell_type": "code",
   "execution_count": 44,
   "metadata": {},
   "outputs": [],
   "source": [
    "eggnog.loc[((eggnog.kingdom == \"bact\") & (eggnog.taxa.isin(Unclassified_Bact)), \"plot_classification\")] = \"Unclassified_Bact\"\n",
    "eggnog.loc[((eggnog.kingdom == \"bact\") & (eggnog.nog_phylum.isin(monoderm)), \"plot_classification\")] = \"monoderm\"\n",
    "eggnog.loc[((eggnog.kingdom == \"bact\") & (eggnog.nog_phylum.isin(diderm)), \"plot_classification\")] = \"diderm\"\n",
    "\n",
    "eggnog.loc[((eggnog.kingdom == \"euk\") & (eggnog.taxa.isin(Eukaryotes)), \"plot_classification\")] = \"Eukaryotes\"\n",
    "eggnog.loc[((eggnog.kingdom == \"arch\") & (eggnog.taxa.isin(Archaea)), \"plot_classification\")] = \"Archaea\""
   ]
  },
  {
   "cell_type": "code",
   "execution_count": 45,
   "metadata": {},
   "outputs": [
    {
     "data": {
      "text/plain": [
       "array([], dtype=object)"
      ]
     },
     "execution_count": 45,
     "metadata": {},
     "output_type": "execute_result"
    }
   ],
   "source": [
    "eggnog.loc[eggnog.plot_classification == \"\", \"nog_phylum\"].unique()"
   ]
  },
  {
   "cell_type": "code",
   "execution_count": 46,
   "metadata": {},
   "outputs": [
    {
     "data": {
      "text/plain": [
       "array(['Eukaryotes', 'Unclassified_Bact', 'diderm', 'Archaea', 'monoderm'],\n",
       "      dtype=object)"
      ]
     },
     "execution_count": 46,
     "metadata": {},
     "output_type": "execute_result"
    }
   ],
   "source": [
    "eggnog.plot_classification.unique()"
   ]
  },
  {
   "cell_type": "code",
   "execution_count": 47,
   "metadata": {},
   "outputs": [
    {
     "data": {
      "text/plain": [
       "array(['Eukaryotes', 'Fungi', 'Mammals', 'Archaea', 'Viridiplantae',\n",
       "       'Animals', 'Opisthokonts', 'Apicomplexa', 'Arthropoda',\n",
       "       'Nematodes', 'Fishes'], dtype=object)"
      ]
     },
     "execution_count": 47,
     "metadata": {},
     "output_type": "execute_result"
    }
   ],
   "source": [
    "eggnog.loc[eggnog.kingdom != \"bact\", \"taxa\"].unique()"
   ]
  },
  {
   "cell_type": "code",
   "execution_count": 48,
   "metadata": {},
   "outputs": [
    {
     "data": {
      "text/html": [
       "<div>\n",
       "<style scoped>\n",
       "    .dataframe tbody tr th:only-of-type {\n",
       "        vertical-align: middle;\n",
       "    }\n",
       "\n",
       "    .dataframe tbody tr th {\n",
       "        vertical-align: top;\n",
       "    }\n",
       "\n",
       "    .dataframe thead th {\n",
       "        text-align: right;\n",
       "    }\n",
       "</style>\n",
       "<table border=\"1\" class=\"dataframe\">\n",
       "  <thead>\n",
       "    <tr style=\"text-align: right;\">\n",
       "      <th></th>\n",
       "      <th>BiGG</th>\n",
       "      <th>COG_cat</th>\n",
       "      <th>GO</th>\n",
       "      <th>KEGG</th>\n",
       "      <th>best_OG</th>\n",
       "      <th>eggNOG_Desc</th>\n",
       "      <th>eggNOGs</th>\n",
       "      <th>em_evalue</th>\n",
       "      <th>em_score</th>\n",
       "      <th>kingdom</th>\n",
       "      <th>name</th>\n",
       "      <th>nog_dataset</th>\n",
       "      <th>orf</th>\n",
       "      <th>seed_ortho</th>\n",
       "      <th>tax_scope</th>\n",
       "      <th>contig</th>\n",
       "      <th>taxa</th>\n",
       "      <th>nog_phylum</th>\n",
       "      <th>plot_classification</th>\n",
       "    </tr>\n",
       "  </thead>\n",
       "  <tbody>\n",
       "    <tr>\n",
       "      <th>0</th>\n",
       "      <td>NaN</td>\n",
       "      <td>L</td>\n",
       "      <td>GO:0000018,GO:0000019,GO:0000075,GO:0000109,GO...</td>\n",
       "      <td>K10843</td>\n",
       "      <td>KOG1123|6.29003587737e-32|95.4249572754</td>\n",
       "      <td>Dna repair helicase</td>\n",
       "      <td>COG1061@NOG,KOG1123@euNOG</td>\n",
       "      <td>3.100000e-25</td>\n",
       "      <td>82.5</td>\n",
       "      <td>euk</td>\n",
       "      <td>ERCC3</td>\n",
       "      <td>NaN</td>\n",
       "      <td>SAMEA2623919_2273661_1</td>\n",
       "      <td>5911.EAR85010</td>\n",
       "      <td>euNOG[57]</td>\n",
       "      <td>SAMEA2623919_2273661</td>\n",
       "      <td>Eukaryotes</td>\n",
       "      <td>NaN</td>\n",
       "      <td>Eukaryotes</td>\n",
       "    </tr>\n",
       "    <tr>\n",
       "      <th>1</th>\n",
       "      <td>NaN</td>\n",
       "      <td>T</td>\n",
       "      <td>GO:0000226,GO:0003674,GO:0003824,GO:0004672,GO...</td>\n",
       "      <td>K00889,K08286,K08857,K13712</td>\n",
       "      <td>0IP8V|4.36012232354e-41|117.290359497</td>\n",
       "      <td>whole genome shotgun sequence</td>\n",
       "      <td>0IMJW@euNOG,0IP8V@euNOG,COG0515@NOG,COG4642@NO...</td>\n",
       "      <td>5.900000e-34</td>\n",
       "      <td>111.5</td>\n",
       "      <td>euk</td>\n",
       "      <td>PIP5KL1</td>\n",
       "      <td>NaN</td>\n",
       "      <td>SAMEA2623919_2256086_9</td>\n",
       "      <td>5911.EAR95086</td>\n",
       "      <td>euNOG[57]</td>\n",
       "      <td>SAMEA2623919_2256086</td>\n",
       "      <td>Eukaryotes</td>\n",
       "      <td>NaN</td>\n",
       "      <td>Eukaryotes</td>\n",
       "    </tr>\n",
       "    <tr>\n",
       "      <th>2</th>\n",
       "      <td>NaN</td>\n",
       "      <td>L</td>\n",
       "      <td>GO:0000002,GO:0000166,GO:0000228,GO:0000723,GO...</td>\n",
       "      <td>K15255</td>\n",
       "      <td>12Q40|1.00752482066e-54|181.190750122</td>\n",
       "      <td>PIF1 5'-to-3' DNA helicase homolog (S. cerevis...</td>\n",
       "      <td>03JBD@ascNOG,0PGDJ@fuNOG,12Q40@opiNOG,COG0507@...</td>\n",
       "      <td>3.200000e-31</td>\n",
       "      <td>102.1</td>\n",
       "      <td>euk</td>\n",
       "      <td>FG05522.1</td>\n",
       "      <td>NaN</td>\n",
       "      <td>SAMEA2623919_1299782_8</td>\n",
       "      <td>4896.SPBC887.14c.1</td>\n",
       "      <td>fuNOG[21]</td>\n",
       "      <td>SAMEA2623919_1299782</td>\n",
       "      <td>Fungi</td>\n",
       "      <td>NaN</td>\n",
       "      <td>Eukaryotes</td>\n",
       "    </tr>\n",
       "    <tr>\n",
       "      <th>3</th>\n",
       "      <td>ENO</td>\n",
       "      <td>G</td>\n",
       "      <td>GO:0005575,GO:0005576,GO:0005622,GO:0005623,GO...</td>\n",
       "      <td>K01689</td>\n",
       "      <td>05C70|2.57585781835e-213|711.770263672</td>\n",
       "      <td>Catalyzes the reversible conversion of 2- phos...</td>\n",
       "      <td>05C70@bactNOG,099YR@bctoNOG,0P7QI@flaNOG,COG01...</td>\n",
       "      <td>6.500000e-206</td>\n",
       "      <td>680.4</td>\n",
       "      <td>bact</td>\n",
       "      <td>ENO</td>\n",
       "      <td>bctoNOG;flaNOG</td>\n",
       "      <td>SAMEA2623919_1141576_1</td>\n",
       "      <td>411154.GFO_2809</td>\n",
       "      <td>bactNOG[38]</td>\n",
       "      <td>SAMEA2623919_1141576</td>\n",
       "      <td>Bacteria</td>\n",
       "      <td>NaN</td>\n",
       "      <td>Unclassified_Bact</td>\n",
       "    </tr>\n",
       "    <tr>\n",
       "      <th>4</th>\n",
       "      <td>ADSS</td>\n",
       "      <td>F</td>\n",
       "      <td>GO:0005575,GO:0005622,GO:0005623,GO:0005737,GO...</td>\n",
       "      <td>K01939</td>\n",
       "      <td>05C91|2.29089421284e-186|623.047973633</td>\n",
       "      <td>Plays an important role in the de novo pathway...</td>\n",
       "      <td>01Q8W@aproNOG,05C91@bactNOG,16PIX@proNOG,COG01...</td>\n",
       "      <td>5.100000e-172</td>\n",
       "      <td>568.9</td>\n",
       "      <td>bact</td>\n",
       "      <td>PURA</td>\n",
       "      <td>proNOG</td>\n",
       "      <td>SAMEA2623868_3012728_14</td>\n",
       "      <td>582899.Hden_2405</td>\n",
       "      <td>bactNOG[38]</td>\n",
       "      <td>SAMEA2623868_3012728</td>\n",
       "      <td>Bacteria</td>\n",
       "      <td>Proteobacteria</td>\n",
       "      <td>diderm</td>\n",
       "    </tr>\n",
       "  </tbody>\n",
       "</table>\n",
       "</div>"
      ],
      "text/plain": [
       "   BiGG COG_cat                                                 GO  \\\n",
       "0   NaN       L  GO:0000018,GO:0000019,GO:0000075,GO:0000109,GO...   \n",
       "1   NaN       T  GO:0000226,GO:0003674,GO:0003824,GO:0004672,GO...   \n",
       "2   NaN       L  GO:0000002,GO:0000166,GO:0000228,GO:0000723,GO...   \n",
       "3   ENO       G  GO:0005575,GO:0005576,GO:0005622,GO:0005623,GO...   \n",
       "4  ADSS       F  GO:0005575,GO:0005622,GO:0005623,GO:0005737,GO...   \n",
       "\n",
       "                          KEGG                                  best_OG  \\\n",
       "0                       K10843  KOG1123|6.29003587737e-32|95.4249572754   \n",
       "1  K00889,K08286,K08857,K13712    0IP8V|4.36012232354e-41|117.290359497   \n",
       "2                       K15255    12Q40|1.00752482066e-54|181.190750122   \n",
       "3                       K01689   05C70|2.57585781835e-213|711.770263672   \n",
       "4                       K01939   05C91|2.29089421284e-186|623.047973633   \n",
       "\n",
       "                                         eggNOG_Desc  \\\n",
       "0                                Dna repair helicase   \n",
       "1                      whole genome shotgun sequence   \n",
       "2  PIF1 5'-to-3' DNA helicase homolog (S. cerevis...   \n",
       "3  Catalyzes the reversible conversion of 2- phos...   \n",
       "4  Plays an important role in the de novo pathway...   \n",
       "\n",
       "                                             eggNOGs      em_evalue  em_score  \\\n",
       "0                          COG1061@NOG,KOG1123@euNOG   3.100000e-25      82.5   \n",
       "1  0IMJW@euNOG,0IP8V@euNOG,COG0515@NOG,COG4642@NO...   5.900000e-34     111.5   \n",
       "2  03JBD@ascNOG,0PGDJ@fuNOG,12Q40@opiNOG,COG0507@...   3.200000e-31     102.1   \n",
       "3  05C70@bactNOG,099YR@bctoNOG,0P7QI@flaNOG,COG01...  6.500000e-206     680.4   \n",
       "4  01Q8W@aproNOG,05C91@bactNOG,16PIX@proNOG,COG01...  5.100000e-172     568.9   \n",
       "\n",
       "  kingdom       name     nog_dataset                      orf  \\\n",
       "0     euk      ERCC3             NaN   SAMEA2623919_2273661_1   \n",
       "1     euk    PIP5KL1             NaN   SAMEA2623919_2256086_9   \n",
       "2     euk  FG05522.1             NaN   SAMEA2623919_1299782_8   \n",
       "3    bact        ENO  bctoNOG;flaNOG   SAMEA2623919_1141576_1   \n",
       "4    bact       PURA          proNOG  SAMEA2623868_3012728_14   \n",
       "\n",
       "           seed_ortho    tax_scope                contig        taxa  \\\n",
       "0       5911.EAR85010    euNOG[57]  SAMEA2623919_2273661  Eukaryotes   \n",
       "1       5911.EAR95086    euNOG[57]  SAMEA2623919_2256086  Eukaryotes   \n",
       "2  4896.SPBC887.14c.1    fuNOG[21]  SAMEA2623919_1299782       Fungi   \n",
       "3     411154.GFO_2809  bactNOG[38]  SAMEA2623919_1141576    Bacteria   \n",
       "4    582899.Hden_2405  bactNOG[38]  SAMEA2623868_3012728    Bacteria   \n",
       "\n",
       "       nog_phylum plot_classification  \n",
       "0             NaN          Eukaryotes  \n",
       "1             NaN          Eukaryotes  \n",
       "2             NaN          Eukaryotes  \n",
       "3             NaN   Unclassified_Bact  \n",
       "4  Proteobacteria              diderm  "
      ]
     },
     "execution_count": 48,
     "metadata": {},
     "output_type": "execute_result"
    }
   ],
   "source": [
    "eggnog.head()"
   ]
  },
  {
   "cell_type": "code",
   "execution_count": 49,
   "metadata": {},
   "outputs": [],
   "source": [
    "eggnog.to_csv(\"./data/emapper/eggnog_non_viral_rhodo_contigs_annotation.tsv\", index=False, sep=\"\\t\")"
   ]
  },
  {
   "cell_type": "code",
   "execution_count": null,
   "metadata": {},
   "outputs": [],
   "source": []
  }
 ],
 "metadata": {
  "kernelspec": {
   "display_name": "Python 3",
   "language": "python",
   "name": "python3"
  },
  "language_info": {
   "codemirror_mode": {
    "name": "ipython",
    "version": 3
   },
   "file_extension": ".py",
   "mimetype": "text/x-python",
   "name": "python",
   "nbconvert_exporter": "python",
   "pygments_lexer": "ipython3",
   "version": "3.6.5"
  }
 },
 "nbformat": 4,
 "nbformat_minor": 2
}
